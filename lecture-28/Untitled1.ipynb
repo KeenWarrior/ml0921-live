{
 "cells": [
  {
   "cell_type": "code",
   "execution_count": 16,
   "id": "a0cd99df-9e9f-434b-90ad-ea540315fdce",
   "metadata": {},
   "outputs": [],
   "source": [
    "import numpy as np"
   ]
  },
  {
   "cell_type": "code",
   "execution_count": 1,
   "id": "77453acf-df5d-4a8b-be8f-c142467fd768",
   "metadata": {},
   "outputs": [],
   "source": [
    "with open(\"../data/alchemist.txt\") as f:\n",
    "    text = f.read()a"
   ]
  },
  {
   "cell_type": "code",
   "execution_count": 6,
   "id": "e972e69d-9178-43e4-8686-faab510eb5ce",
   "metadata": {},
   "outputs": [],
   "source": [
    "text = text.lower()"
   ]
  },
  {
   "cell_type": "code",
   "execution_count": 7,
   "id": "49f2e764-d816-4dde-86de-f1b82e57dac7",
   "metadata": {},
   "outputs": [],
   "source": [
    "import string"
   ]
  },
  {
   "cell_type": "code",
   "execution_count": 8,
   "id": "d04dc685-582d-44fa-8e18-f01480201b4b",
   "metadata": {},
   "outputs": [],
   "source": [
    "items = set(string.ascii_lowercase)"
   ]
  },
  {
   "cell_type": "code",
   "execution_count": 11,
   "id": "8182ebf8-ec1e-4a7f-85de-84432bd5f00b",
   "metadata": {},
   "outputs": [],
   "source": [
    "items.add(\" \")\n",
    "items.add(\"\\n\")"
   ]
  },
  {
   "cell_type": "code",
   "execution_count": 13,
   "id": "31aabd49-3ae0-417f-bfc1-7ffc4a225175",
   "metadata": {},
   "outputs": [],
   "source": [
    "filtered = [ch for ch in text if ch in items]"
   ]
  },
  {
   "cell_type": "code",
   "execution_count": 20,
   "id": "0907b27a-6784-4193-af64-f769ff97c3b7",
   "metadata": {},
   "outputs": [],
   "source": [
    "out = np.lib.stride_tricks.sliding_window_view(filtered, (10))"
   ]
  },
  {
   "cell_type": "code",
   "execution_count": 22,
   "id": "3c5c7ead-9cb3-4b1e-bb46-1611c31f9fe0",
   "metadata": {},
   "outputs": [
    {
     "data": {
      "text/plain": [
       "(204453, 10)"
      ]
     },
     "execution_count": 22,
     "metadata": {},
     "output_type": "execute_result"
    }
   ],
   "source": [
    "out.shape"
   ]
  },
  {
   "cell_type": "code",
   "execution_count": null,
   "id": "9cc4ce9a-2801-4a32-b2e5-1dd05e8dd62e",
   "metadata": {},
   "outputs": [],
   "source": []
  }
 ],
 "metadata": {
  "kernelspec": {
   "display_name": "Python 3",
   "language": "python",
   "name": "python3"
  },
  "language_info": {
   "codemirror_mode": {
    "name": "ipython",
    "version": 3
   },
   "file_extension": ".py",
   "mimetype": "text/x-python",
   "name": "python",
   "nbconvert_exporter": "python",
   "pygments_lexer": "ipython3",
   "version": "3.8.8"
  }
 },
 "nbformat": 4,
 "nbformat_minor": 5
}
