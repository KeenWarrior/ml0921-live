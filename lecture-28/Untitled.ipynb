{
 "cells": [
  {
   "cell_type": "code",
   "execution_count": 1,
   "id": "43aeee6c-5bd7-4fb6-8395-cbfd49c70d02",
   "metadata": {},
   "outputs": [],
   "source": [
    "import tensorflow"
   ]
  },
  {
   "cell_type": "code",
   "execution_count": 14,
   "id": "50eaa292-f9d3-480c-9d4e-f5ac6ca6a932",
   "metadata": {},
   "outputs": [],
   "source": [
    "# desired_samples = 16000"
   ]
  },
  {
   "cell_type": "code",
   "execution_count": 2,
   "id": "9a7f8af5-ff7d-4632-aaee-308b1df566ac",
   "metadata": {},
   "outputs": [],
   "source": [
    "soundfile = tensorflow.io.read_file(\"./coins.wav\")"
   ]
  },
  {
   "cell_type": "code",
   "execution_count": 3,
   "id": "dacf1efd-c1c5-4b44-8621-53813798784c",
   "metadata": {},
   "outputs": [],
   "source": [
    "audio, rate = tensorflow.audio.decode_wav(soundfile, 2)"
   ]
  },
  {
   "cell_type": "code",
   "execution_count": 8,
   "id": "1a75eb20-d947-48bd-97ee-4f826aa2a2dc",
   "metadata": {},
   "outputs": [
    {
     "data": {
      "text/plain": [
       "-0.46850586"
      ]
     },
     "execution_count": 8,
     "metadata": {},
     "output_type": "execute_result"
    }
   ],
   "source": [
    "audio.numpy().min()"
   ]
  },
  {
   "cell_type": "code",
   "execution_count": 5,
   "id": "7b21a147-9615-4e77-8732-b01d89da1ccd",
   "metadata": {},
   "outputs": [
    {
     "data": {
      "text/plain": [
       "<tf.Tensor: shape=(), dtype=int32, numpy=48000>"
      ]
     },
     "execution_count": 5,
     "metadata": {},
     "output_type": "execute_result"
    }
   ],
   "source": [
    "rate"
   ]
  },
  {
   "cell_type": "code",
   "execution_count": 43,
   "id": "348a064b-0bc0-42c0-a602-5ad2db31afc8",
   "metadata": {},
   "outputs": [],
   "source": [
    "# encoded = tensorflow.audio.encode_wav(audio, rate)\n",
    "# tensorflow.io.write_file(\"test.wav\", encoded)"
   ]
  },
  {
   "cell_type": "code",
   "execution_count": 40,
   "id": "25e5dcf9-65d7-41b2-a1ee-32982aa29b19",
   "metadata": {},
   "outputs": [
    {
     "data": {
      "text/plain": [
       "\u001b[0;31mSignature:\u001b[0m\n",
       "\u001b[0mtensorflow\u001b[0m\u001b[0;34m.\u001b[0m\u001b[0maudio\u001b[0m\u001b[0;34m.\u001b[0m\u001b[0mdecode_wav\u001b[0m\u001b[0;34m(\u001b[0m\u001b[0;34m\u001b[0m\n",
       "\u001b[0;34m\u001b[0m    \u001b[0mcontents\u001b[0m\u001b[0;34m,\u001b[0m\u001b[0;34m\u001b[0m\n",
       "\u001b[0;34m\u001b[0m    \u001b[0mdesired_channels\u001b[0m\u001b[0;34m=\u001b[0m\u001b[0;34m-\u001b[0m\u001b[0;36m1\u001b[0m\u001b[0;34m,\u001b[0m\u001b[0;34m\u001b[0m\n",
       "\u001b[0;34m\u001b[0m    \u001b[0mdesired_samples\u001b[0m\u001b[0;34m=\u001b[0m\u001b[0;34m-\u001b[0m\u001b[0;36m1\u001b[0m\u001b[0;34m,\u001b[0m\u001b[0;34m\u001b[0m\n",
       "\u001b[0;34m\u001b[0m    \u001b[0mname\u001b[0m\u001b[0;34m=\u001b[0m\u001b[0;32mNone\u001b[0m\u001b[0;34m,\u001b[0m\u001b[0;34m\u001b[0m\n",
       "\u001b[0;34m\u001b[0m\u001b[0;34m)\u001b[0m\u001b[0;34m\u001b[0m\u001b[0;34m\u001b[0m\u001b[0m\n",
       "\u001b[0;31mDocstring:\u001b[0m\n",
       "Decode a 16-bit PCM WAV file to a float tensor.\n",
       "\n",
       "The -32768 to 32767 signed 16-bit values will be scaled to -1.0 to 1.0 in float.\n",
       "\n",
       "When desired_channels is set, if the input contains fewer channels than this\n",
       "then the last channel will be duplicated to give the requested number, else if\n",
       "the input has more channels than requested then the additional channels will be\n",
       "ignored.\n",
       "\n",
       "If desired_samples is set, then the audio will be cropped or padded with zeroes\n",
       "to the requested length.\n",
       "\n",
       "The first output contains a Tensor with the content of the audio samples. The\n",
       "lowest dimension will be the number of channels, and the second will be the\n",
       "number of samples. For example, a ten-sample-long stereo WAV file should give an\n",
       "output shape of [10, 2].\n",
       "\n",
       "Args:\n",
       "  contents: A `Tensor` of type `string`.\n",
       "    The WAV-encoded audio, usually from a file.\n",
       "  desired_channels: An optional `int`. Defaults to `-1`.\n",
       "    Number of sample channels wanted.\n",
       "  desired_samples: An optional `int`. Defaults to `-1`.\n",
       "    Length of audio requested.\n",
       "  name: A name for the operation (optional).\n",
       "\n",
       "Returns:\n",
       "  A tuple of `Tensor` objects (audio, sample_rate).\n",
       "\n",
       "  audio: A `Tensor` of type `float32`.\n",
       "  sample_rate: A `Tensor` of type `int32`.\n",
       "\u001b[0;31mFile:\u001b[0m      /Users/ganga/opt/anaconda3/lib/python3.8/site-packages/tensorflow/python/ops/gen_audio_ops.py\n",
       "\u001b[0;31mType:\u001b[0m      function\n"
      ]
     },
     "metadata": {},
     "output_type": "display_data"
    }
   ],
   "source": [
    "tensorflow.audio.decode_wav?"
   ]
  },
  {
   "cell_type": "code",
   "execution_count": 44,
   "id": "62905863-61d7-4973-8803-d29533ef21a1",
   "metadata": {},
   "outputs": [],
   "source": [
    "array = audio.numpy()"
   ]
  },
  {
   "cell_type": "code",
   "execution_count": 50,
   "id": "4089ed80-bc04-453f-949e-74c029767aed",
   "metadata": {},
   "outputs": [
    {
     "data": {
      "text/plain": [
       "array([[[0., 0., 0., ..., 0., 0., 0.],\n",
       "        [0., 0., 0., ..., 0., 0., 0.]],\n",
       "\n",
       "       [[0., 0., 0., ..., 0., 0., 0.],\n",
       "        [0., 0., 0., ..., 0., 0., 0.]],\n",
       "\n",
       "       [[0., 0., 0., ..., 0., 0., 0.],\n",
       "        [0., 0., 0., ..., 0., 0., 0.]],\n",
       "\n",
       "       ...,\n",
       "\n",
       "       [[0., 0., 0., ..., 0., 0., 0.],\n",
       "        [0., 0., 0., ..., 0., 0., 0.]],\n",
       "\n",
       "       [[0., 0., 0., ..., 0., 0., 0.],\n",
       "        [0., 0., 0., ..., 0., 0., 0.]],\n",
       "\n",
       "       [[0., 0., 0., ..., 0., 0., 0.],\n",
       "        [0., 0., 0., ..., 0., 0., 0.]]], dtype=float32)"
      ]
     },
     "execution_count": 50,
     "metadata": {},
     "output_type": "execute_result"
    }
   ],
   "source": [
    "np.lib.stride_tricks.as_strided(array, (10, 2, 100), (1, 0, 0))"
   ]
  },
  {
   "cell_type": "code",
   "execution_count": 51,
   "id": "481eed5e-5f8e-4a3e-89b7-847a2f8704f9",
   "metadata": {},
   "outputs": [],
   "source": [
    "arr = np.arange(200).reshape(100, 2)"
   ]
  },
  {
   "cell_type": "code",
   "execution_count": 56,
   "id": "f09932d6-a905-48bb-88cb-3c7e78c7930a",
   "metadata": {},
   "outputs": [],
   "source": [
    "out = np.lib.stride_tricks.as_strided(arr, strides=(1, 0))"
   ]
  },
  {
   "cell_type": "code",
   "execution_count": 57,
   "id": "a4bee3be-f6c8-4cb1-82ce-cc0daf77d8cb",
   "metadata": {},
   "outputs": [
    {
     "data": {
      "text/plain": [
       "(100, 2)"
      ]
     },
     "execution_count": 57,
     "metadata": {},
     "output_type": "execute_result"
    }
   ],
   "source": [
    "out.shape"
   ]
  },
  {
   "cell_type": "code",
   "execution_count": 63,
   "id": "e5f4839e-99e0-4ea4-9a18-df140ec362aa",
   "metadata": {},
   "outputs": [],
   "source": [
    "out = np.lib.stride_tricks.sliding_window_view(arr, (10, 2))"
   ]
  },
  {
   "cell_type": "code",
   "execution_count": 61,
   "id": "3d7cfd61-bd82-48b5-9f08-269230fba1fb",
   "metadata": {},
   "outputs": [
    {
     "data": {
      "text/plain": [
       "(91, 1, 10, 2)"
      ]
     },
     "execution_count": 61,
     "metadata": {},
     "output_type": "execute_result"
    }
   ],
   "source": [
    "out.shape"
   ]
  },
  {
   "cell_type": "code",
   "execution_count": null,
   "id": "6b2b4247-5587-4eed-800a-875a55f892e8",
   "metadata": {},
   "outputs": [],
   "source": []
  }
 ],
 "metadata": {
  "kernelspec": {
   "display_name": "Python 3",
   "language": "python",
   "name": "python3"
  },
  "language_info": {
   "codemirror_mode": {
    "name": "ipython",
    "version": 3
   },
   "file_extension": ".py",
   "mimetype": "text/x-python",
   "name": "python",
   "nbconvert_exporter": "python",
   "pygments_lexer": "ipython3",
   "version": "3.8.8"
  }
 },
 "nbformat": 4,
 "nbformat_minor": 5
}
