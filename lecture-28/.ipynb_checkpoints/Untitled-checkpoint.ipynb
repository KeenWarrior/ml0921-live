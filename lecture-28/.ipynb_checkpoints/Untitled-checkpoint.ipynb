{
 "cells": [
  {
   "cell_type": "code",
   "execution_count": 1,
   "id": "43aeee6c-5bd7-4fb6-8395-cbfd49c70d02",
   "metadata": {},
   "outputs": [],
   "source": [
    "import tensorflow"
   ]
  },
  {
   "cell_type": "code",
   "execution_count": 14,
   "id": "50eaa292-f9d3-480c-9d4e-f5ac6ca6a932",
   "metadata": {},
   "outputs": [],
   "source": [
    "desired_samples = 16000"
   ]
  },
  {
   "cell_type": "code",
   "execution_count": 10,
   "id": "9a7f8af5-ff7d-4632-aaee-308b1df566ac",
   "metadata": {},
   "outputs": [],
   "source": [
    "soundfile = tensorflow.io.read_file(\"./coins.wav\")"
   ]
  },
  {
   "cell_type": "code",
   "execution_count": 25,
   "id": "dacf1efd-c1c5-4b44-8621-53813798784c",
   "metadata": {},
   "outputs": [],
   "source": [
    "audio, _ = tensorflow.audio.decode_wav(soundfile, 2, desired_samples)"
   ]
  },
  {
   "cell_type": "code",
   "execution_count": 26,
   "id": "9734ad70-e421-4d11-b642-f587e0dea550",
   "metadata": {},
   "outputs": [],
   "source": [
    "arr = audio.numpy()"
   ]
  },
  {
   "cell_type": "code",
   "execution_count": 27,
   "id": "1373dcc4-926e-4245-aa83-6ff594882bd4",
   "metadata": {},
   "outputs": [
    {
     "data": {
      "text/plain": [
       "\u001b[0;31mSignature:\u001b[0m\n",
       "\u001b[0mtensorflow\u001b[0m\u001b[0;34m.\u001b[0m\u001b[0maudio\u001b[0m\u001b[0;34m.\u001b[0m\u001b[0mdecode_wav\u001b[0m\u001b[0;34m(\u001b[0m\u001b[0;34m\u001b[0m\n",
       "\u001b[0;34m\u001b[0m    \u001b[0mcontents\u001b[0m\u001b[0;34m,\u001b[0m\u001b[0;34m\u001b[0m\n",
       "\u001b[0;34m\u001b[0m    \u001b[0mdesired_channels\u001b[0m\u001b[0;34m=\u001b[0m\u001b[0;34m-\u001b[0m\u001b[0;36m1\u001b[0m\u001b[0;34m,\u001b[0m\u001b[0;34m\u001b[0m\n",
       "\u001b[0;34m\u001b[0m    \u001b[0mdesired_samples\u001b[0m\u001b[0;34m=\u001b[0m\u001b[0;34m-\u001b[0m\u001b[0;36m1\u001b[0m\u001b[0;34m,\u001b[0m\u001b[0;34m\u001b[0m\n",
       "\u001b[0;34m\u001b[0m    \u001b[0mname\u001b[0m\u001b[0;34m=\u001b[0m\u001b[0;32mNone\u001b[0m\u001b[0;34m,\u001b[0m\u001b[0;34m\u001b[0m\n",
       "\u001b[0;34m\u001b[0m\u001b[0;34m)\u001b[0m\u001b[0;34m\u001b[0m\u001b[0;34m\u001b[0m\u001b[0m\n",
       "\u001b[0;31mDocstring:\u001b[0m\n",
       "Decode a 16-bit PCM WAV file to a float tensor.\n",
       "\n",
       "The -32768 to 32767 signed 16-bit values will be scaled to -1.0 to 1.0 in float.\n",
       "\n",
       "When desired_channels is set, if the input contains fewer channels than this\n",
       "then the last channel will be duplicated to give the requested number, else if\n",
       "the input has more channels than requested then the additional channels will be\n",
       "ignored.\n",
       "\n",
       "If desired_samples is set, then the audio will be cropped or padded with zeroes\n",
       "to the requested length.\n",
       "\n",
       "The first output contains a Tensor with the content of the audio samples. The\n",
       "lowest dimension will be the number of channels, and the second will be the\n",
       "number of samples. For example, a ten-sample-long stereo WAV file should give an\n",
       "output shape of [10, 2].\n",
       "\n",
       "Args:\n",
       "  contents: A `Tensor` of type `string`.\n",
       "    The WAV-encoded audio, usually from a file.\n",
       "  desired_channels: An optional `int`. Defaults to `-1`.\n",
       "    Number of sample channels wanted.\n",
       "  desired_samples: An optional `int`. Defaults to `-1`.\n",
       "    Length of audio requested.\n",
       "  name: A name for the operation (optional).\n",
       "\n",
       "Returns:\n",
       "  A tuple of `Tensor` objects (audio, sample_rate).\n",
       "\n",
       "  audio: A `Tensor` of type `float32`.\n",
       "  sample_rate: A `Tensor` of type `int32`.\n",
       "\u001b[0;31mFile:\u001b[0m      /Users/ganga/opt/anaconda3/lib/python3.8/site-packages/tensorflow/python/ops/gen_audio_ops.py\n",
       "\u001b[0;31mType:\u001b[0m      function\n"
      ]
     },
     "metadata": {},
     "output_type": "display_data"
    }
   ],
   "source": [
    "tensorflow.audio.decode_wav?"
   ]
  },
  {
   "cell_type": "code",
   "execution_count": 30,
   "id": "12c08998-8807-4298-b501-48eed846c053",
   "metadata": {},
   "outputs": [],
   "source": [
    "import numpy as np\n",
    "from scipy.io.wavfile import write\n",
    "write('test.wav', 1000, arr)"
   ]
  },
  {
   "cell_type": "code",
   "execution_count": 29,
   "id": "7673552f-5464-4b1b-92a9-d012221f7f55",
   "metadata": {},
   "outputs": [
    {
     "data": {
      "text/plain": [
       "\u001b[0;31mSignature:\u001b[0m \u001b[0mwrite\u001b[0m\u001b[0;34m(\u001b[0m\u001b[0mfilename\u001b[0m\u001b[0;34m,\u001b[0m \u001b[0mrate\u001b[0m\u001b[0;34m,\u001b[0m \u001b[0mdata\u001b[0m\u001b[0;34m)\u001b[0m\u001b[0;34m\u001b[0m\u001b[0;34m\u001b[0m\u001b[0m\n",
       "\u001b[0;31mDocstring:\u001b[0m\n",
       "Write a NumPy array as a WAV file.\n",
       "\n",
       "Parameters\n",
       "----------\n",
       "filename : string or open file handle\n",
       "    Output wav file.\n",
       "rate : int\n",
       "    The sample rate (in samples/sec).\n",
       "data : ndarray\n",
       "    A 1-D or 2-D NumPy array of either integer or float data-type.\n",
       "\n",
       "Notes\n",
       "-----\n",
       "* Writes a simple uncompressed WAV file.\n",
       "* To write multiple-channels, use a 2-D array of shape\n",
       "  (Nsamples, Nchannels).\n",
       "* The bits-per-sample and PCM/float will be determined by the data-type.\n",
       "\n",
       "Common data types: [1]_\n",
       "\n",
       "=====================  ===========  ===========  =============\n",
       "     WAV format            Min          Max       NumPy dtype\n",
       "=====================  ===========  ===========  =============\n",
       "32-bit floating-point  -1.0         +1.0         float32\n",
       "32-bit PCM             -2147483648  +2147483647  int32\n",
       "16-bit PCM             -32768       +32767       int16\n",
       "8-bit PCM              0            255          uint8\n",
       "=====================  ===========  ===========  =============\n",
       "\n",
       "Note that 8-bit PCM is unsigned.\n",
       "\n",
       "References\n",
       "----------\n",
       ".. [1] IBM Corporation and Microsoft Corporation, \"Multimedia Programming\n",
       "   Interface and Data Specifications 1.0\", section \"Data Format of the\n",
       "   Samples\", August 1991\n",
       "   http://www.tactilemedia.com/info/MCI_Control_Info.html\n",
       "\n",
       "Examples\n",
       "--------\n",
       "Create a 100Hz sine wave, sampled at 44100Hz.\n",
       "Write to 16-bit PCM, Mono.\n",
       "\n",
       ">>> from scipy.io.wavfile import write\n",
       ">>> samplerate = 44100; fs = 100\n",
       ">>> t = np.linspace(0., 1., samplerate)\n",
       ">>> amplitude = np.iinfo(np.int16).max\n",
       ">>> data = amplitude * np.sin(2. * np.pi * fs * t)\n",
       ">>> write(\"example.wav\", samplerate, data.astype(np.int16))\n",
       "\u001b[0;31mFile:\u001b[0m      /Users/ganga/opt/anaconda3/lib/python3.8/site-packages/scipy/io/wavfile.py\n",
       "\u001b[0;31mType:\u001b[0m      function\n"
      ]
     },
     "metadata": {},
     "output_type": "display_data"
    }
   ],
   "source": [
    "write?"
   ]
  },
  {
   "cell_type": "code",
   "execution_count": null,
   "id": "c2f9ce33-9984-49ce-92b6-ec8a2aa75931",
   "metadata": {},
   "outputs": [],
   "source": []
  },
  {
   "cell_type": "code",
   "execution_count": null,
   "id": "88642acb-768e-4c06-be07-90f204cb82b6",
   "metadata": {},
   "outputs": [],
   "source": []
  }
 ],
 "metadata": {
  "kernelspec": {
   "display_name": "Python 3",
   "language": "python",
   "name": "python3"
  },
  "language_info": {
   "codemirror_mode": {
    "name": "ipython",
    "version": 3
   },
   "file_extension": ".py",
   "mimetype": "text/x-python",
   "name": "python",
   "nbconvert_exporter": "python",
   "pygments_lexer": "ipython3",
   "version": "3.8.8"
  }
 },
 "nbformat": 4,
 "nbformat_minor": 5
}
