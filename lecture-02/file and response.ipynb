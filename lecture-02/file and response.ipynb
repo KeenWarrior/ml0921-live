{
 "cells": [
  {
   "cell_type": "code",
   "execution_count": null,
   "id": "19932731-4b90-4abb-b18c-d9f22bdece2e",
   "metadata": {},
   "outputs": [],
   "source": []
  },
  {
   "cell_type": "markdown",
   "id": "70a75331-507d-4b99-8535-580dc12b31e8",
   "metadata": {},
   "source": [
    "[This is awesome](https://google.com)"
   ]
  },
  {
   "cell_type": "markdown",
   "id": "8748ccb4-a2bb-4e3e-9b9d-87b38bb3dcfe",
   "metadata": {},
   "source": [
    "<img src=\"https://www.google.com/images/branding/googlelogo/2x/googlelogo_color_272x92dp.png\"/>"
   ]
  },
  {
   "cell_type": "code",
   "execution_count": 2,
   "id": "27a3215b-4711-4449-941e-a38e7107bc27",
   "metadata": {},
   "outputs": [],
   "source": [
    "a = 8\n",
    "b = 99"
   ]
  },
  {
   "cell_type": "code",
   "execution_count": 6,
   "id": "3b2b5399-2d31-4de9-bcf9-fc6b1ca79790",
   "metadata": {},
   "outputs": [
    {
     "name": "stdout",
     "output_type": "stream",
     "text": [
      "Hello stranger\n"
     ]
    }
   ],
   "source": [
    "def sayhello():\n",
    "    print(\"Hello stranger\")\n",
    "    \n",
    "sayhello()"
   ]
  },
  {
   "cell_type": "code",
   "execution_count": 5,
   "id": "92dbe3af-cd9a-4bb0-8284-134e857abf50",
   "metadata": {},
   "outputs": [
    {
     "name": "stdout",
     "output_type": "stream",
     "text": [
      "Hello stranger\n"
     ]
    }
   ],
   "source": []
  },
  {
   "cell_type": "code",
   "execution_count": 10,
   "id": "9e071f2a-e062-45be-8b54-7aaec2a20b41",
   "metadata": {},
   "outputs": [
    {
     "name": "stdin",
     "output_type": "stream",
     "text": [
      " 2020\n"
     ]
    },
    {
     "name": "stdout",
     "output_type": "stream",
     "text": [
      "leap year\n"
     ]
    }
   ],
   "source": [
    "year = int(input())\n",
    "\n",
    "if ((year % 4) == 0) and (not ((year % 100) == 0)):\n",
    "    print(\"leap year\")\n",
    "else:\n",
    "    print(\"not a leap year\")"
   ]
  },
  {
   "cell_type": "code",
   "execution_count": null,
   "id": "cc7922e6-68c3-4da5-b611-ab41d6223b35",
   "metadata": {},
   "outputs": [],
   "source": []
  },
  {
   "cell_type": "code",
   "execution_count": 11,
   "id": "173bc516-fce4-4324-a38a-a1b18d05b097",
   "metadata": {},
   "outputs": [],
   "source": [
    "import os"
   ]
  },
  {
   "cell_type": "code",
   "execution_count": 13,
   "id": "e0f47372-7f61-4905-96b5-3e2c5ba857da",
   "metadata": {},
   "outputs": [
    {
     "data": {
      "text/plain": [
       "False"
      ]
     },
     "execution_count": 13,
     "metadata": {},
     "output_type": "execute_result"
    }
   ],
   "source": [
    "os.path.exists(\"untitled.tx\")"
   ]
  },
  {
   "cell_type": "code",
   "execution_count": 26,
   "id": "2ecf4b4a-5b9b-41ee-8445-aa5478178b0d",
   "metadata": {},
   "outputs": [],
   "source": [
    "os.makedirs(\"1\", exist_ok=True)"
   ]
  },
  {
   "cell_type": "code",
   "execution_count": 16,
   "id": "0c6c7112-ac5e-4f1e-9322-5e801d047806",
   "metadata": {},
   "outputs": [],
   "source": [
    "os.rmdir(\"bingo/boom\")"
   ]
  },
  {
   "cell_type": "code",
   "execution_count": 17,
   "id": "a735dad0-ecb8-44aa-9334-a96ab01345ba",
   "metadata": {},
   "outputs": [],
   "source": [
    "os.rmdir(\"bingo\")"
   ]
  },
  {
   "cell_type": "code",
   "execution_count": null,
   "id": "d5ed95b8-0b59-4e8a-8597-2b12b163b1c5",
   "metadata": {},
   "outputs": [],
   "source": []
  },
  {
   "cell_type": "code",
   "execution_count": 33,
   "id": "16759e20-950c-40c8-b67d-838b3388a732",
   "metadata": {},
   "outputs": [],
   "source": [
    "fp = open(\"happy.txt\", \"wt\")"
   ]
  },
  {
   "cell_type": "code",
   "execution_count": 38,
   "id": "fab3bdfe-afca-40de-9e5f-c05992412933",
   "metadata": {},
   "outputs": [],
   "source": [
    "count = 0\n",
    "\n",
    "while count < 1000:\n",
    "    print(\"We are awesome\", file=fp)\n",
    "    count += 1"
   ]
  },
  {
   "cell_type": "code",
   "execution_count": 39,
   "id": "6059c34d-1a78-4aaf-a8ce-b562751bf430",
   "metadata": {},
   "outputs": [],
   "source": [
    "fp.flush()"
   ]
  },
  {
   "cell_type": "code",
   "execution_count": 41,
   "id": "de4a51d6-e6a0-4995-b6ee-bb95f4f5b8f0",
   "metadata": {},
   "outputs": [],
   "source": [
    "url = \"https://encrypted-tbn1.gstatic.com/images?q=tbn:ANd9GcQHCOW5jKP6kxOYbFYqrtnzxlpPLCQsSwDOhhG2I34hTHIRioFz\""
   ]
  },
  {
   "cell_type": "code",
   "execution_count": 42,
   "id": "da3ecbad-e79b-41b7-a68c-e470ec0476cb",
   "metadata": {},
   "outputs": [],
   "source": [
    "import requests"
   ]
  },
  {
   "cell_type": "code",
   "execution_count": 43,
   "id": "f634b2a5-938a-4b2c-b518-a83c72f1d4cf",
   "metadata": {},
   "outputs": [],
   "source": [
    "response = requests.get(url)"
   ]
  },
  {
   "cell_type": "code",
   "execution_count": 46,
   "id": "9527ad27-b7aa-48fe-8831-133a9da98d56",
   "metadata": {},
   "outputs": [],
   "source": [
    "fp = open(\"panda.png\", \"wb\")"
   ]
  },
  {
   "cell_type": "code",
   "execution_count": 47,
   "id": "d2969b31-dea2-47ce-a452-d2ad5984179d",
   "metadata": {},
   "outputs": [
    {
     "data": {
      "text/plain": [
       "45198"
      ]
     },
     "execution_count": 47,
     "metadata": {},
     "output_type": "execute_result"
    }
   ],
   "source": [
    "fp.write(response.content)"
   ]
  },
  {
   "cell_type": "code",
   "execution_count": 48,
   "id": "b7377124-8002-4772-ae65-a4cecf072b4b",
   "metadata": {},
   "outputs": [],
   "source": [
    "fp.close()"
   ]
  },
  {
   "cell_type": "code",
   "execution_count": null,
   "id": "223400b1-7d24-4f91-b5c0-f0f14c22ae4a",
   "metadata": {},
   "outputs": [],
   "source": []
  }
 ],
 "metadata": {
  "kernelspec": {
   "display_name": "Python 3",
   "language": "python",
   "name": "python3"
  },
  "language_info": {
   "codemirror_mode": {
    "name": "ipython",
    "version": 3
   },
   "file_extension": ".py",
   "mimetype": "text/x-python",
   "name": "python",
   "nbconvert_exporter": "python",
   "pygments_lexer": "ipython3",
   "version": "3.8.8"
  }
 },
 "nbformat": 4,
 "nbformat_minor": 5
}
