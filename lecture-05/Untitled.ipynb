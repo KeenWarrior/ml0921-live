{
 "cells": [
  {
   "cell_type": "code",
   "execution_count": 1,
   "id": "aaf82e50-ac33-4773-8983-9e5f39376e7d",
   "metadata": {},
   "outputs": [],
   "source": [
    "import numpy as np"
   ]
  },
  {
   "cell_type": "code",
   "execution_count": 6,
   "id": "05aa43a6-744f-441a-9ede-b9aad8158ff6",
   "metadata": {},
   "outputs": [],
   "source": [
    "output = np.array(23)"
   ]
  },
  {
   "cell_type": "code",
   "execution_count": 7,
   "id": "15d60ea1-67a4-43c0-bcd8-2bbaf1c3ee79",
   "metadata": {},
   "outputs": [
    {
     "data": {
      "text/plain": [
       "()"
      ]
     },
     "execution_count": 7,
     "metadata": {},
     "output_type": "execute_result"
    }
   ],
   "source": [
    "output.shape"
   ]
  },
  {
   "cell_type": "code",
   "execution_count": 8,
   "id": "855b82ba-7ace-48db-b0ae-683c98446c4b",
   "metadata": {},
   "outputs": [
    {
     "data": {
      "text/plain": [
       "array([0, 1, 2, 3, 4, 5, 6, 7, 8, 9])"
      ]
     },
     "execution_count": 8,
     "metadata": {},
     "output_type": "execute_result"
    }
   ],
   "source": [
    "np.array(range(10))"
   ]
  },
  {
   "cell_type": "code",
   "execution_count": 9,
   "id": "2b91c926-b486-4521-939a-6bdf3f38088e",
   "metadata": {},
   "outputs": [
    {
     "data": {
      "text/plain": [
       "array([[ 0,  1,  2,  3,  4,  5,  6,  7,  8,  9],\n",
       "       [90, 91, 92, 93, 94, 95, 96, 97, 98, 99]])"
      ]
     },
     "execution_count": 9,
     "metadata": {},
     "output_type": "execute_result"
    }
   ],
   "source": [
    "np.array([range(10), range(90, 100)])"
   ]
  },
  {
   "cell_type": "code",
   "execution_count": 11,
   "id": "30a252fb-3c4c-489f-979f-0dcd3a39744f",
   "metadata": {},
   "outputs": [
    {
     "name": "stderr",
     "output_type": "stream",
     "text": [
      "<ipython-input-11-8f9e1b18fee3>:1: VisibleDeprecationWarning: Creating an ndarray from ragged nested sequences (which is a list-or-tuple of lists-or-tuples-or ndarrays with different lengths or shapes) is deprecated. If you meant to do this, you must specify 'dtype=object' when creating the ndarray.\n",
      "  np.array([[2, 3, 4], [8, 9]])\n"
     ]
    },
    {
     "data": {
      "text/plain": [
       "array([list([2, 3, 4]), list([8, 9])], dtype=object)"
      ]
     },
     "execution_count": 11,
     "metadata": {},
     "output_type": "execute_result"
    }
   ],
   "source": [
    "np.array([[2, 3, 4], [8, 9]])"
   ]
  },
  {
   "cell_type": "code",
   "execution_count": 16,
   "id": "2a6f2313-e201-4fb1-84f1-da1fdd992f0b",
   "metadata": {},
   "outputs": [
    {
     "data": {
      "text/plain": [
       "array([[0., 0., 0., 0., 0., 0., 0., 0., 0., 0.],\n",
       "       [0., 0., 0., 0., 0., 0., 0., 0., 0., 0.],\n",
       "       [0., 0., 0., 0., 0., 0., 0., 0., 0., 0.],\n",
       "       [0., 0., 0., 0., 0., 0., 0., 0., 0., 0.],\n",
       "       [0., 0., 0., 0., 0., 0., 0., 0., 0., 0.],\n",
       "       [0., 0., 0., 0., 0., 0., 0., 0., 0., 0.],\n",
       "       [0., 0., 0., 0., 0., 0., 0., 0., 0., 0.],\n",
       "       [0., 0., 0., 0., 0., 0., 0., 0., 0., 0.],\n",
       "       [0., 0., 0., 0., 0., 0., 0., 0., 0., 0.],\n",
       "       [0., 0., 0., 0., 0., 0., 0., 0., 0., 0.]])"
      ]
     },
     "execution_count": 16,
     "metadata": {},
     "output_type": "execute_result"
    }
   ],
   "source": [
    "np.zeros([10, 10])"
   ]
  },
  {
   "cell_type": "code",
   "execution_count": 20,
   "id": "027c8fd6-e0e4-48f5-acc8-6ba043897117",
   "metadata": {},
   "outputs": [],
   "source": [
    "out = np.ones([3, 4])"
   ]
  },
  {
   "cell_type": "code",
   "execution_count": 19,
   "id": "e8981ddd-4dca-49cd-b6e0-bb3a9d314a25",
   "metadata": {},
   "outputs": [
    {
     "data": {
      "text/plain": [
       "array([[1, 1, 1, 1],\n",
       "       [1, 1, 1, 1],\n",
       "       [1, 1, 1, 1]])"
      ]
     },
     "execution_count": 19,
     "metadata": {},
     "output_type": "execute_result"
    }
   ],
   "source": [
    "np.ones([3, 4], dtype=int)"
   ]
  },
  {
   "cell_type": "code",
   "execution_count": 21,
   "id": "da5d36f0-673f-4d73-9088-7a0f7f08cf25",
   "metadata": {},
   "outputs": [
    {
     "data": {
      "text/plain": [
       "dtype('float64')"
      ]
     },
     "execution_count": 21,
     "metadata": {},
     "output_type": "execute_result"
    }
   ],
   "source": [
    "out.dtype"
   ]
  },
  {
   "cell_type": "code",
   "execution_count": 23,
   "id": "c0a6a488-0f1a-4aa0-b1aa-379f8ee655f8",
   "metadata": {},
   "outputs": [],
   "source": [
    "out = np.array(range(20))"
   ]
  },
  {
   "cell_type": "code",
   "execution_count": 24,
   "id": "4975839b-166a-48ca-a723-e2890be8ee1a",
   "metadata": {},
   "outputs": [
    {
     "data": {
      "text/plain": [
       "array([ 0,  1,  2,  3,  4,  5,  6,  7,  8,  9, 10, 11, 12, 13, 14, 15, 16,\n",
       "       17, 18, 19])"
      ]
     },
     "execution_count": 24,
     "metadata": {},
     "output_type": "execute_result"
    }
   ],
   "source": [
    "out"
   ]
  },
  {
   "cell_type": "code",
   "execution_count": 25,
   "id": "301f6ccb-aa19-4735-891e-35e7ed2291e5",
   "metadata": {},
   "outputs": [
    {
     "data": {
      "text/plain": [
       "(20,)"
      ]
     },
     "execution_count": 25,
     "metadata": {},
     "output_type": "execute_result"
    }
   ],
   "source": [
    "out.shape"
   ]
  },
  {
   "cell_type": "code",
   "execution_count": 36,
   "id": "313b91ac-0865-45d3-832c-ef287a97592c",
   "metadata": {},
   "outputs": [],
   "source": [
    "twod = out.reshape([4, 5])"
   ]
  },
  {
   "cell_type": "code",
   "execution_count": 35,
   "id": "f48c2c44-29ab-4bc5-86d2-9deb50275101",
   "metadata": {},
   "outputs": [
    {
     "data": {
      "text/plain": [
       "array([ 0,  1,  2,  3,  4,  5,  6,  7,  8,  9, 10, 11, 12, 13, 14, 15, 16,\n",
       "       17, 18, 19])"
      ]
     },
     "execution_count": 35,
     "metadata": {},
     "output_type": "execute_result"
    }
   ],
   "source": [
    "out"
   ]
  },
  {
   "cell_type": "code",
   "execution_count": 37,
   "id": "25c84669-9b49-4c0b-af11-9025f812553b",
   "metadata": {},
   "outputs": [
    {
     "data": {
      "text/plain": [
       "array([[ 0,  1,  2,  3,  4],\n",
       "       [ 5,  6,  7,  8,  9],\n",
       "       [10, 11, 12, 13, 14],\n",
       "       [15, 16, 17, 18, 19]])"
      ]
     },
     "execution_count": 37,
     "metadata": {},
     "output_type": "execute_result"
    }
   ],
   "source": [
    "twod"
   ]
  },
  {
   "cell_type": "code",
   "execution_count": 38,
   "id": "2052ec8f-31c5-4a85-af8c-82b4ff86c033",
   "metadata": {},
   "outputs": [],
   "source": [
    "out[0] = 1000"
   ]
  },
  {
   "cell_type": "code",
   "execution_count": 39,
   "id": "330f717c-2135-45fd-80b7-d159e88f2923",
   "metadata": {},
   "outputs": [
    {
     "data": {
      "text/plain": [
       "array([[1000,    1,    2,    3,    4],\n",
       "       [   5,    6,    7,    8,    9],\n",
       "       [  10,   11,   12,   13,   14],\n",
       "       [  15,   16,   17,   18,   19]])"
      ]
     },
     "execution_count": 39,
     "metadata": {},
     "output_type": "execute_result"
    }
   ],
   "source": [
    "twod"
   ]
  },
  {
   "cell_type": "code",
   "execution_count": null,
   "id": "1c2786cf-dffe-42ec-ac72-8f2ccfe970d2",
   "metadata": {},
   "outputs": [],
   "source": [
    "twod.copy()"
   ]
  },
  {
   "cell_type": "code",
   "execution_count": 40,
   "id": "8e72c507-326f-47a0-9967-7a560252c12a",
   "metadata": {},
   "outputs": [],
   "source": [
    "import matplotlib.pyplot as plt"
   ]
  },
  {
   "cell_type": "code",
   "execution_count": 41,
   "id": "75341d82-ec37-4f44-a50c-b23e00aa7a00",
   "metadata": {},
   "outputs": [],
   "source": []
  },
  {
   "cell_type": "code",
   "execution_count": 43,
   "id": "b0a78305-6abe-49dc-9936-b4c62e3125e8",
   "metadata": {},
   "outputs": [],
   "source": [
    "items = np.zeros(10, dtype=object)"
   ]
  },
  {
   "cell_type": "code",
   "execution_count": 44,
   "id": "ad9641ff-8db2-46f5-bcd1-177688eef089",
   "metadata": {},
   "outputs": [],
   "source": [
    "items[1] = \"hello\""
   ]
  },
  {
   "cell_type": "code",
   "execution_count": 45,
   "id": "ec86570f-9f8d-49da-a8ac-45b378552ca2",
   "metadata": {},
   "outputs": [
    {
     "data": {
      "text/plain": [
       "array([0, 'hello', 0, 0, 0, 0, 0, 0, 0, 0], dtype=object)"
      ]
     },
     "execution_count": 45,
     "metadata": {},
     "output_type": "execute_result"
    }
   ],
   "source": [
    "items"
   ]
  },
  {
   "cell_type": "code",
   "execution_count": 46,
   "id": "8a63fb5e-7688-46ea-a7df-d2c305374d93",
   "metadata": {},
   "outputs": [],
   "source": [
    "items[2] = (10, 230)"
   ]
  },
  {
   "cell_type": "code",
   "execution_count": 47,
   "id": "df9a0368-7b52-4f77-b18f-e1ebd365ab69",
   "metadata": {},
   "outputs": [
    {
     "data": {
      "text/plain": [
       "array([0, 'hello', (10, 230), 0, 0, 0, 0, 0, 0, 0], dtype=object)"
      ]
     },
     "execution_count": 47,
     "metadata": {},
     "output_type": "execute_result"
    }
   ],
   "source": [
    "items"
   ]
  },
  {
   "cell_type": "code",
   "execution_count": 48,
   "id": "4660cd7c-aaa2-4553-850f-c28fde07ac59",
   "metadata": {},
   "outputs": [
    {
     "data": {
      "text/plain": [
       "array([[0., 0., 0., 0., 0., 0., 0., 0., 0., 0.],\n",
       "       [0., 0., 0., 0., 0., 0., 0., 0., 0., 0.],\n",
       "       [0., 0., 0., 0., 0., 0., 0., 0., 0., 0.],\n",
       "       [0., 0., 0., 0., 0., 0., 0., 0., 0., 0.],\n",
       "       [0., 0., 0., 0., 0., 0., 0., 0., 0., 0.],\n",
       "       [0., 0., 0., 0., 0., 0., 0., 0., 0., 0.],\n",
       "       [0., 0., 0., 0., 0., 0., 0., 0., 0., 0.],\n",
       "       [0., 0., 0., 0., 0., 0., 0., 0., 0., 0.],\n",
       "       [0., 0., 0., 0., 0., 0., 0., 0., 0., 0.],\n",
       "       [0., 0., 0., 0., 0., 0., 0., 0., 0., 0.]])"
      ]
     },
     "execution_count": 48,
     "metadata": {},
     "output_type": "execute_result"
    }
   ],
   "source": [
    "black"
   ]
  },
  {
   "cell_type": "code",
   "execution_count": 61,
   "id": "cce02a2a-d34c-485f-b270-dfdfff3a3127",
   "metadata": {},
   "outputs": [
    {
     "data": {
      "text/plain": [
       "<matplotlib.image.AxesImage at 0x7fa7d2680100>"
      ]
     },
     "execution_count": 61,
     "metadata": {},
     "output_type": "execute_result"
    },
    {
     "data": {
      "image/png": "[encoded data removed]",
      "text/plain": [
       "<Figure size 432x288 with 1 Axes>"
      ]
     },
     "metadata": {
      "needs_background": "light"
     },
     "output_type": "display_data"
    }
   ],
   "source": [
    "black = np.arange(10000).reshape([100, 100])\n",
    "plt.imshow(black, cmap=\"gray\")"
   ]
  },
  {
   "cell_type": "code",
   "execution_count": 65,
   "id": "b37a5eab-1d20-4724-acca-9b2033961f7d",
   "metadata": {},
   "outputs": [],
   "source": [
    "black[-1] = 0"
   ]
  },
  {
   "cell_type": "code",
   "execution_count": 66,
   "id": "cf140283-00cd-45be-97ae-b5d25ce60f6e",
   "metadata": {},
   "outputs": [
    {
     "data": {
      "text/plain": [
       "array([0, 0, 0, 0, 0, 0, 0, 0, 0, 0, 0, 0, 0, 0, 0, 0, 0, 0, 0, 0, 0, 0,\n",
       "       0, 0, 0, 0, 0, 0, 0, 0, 0, 0, 0, 0, 0, 0, 0, 0, 0, 0, 0, 0, 0, 0,\n",
       "       0, 0, 0, 0, 0, 0, 0, 0, 0, 0, 0, 0, 0, 0, 0, 0, 0, 0, 0, 0, 0, 0,\n",
       "       0, 0, 0, 0, 0, 0, 0, 0, 0, 0, 0, 0, 0, 0, 0, 0, 0, 0, 0, 0, 0, 0,\n",
       "       0, 0, 0, 0, 0, 0, 0, 0, 0, 0, 0, 0])"
      ]
     },
     "execution_count": 66,
     "metadata": {},
     "output_type": "execute_result"
    }
   ],
   "source": [
    "black[-1]"
   ]
  },
  {
   "cell_type": "code",
   "execution_count": 67,
   "id": "d0db1d30-7d76-4fdd-b630-039521de8367",
   "metadata": {},
   "outputs": [
    {
     "data": {
      "text/plain": [
       "<matplotlib.image.AxesImage at 0x7fa7d2ea3bb0>"
      ]
     },
     "execution_count": 67,
     "metadata": {},
     "output_type": "execute_result"
    },
    {
     "data": {
      "image/png": "[encoded data removed]",
      "text/plain": [
       "<Figure size 432x288 with 1 Axes>"
      ]
     },
     "metadata": {
      "needs_background": "light"
     },
     "output_type": "display_data"
    }
   ],
   "source": [
    "plt.imshow(black, cmap=\"gray\")"
   ]
  },
  {
   "cell_type": "code",
   "execution_count": 68,
   "id": "524294d9-4b32-4249-b2dc-2775b361f674",
   "metadata": {},
   "outputs": [],
   "source": [
    "black[-20:] = 0"
   ]
  },
  {
   "cell_type": "code",
   "execution_count": 69,
   "id": "962f3f7d-3884-44c0-a89f-6ecff49a0201",
   "metadata": {},
   "outputs": [
    {
     "data": {
      "text/plain": [
       "<matplotlib.image.AxesImage at 0x7fa7d59d07f0>"
      ]
     },
     "execution_count": 69,
     "metadata": {},
     "output_type": "execute_result"
    },
    {
     "data": {
      "image/png": "[encoded data removed]",
      "text/plain": [
       "<Figure size 432x288 with 1 Axes>"
      ]
     },
     "metadata": {
      "needs_background": "light"
     },
     "output_type": "display_data"
    }
   ],
   "source": [
    "plt.imshow(black, cmap=\"gray\")"
   ]
  },
  {
   "cell_type": "code",
   "execution_count": 70,
   "id": "34edfb7a-4a0d-469d-8bb7-356039fb7ad9",
   "metadata": {},
   "outputs": [],
   "source": [
    "black[:, 40:60] = 0"
   ]
  },
  {
   "cell_type": "code",
   "execution_count": 71,
   "id": "a40fd24d-dc80-4905-b2e3-89e7c357f047",
   "metadata": {},
   "outputs": [
    {
     "data": {
      "text/plain": [
       "<matplotlib.image.AxesImage at 0x7fa7d5a46400>"
      ]
     },
     "execution_count": 71,
     "metadata": {},
     "output_type": "execute_result"
    },
    {
     "data": {
      "image/png": "[encoded data removed]",
      "text/plain": [
       "<Figure size 432x288 with 1 Axes>"
      ]
     },
     "metadata": {
      "needs_background": "light"
     },
     "output_type": "display_data"
    }
   ],
   "source": [
    "plt.imshow(black, cmap=\"gray\")"
   ]
  },
  {
   "cell_type": "code",
   "execution_count": 78,
   "id": "604b7b3c-a22a-4c39-9112-90bab9b57dfe",
   "metadata": {},
   "outputs": [],
   "source": [
    "empty = np.zeros([1000, 1000])"
   ]
  },
  {
   "cell_type": "code",
   "execution_count": 82,
   "id": "36a3e75b-1785-448c-b5eb-5337c524d5d6",
   "metadata": {},
   "outputs": [],
   "source": [
    "for i in range(1000):\n",
    "    for j in range(1000):  \n",
    "        empty[i, j] = ((((i-500)*(i-500)) + ((j-500)*(j-500))) ** .5) % 50"
   ]
  },
  {
   "cell_type": "code",
   "execution_count": 83,
   "id": "93b10c26-4825-4b79-b904-532175544423",
   "metadata": {},
   "outputs": [
    {
     "data": {
      "text/plain": [
       "<matplotlib.image.AxesImage at 0x7fa7d5622340>"
      ]
     },
     "execution_count": 83,
     "metadata": {},
     "output_type": "execute_result"
    },
    {
     "data": {
      "image/png": "[encoded data removed]",
      "text/plain": [
       "<Figure size 432x288 with 1 Axes>"
      ]
     },
     "metadata": {
      "needs_background": "light"
     },
     "output_type": "display_data"
    }
   ],
   "source": [
    "plt.imshow(empty, cmap=\"gray\")"
   ]
  },
  {
   "cell_type": "code",
   "execution_count": 86,
   "id": "317be097-eee9-48fd-89d4-afa5ea61e34b",
   "metadata": {},
   "outputs": [
    {
     "data": {
      "text/plain": [
       "array([ 0.,  1.,  2.,  3.,  4.,  5.,  6.,  7.,  8.,  9., 10.])"
      ]
     },
     "execution_count": 86,
     "metadata": {},
     "output_type": "execute_result"
    }
   ],
   "source": [
    "np.linspace(0, 10, 11)"
   ]
  },
  {
   "cell_type": "code",
   "execution_count": null,
   "id": "df626f6f-4473-47df-8459-2924ef08624b",
   "metadata": {},
   "outputs": [],
   "source": [
    "np.zeros(empty.shape)"
   ]
  }
 ],
 "metadata": {
  "kernelspec": {
   "display_name": "Python 3",
   "language": "python",
   "name": "python3"
  },
  "language_info": {
   "codemirror_mode": {
    "name": "ipython",
    "version": 3
   },
   "file_extension": ".py",
   "mimetype": "text/x-python",
   "name": "python",
   "nbconvert_exporter": "python",
   "pygments_lexer": "ipython3",
   "version": "3.8.8"
  }
 },
 "nbformat": 4,
 "nbformat_minor": 5
}
