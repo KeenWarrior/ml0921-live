{
 "cells": [
  {
   "cell_type": "code",
   "execution_count": 1,
   "id": "087679a6-2e26-4c11-bf73-0f29f8b1b4e6",
   "metadata": {},
   "outputs": [],
   "source": [
    "import tensorflow as tf"
   ]
  },
  {
   "cell_type": "code",
   "execution_count": 2,
   "id": "53442fac-24e3-4682-9fa0-c73122771134",
   "metadata": {},
   "outputs": [
    {
     "data": {
      "text/plain": [
       "'2.5.0'"
      ]
     },
     "execution_count": 2,
     "metadata": {},
     "output_type": "execute_result"
    }
   ],
   "source": [
    "tf.__version__"
   ]
  },
  {
   "cell_type": "code",
   "execution_count": 8,
   "id": "6153962b-4f2d-4490-9686-77e4961250d2",
   "metadata": {},
   "outputs": [],
   "source": [
    "from tensorflow.keras.datasets import mnist\n",
    "from tensorflow.keras.utils import to_categorical"
   ]
  },
  {
   "cell_type": "code",
   "execution_count": 5,
   "id": "9aff5e88-541c-4264-8d00-16fef7bf5fff",
   "metadata": {},
   "outputs": [
    {
     "name": "stdout",
     "output_type": "stream",
     "text": [
      "Downloading data from https://storage.googleapis.com/tensorflow/tf-keras-datasets/mnist.npz\n",
      "11493376/11490434 [==============================] - 2s 0us/step\n"
     ]
    }
   ],
   "source": [
    "(x_train, y_train), (x_test, y_test) = mnist.load_data()"
   ]
  },
  {
   "cell_type": "code",
   "execution_count": 6,
   "id": "590d0f7e-8ac0-4804-a4e3-dbdeb1693283",
   "metadata": {},
   "outputs": [
    {
     "data": {
      "text/plain": [
       "(60000, 28, 28)"
      ]
     },
     "execution_count": 6,
     "metadata": {},
     "output_type": "execute_result"
    }
   ],
   "source": [
    "x_train.shape"
   ]
  },
  {
   "cell_type": "code",
   "execution_count": 7,
   "id": "52ef5101-65d2-44de-9e52-c0c416beb42d",
   "metadata": {},
   "outputs": [
    {
     "data": {
      "text/plain": [
       "array([5, 0, 4, 1, 9, 2, 1, 3, 1, 4], dtype=uint8)"
      ]
     },
     "execution_count": 7,
     "metadata": {},
     "output_type": "execute_result"
    }
   ],
   "source": [
    "y_train[:10]"
   ]
  },
  {
   "cell_type": "code",
   "execution_count": 9,
   "id": "cba02dbe-2ddb-4986-83b4-7ba2714a11b6",
   "metadata": {},
   "outputs": [],
   "source": [
    "y_train_hot = to_categorical(y_train, num_classes=10)\n",
    "y_test_hot = to_categorical(y_test, num_classes=10)"
   ]
  },
  {
   "cell_type": "code",
   "execution_count": 10,
   "id": "282eb0c5-6371-48ff-a070-5a90af313a41",
   "metadata": {},
   "outputs": [
    {
     "data": {
      "text/plain": [
       "array([[0., 0., 0., 0., 0., 1., 0., 0., 0., 0.],\n",
       "       [1., 0., 0., 0., 0., 0., 0., 0., 0., 0.],\n",
       "       [0., 0., 0., 0., 1., 0., 0., 0., 0., 0.],\n",
       "       [0., 1., 0., 0., 0., 0., 0., 0., 0., 0.],\n",
       "       [0., 0., 0., 0., 0., 0., 0., 0., 0., 1.],\n",
       "       [0., 0., 1., 0., 0., 0., 0., 0., 0., 0.],\n",
       "       [0., 1., 0., 0., 0., 0., 0., 0., 0., 0.],\n",
       "       [0., 0., 0., 1., 0., 0., 0., 0., 0., 0.],\n",
       "       [0., 1., 0., 0., 0., 0., 0., 0., 0., 0.],\n",
       "       [0., 0., 0., 0., 1., 0., 0., 0., 0., 0.]], dtype=float32)"
      ]
     },
     "execution_count": 10,
     "metadata": {},
     "output_type": "execute_result"
    }
   ],
   "source": [
    "y_train_hot[:10]"
   ]
  },
  {
   "cell_type": "code",
   "execution_count": 11,
   "id": "a73454c5-d782-4db5-ac63-593acc995a00",
   "metadata": {},
   "outputs": [
    {
     "data": {
      "text/plain": [
       "array([5, 0, 4, 1, 9, 2, 1, 3, 1, 4], dtype=uint8)"
      ]
     },
     "execution_count": 11,
     "metadata": {},
     "output_type": "execute_result"
    }
   ],
   "source": [
    "y_train[:10]"
   ]
  },
  {
   "cell_type": "code",
   "execution_count": 12,
   "id": "cbd1596f-ec90-4fa7-9903-9adb568389be",
   "metadata": {},
   "outputs": [],
   "source": [
    "from tensorflow.keras.models import Model\n",
    "from tensorflow.keras.layers import Input, Dense, Reshape"
   ]
  },
  {
   "cell_type": "code",
   "execution_count": 66,
   "id": "ace1f02d-679b-4c64-af73-85588694a63b",
   "metadata": {},
   "outputs": [],
   "source": [
    "in_layer = Input(shape=[28, 28])\n",
    "reshape = Reshape([784])(in_layer)\n",
    "d1 = Dense(500, activation=\"relu\")(reshape)\n",
    "d2 = Dense(200, activation=\"relu\")(d1)\n",
    "d3 = Dense(50, activation=\"relu\")(d2)\n",
    "out_layer = Dense(10, activation=\"softmax\")(d3)"
   ]
  },
  {
   "cell_type": "code",
   "execution_count": 67,
   "id": "4d6d7c71-e5cb-4afd-9bdf-ffb59cae1718",
   "metadata": {},
   "outputs": [],
   "source": [
    "model = Model(in_layer, out_layer)"
   ]
  },
  {
   "cell_type": "code",
   "execution_count": 68,
   "id": "5e7f6a7d-5b6b-4ec6-a639-9ca738d9aee5",
   "metadata": {},
   "outputs": [
    {
     "name": "stdout",
     "output_type": "stream",
     "text": [
      "Model: \"model_3\"\n",
      "_________________________________________________________________\n",
      "Layer (type)                 Output Shape              Param #   \n",
      "=================================================================\n",
      "input_4 (InputLayer)         [(None, 28, 28)]          0         \n",
      "_________________________________________________________________\n",
      "reshape_3 (Reshape)          (None, 784)               0         \n",
      "_________________________________________________________________\n",
      "dense_12 (Dense)             (None, 500)               392500    \n",
      "_________________________________________________________________\n",
      "dense_13 (Dense)             (None, 200)               100200    \n",
      "_________________________________________________________________\n",
      "dense_14 (Dense)             (None, 50)                10050     \n",
      "_________________________________________________________________\n",
      "dense_15 (Dense)             (None, 10)                510       \n",
      "=================================================================\n",
      "Total params: 503,260\n",
      "Trainable params: 503,260\n",
      "Non-trainable params: 0\n",
      "_________________________________________________________________\n"
     ]
    }
   ],
   "source": [
    "model.summary()"
   ]
  },
  {
   "cell_type": "code",
   "execution_count": 69,
   "id": "1a677acf-8eb3-47b3-9c04-1226ef5d09a8",
   "metadata": {},
   "outputs": [],
   "source": [
    "model.compile(optimizer=\"adam\", loss=\"categorical_crossentropy\", metrics=[\"accuracy\"])"
   ]
  },
  {
   "cell_type": "code",
   "execution_count": 70,
   "id": "a8b96fa2-4484-473d-a360-d93b5c1618c1",
   "metadata": {},
   "outputs": [
    {
     "name": "stdout",
     "output_type": "stream",
     "text": [
      "Epoch 1/10\n",
      "100/100 [==============================] - 2s 20ms/step - loss: 3.5096 - accuracy: 0.7186\n",
      "Epoch 2/10\n",
      "100/100 [==============================] - 2s 19ms/step - loss: 0.4519 - accuracy: 0.8885\n",
      "Epoch 3/10\n",
      "100/100 [==============================] - 2s 17ms/step - loss: 0.2950 - accuracy: 0.9233\n",
      "Epoch 4/10\n",
      "100/100 [==============================] - 2s 18ms/step - loss: 0.2216 - accuracy: 0.9413\n",
      "Epoch 5/10\n",
      "100/100 [==============================] - 2s 19ms/step - loss: 0.1617 - accuracy: 0.9547\n",
      "Epoch 6/10\n",
      "100/100 [==============================] - 2s 19ms/step - loss: 0.1304 - accuracy: 0.9625\n",
      "Epoch 7/10\n",
      "100/100 [==============================] - 2s 22ms/step - loss: 0.1096 - accuracy: 0.9678\n",
      "Epoch 8/10\n",
      "100/100 [==============================] - 2s 19ms/step - loss: 0.0914 - accuracy: 0.9722\n",
      "Epoch 9/10\n",
      "100/100 [==============================] - 2s 21ms/step - loss: 0.0792 - accuracy: 0.9758\n",
      "Epoch 10/10\n",
      "100/100 [==============================] - 2s 20ms/step - loss: 0.0656 - accuracy: 0.9796\n"
     ]
    },
    {
     "data": {
      "text/plain": [
       "<tensorflow.python.keras.callbacks.History at 0x7fe8f8363c40>"
      ]
     },
     "execution_count": 70,
     "metadata": {},
     "output_type": "execute_result"
    }
   ],
   "source": [
    "model.fit(x_train, y_train_hot, batch_size=600, epochs=10)"
   ]
  },
  {
   "cell_type": "code",
   "execution_count": 71,
   "id": "0d4af121-b195-4dac-8168-d9a251d72c3d",
   "metadata": {},
   "outputs": [
    {
     "data": {
      "text/plain": [
       "[0.2000507414340973, 0.9589999914169312]"
      ]
     },
     "execution_count": 71,
     "metadata": {},
     "output_type": "execute_result"
    }
   ],
   "source": [
    "model.evaluate(x_test, y_test_hot, verbose=0)"
   ]
  },
  {
   "cell_type": "code",
   "execution_count": 74,
   "id": "f084ebb6-6555-4d28-b0df-ac4773a42009",
   "metadata": {},
   "outputs": [
    {
     "name": "stdout",
     "output_type": "stream",
     "text": [
      "[2]\n"
     ]
    },
    {
     "data": {
      "text/plain": [
       "<matplotlib.image.AxesImage at 0x7fe88f8c0670>"
      ]
     },
     "execution_count": 74,
     "metadata": {},
     "output_type": "execute_result"
    },
    {
     "data": {
      "image/png": "[encoded data removed]",
      "text/plain": [
       "<Figure size 432x288 with 1 Axes>"
      ]
     },
     "metadata": {
      "needs_background": "light"
     },
     "output_type": "display_data"
    }
   ],
   "source": [
    "import cv2\n",
    "import numpy as np\n",
    "import matplotlib.pyplot as plt\n",
    "\n",
    "img = cv2.imread(\"../data/two.png\")\n",
    "small = cv2.resize(img, [28, 28])\n",
    "gray = small.mean(axis=2)\n",
    "\n",
    "gray = (gray > 100).astype(int) * 255\n",
    "\n",
    "output = model.predict(np.array([gray]))\n",
    "\n",
    "print(output.argmax(axis=1))\n",
    "\n",
    "plt.imshow(gray, cmap=\"gray\")"
   ]
  },
  {
   "cell_type": "code",
   "execution_count": null,
   "id": "0b01a2d5-5fbf-4c7a-9aa7-d3f11d482511",
   "metadata": {},
   "outputs": [],
   "source": []
  },
  {
   "cell_type": "code",
   "execution_count": null,
   "id": "222476b1-b64c-4097-99b4-c260e8c402ab",
   "metadata": {},
   "outputs": [],
   "source": []
  }
 ],
 "metadata": {
  "kernelspec": {
   "display_name": "Python 3",
   "language": "python",
   "name": "python3"
  },
  "language_info": {
   "codemirror_mode": {
    "name": "ipython",
    "version": 3
   },
   "file_extension": ".py",
   "mimetype": "text/x-python",
   "name": "python",
   "nbconvert_exporter": "python",
   "pygments_lexer": "ipython3",
   "version": "3.8.8"
  }
 },
 "nbformat": 4,
 "nbformat_minor": 5
}
