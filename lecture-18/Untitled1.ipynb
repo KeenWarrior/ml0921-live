{
 "cells": [
  {
   "cell_type": "code",
   "execution_count": 12,
   "id": "6b72fe79-6be6-4030-9582-d3687dc46671",
   "metadata": {},
   "outputs": [],
   "source": [
    "from tensorflow.keras.models import load_model"
   ]
  },
  {
   "cell_type": "code",
   "execution_count": 13,
   "id": "a71d5af6-6456-4f44-8f39-fa9be97394b4",
   "metadata": {},
   "outputs": [],
   "source": [
    "model = load_model(\"./mnisttf/\")"
   ]
  },
  {
   "cell_type": "code",
   "execution_count": 21,
   "id": "5ce532cc-3149-4e8e-8d1b-aeb1a251c00b",
   "metadata": {},
   "outputs": [
    {
     "name": "stdout",
     "output_type": "stream",
     "text": [
      "[5] [1]\n"
     ]
    }
   ],
   "source": [
    "import cv2\n",
    "import numpy as np\n",
    "import matplotlib.pyplot as plt\n",
    "\n",
    "img = cv2.imread(\"../data/five.png\")\n",
    "small = cv2.resize(img, [28, 28])\n",
    "gray = small.mean(axis=2)\n",
    "\n",
    "gray = (gray > 100).astype(int) * 255\n",
    "\n",
    "[o1, o2] = model.predict(np.array([gray]))\n",
    "\n",
    "print(o1.argmax(axis=1), o2.argmax(axis=1))"
   ]
  },
  {
   "cell_type": "code",
   "execution_count": null,
   "id": "027df270-2765-4a92-9541-887e7745dc22",
   "metadata": {},
   "outputs": [],
   "source": []
  }
 ],
 "metadata": {
  "kernelspec": {
   "display_name": "Python 3",
   "language": "python",
   "name": "python3"
  },
  "language_info": {
   "codemirror_mode": {
    "name": "ipython",
    "version": 3
   },
   "file_extension": ".py",
   "mimetype": "text/x-python",
   "name": "python",
   "nbconvert_exporter": "python",
   "pygments_lexer": "ipython3",
   "version": "3.8.8"
  }
 },
 "nbformat": 4,
 "nbformat_minor": 5
}
