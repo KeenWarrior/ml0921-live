{
 "cells": [
  {
   "cell_type": "code",
   "execution_count": 1,
   "id": "087679a6-2e26-4c11-bf73-0f29f8b1b4e6",
   "metadata": {},
   "outputs": [],
   "source": [
    "import tensorflow as tf"
   ]
  },
  {
   "cell_type": "code",
   "execution_count": 2,
   "id": "53442fac-24e3-4682-9fa0-c73122771134",
   "metadata": {},
   "outputs": [
    {
     "data": {
      "text/plain": [
       "'2.5.0'"
      ]
     },
     "execution_count": 2,
     "metadata": {},
     "output_type": "execute_result"
    }
   ],
   "source": [
    "tf.__version__"
   ]
  },
  {
   "cell_type": "code",
   "execution_count": 3,
   "id": "6153962b-4f2d-4490-9686-77e4961250d2",
   "metadata": {},
   "outputs": [],
   "source": [
    "from tensorflow.keras.datasets import mnist\n",
    "from tensorflow.keras.utils import to_categorical"
   ]
  },
  {
   "cell_type": "code",
   "execution_count": 4,
   "id": "9aff5e88-541c-4264-8d00-16fef7bf5fff",
   "metadata": {},
   "outputs": [],
   "source": [
    "(x_train, y_train), (x_test, y_test) = mnist.load_data()"
   ]
  },
  {
   "cell_type": "code",
   "execution_count": 5,
   "id": "590d0f7e-8ac0-4804-a4e3-dbdeb1693283",
   "metadata": {},
   "outputs": [
    {
     "data": {
      "text/plain": [
       "(60000, 28, 28)"
      ]
     },
     "execution_count": 5,
     "metadata": {},
     "output_type": "execute_result"
    }
   ],
   "source": [
    "x_train.shape"
   ]
  },
  {
   "cell_type": "code",
   "execution_count": 6,
   "id": "52ef5101-65d2-44de-9e52-c0c416beb42d",
   "metadata": {},
   "outputs": [
    {
     "data": {
      "text/plain": [
       "array([5, 0, 4, 1, 9, 2, 1, 3, 1, 4], dtype=uint8)"
      ]
     },
     "execution_count": 6,
     "metadata": {},
     "output_type": "execute_result"
    }
   ],
   "source": [
    "y_train[:10]"
   ]
  },
  {
   "cell_type": "code",
   "execution_count": 8,
   "id": "c0476cb3-c4ad-4bc6-aa06-ab6fae2dbf8b",
   "metadata": {},
   "outputs": [],
   "source": [
    "y_train_oe = y_train%2\n",
    "y_test_oe = y_test%2"
   ]
  },
  {
   "cell_type": "code",
   "execution_count": 9,
   "id": "cba02dbe-2ddb-4986-83b4-7ba2714a11b6",
   "metadata": {},
   "outputs": [],
   "source": [
    "y_train_hot = to_categorical(y_train, num_classes=10)\n",
    "y_test_hot = to_categorical(y_test, num_classes=10)\n",
    "\n",
    "y_train_oe_hot = to_categorical(y_train_oe, num_classes=2)\n",
    "y_test_oe_hot = to_categorical(y_test_oe, num_classes=2)"
   ]
  },
  {
   "cell_type": "code",
   "execution_count": 10,
   "id": "282eb0c5-6371-48ff-a070-5a90af313a41",
   "metadata": {},
   "outputs": [
    {
     "data": {
      "text/plain": [
       "array([[0., 0., 0., 0., 0., 1., 0., 0., 0., 0.],\n",
       "       [1., 0., 0., 0., 0., 0., 0., 0., 0., 0.],\n",
       "       [0., 0., 0., 0., 1., 0., 0., 0., 0., 0.],\n",
       "       [0., 1., 0., 0., 0., 0., 0., 0., 0., 0.],\n",
       "       [0., 0., 0., 0., 0., 0., 0., 0., 0., 1.],\n",
       "       [0., 0., 1., 0., 0., 0., 0., 0., 0., 0.],\n",
       "       [0., 1., 0., 0., 0., 0., 0., 0., 0., 0.],\n",
       "       [0., 0., 0., 1., 0., 0., 0., 0., 0., 0.],\n",
       "       [0., 1., 0., 0., 0., 0., 0., 0., 0., 0.],\n",
       "       [0., 0., 0., 0., 1., 0., 0., 0., 0., 0.]], dtype=float32)"
      ]
     },
     "execution_count": 10,
     "metadata": {},
     "output_type": "execute_result"
    }
   ],
   "source": [
    "y_train_hot[:10]"
   ]
  },
  {
   "cell_type": "code",
   "execution_count": 11,
   "id": "a73454c5-d782-4db5-ac63-593acc995a00",
   "metadata": {},
   "outputs": [
    {
     "data": {
      "text/plain": [
       "array([5, 0, 4, 1, 9, 2, 1, 3, 1, 4], dtype=uint8)"
      ]
     },
     "execution_count": 11,
     "metadata": {},
     "output_type": "execute_result"
    }
   ],
   "source": [
    "y_train[:10]"
   ]
  },
  {
   "cell_type": "code",
   "execution_count": 12,
   "id": "cbd1596f-ec90-4fa7-9903-9adb568389be",
   "metadata": {},
   "outputs": [],
   "source": [
    "from tensorflow.keras.models import Model\n",
    "from tensorflow.keras.layers import Input, Dense, Reshape"
   ]
  },
  {
   "cell_type": "code",
   "execution_count": 24,
   "id": "ace1f02d-679b-4c64-af73-85588694a63b",
   "metadata": {},
   "outputs": [],
   "source": [
    "in_layer = Input(shape=[28, 28])\n",
    "reshape = Reshape([784])(in_layer)\n",
    "d1 = Dense(500, activation=\"relu\")(reshape)\n",
    "d2 = Dense(200, activation=\"relu\")(d1)\n",
    "d3 = Dense(50, activation=\"relu\")(d2)\n",
    "out_layer_1 = Dense(10, activation=\"softmax\")(d3)\n",
    "out_layer_2 = Dense(2, activation=\"softmax\")(out_layer_1)"
   ]
  },
  {
   "cell_type": "code",
   "execution_count": 25,
   "id": "4d6d7c71-e5cb-4afd-9bdf-ffb59cae1718",
   "metadata": {},
   "outputs": [],
   "source": [
    "model = Model(in_layer, [out_layer_1, out_layer_2])"
   ]
  },
  {
   "cell_type": "code",
   "execution_count": 26,
   "id": "5e7f6a7d-5b6b-4ec6-a639-9ca738d9aee5",
   "metadata": {},
   "outputs": [
    {
     "name": "stdout",
     "output_type": "stream",
     "text": [
      "Model: \"model_1\"\n",
      "_________________________________________________________________\n",
      "Layer (type)                 Output Shape              Param #   \n",
      "=================================================================\n",
      "input_2 (InputLayer)         [(None, 28, 28)]          0         \n",
      "_________________________________________________________________\n",
      "reshape_1 (Reshape)          (None, 784)               0         \n",
      "_________________________________________________________________\n",
      "dense_6 (Dense)              (None, 500)               392500    \n",
      "_________________________________________________________________\n",
      "dense_7 (Dense)              (None, 200)               100200    \n",
      "_________________________________________________________________\n",
      "dense_8 (Dense)              (None, 50)                10050     \n",
      "_________________________________________________________________\n",
      "dense_9 (Dense)              (None, 10)                510       \n",
      "_________________________________________________________________\n",
      "dense_10 (Dense)             (None, 2)                 22        \n",
      "=================================================================\n",
      "Total params: 503,282\n",
      "Trainable params: 503,282\n",
      "Non-trainable params: 0\n",
      "_________________________________________________________________\n"
     ]
    }
   ],
   "source": [
    "model.summary()"
   ]
  },
  {
   "cell_type": "code",
   "execution_count": 27,
   "id": "1a677acf-8eb3-47b3-9c04-1226ef5d09a8",
   "metadata": {},
   "outputs": [],
   "source": [
    "model.compile(optimizer=\"adam\", loss=\"categorical_crossentropy\", metrics=[\"accuracy\"])"
   ]
  },
  {
   "cell_type": "code",
   "execution_count": 28,
   "id": "a8b96fa2-4484-473d-a360-d93b5c1618c1",
   "metadata": {},
   "outputs": [
    {
     "name": "stdout",
     "output_type": "stream",
     "text": [
      "Epoch 1/10\n",
      "100/100 [==============================] - 2s 16ms/step - loss: 4.7405 - dense_9_loss: 4.0381 - dense_10_loss: 0.7023 - dense_9_accuracy: 0.6902 - dense_10_accuracy: 0.5386\n",
      "Epoch 2/10\n",
      "100/100 [==============================] - 2s 16ms/step - loss: 1.1046 - dense_9_loss: 0.4957 - dense_10_loss: 0.6089 - dense_9_accuracy: 0.8729 - dense_10_accuracy: 0.7086\n",
      "Epoch 3/10\n",
      "100/100 [==============================] - 2s 18ms/step - loss: 0.8673 - dense_9_loss: 0.3392 - dense_10_loss: 0.5281 - dense_9_accuracy: 0.9146 - dense_10_accuracy: 0.7549\n",
      "Epoch 4/10\n",
      "100/100 [==============================] - 2s 17ms/step - loss: 0.7142 - dense_9_loss: 0.2543 - dense_10_loss: 0.4599 - dense_9_accuracy: 0.9349 - dense_10_accuracy: 0.8235\n",
      "Epoch 5/10\n",
      "100/100 [==============================] - 2s 19ms/step - loss: 0.5961 - dense_9_loss: 0.1941 - dense_10_loss: 0.4019 - dense_9_accuracy: 0.9483 - dense_10_accuracy: 0.8627\n",
      "Epoch 6/10\n",
      "100/100 [==============================] - 2s 19ms/step - loss: 0.5105 - dense_9_loss: 0.1592 - dense_10_loss: 0.3513 - dense_9_accuracy: 0.9574 - dense_10_accuracy: 0.9514\n",
      "Epoch 7/10\n",
      "100/100 [==============================] - 2s 17ms/step - loss: 0.4378 - dense_9_loss: 0.1288 - dense_10_loss: 0.3090 - dense_9_accuracy: 0.9637 - dense_10_accuracy: 0.9811\n",
      "Epoch 8/10\n",
      "100/100 [==============================] - 2s 18ms/step - loss: 0.3838 - dense_9_loss: 0.1109 - dense_10_loss: 0.2729 - dense_9_accuracy: 0.9686 - dense_10_accuracy: 0.9845\n",
      "Epoch 9/10\n",
      "100/100 [==============================] - 2s 23ms/step - loss: 0.3422 - dense_9_loss: 0.0990 - dense_10_loss: 0.2432 - dense_9_accuracy: 0.9709 - dense_10_accuracy: 0.9866\n",
      "Epoch 10/10\n",
      "100/100 [==============================] - 2s 17ms/step - loss: 0.3003 - dense_9_loss: 0.0838 - dense_10_loss: 0.2165 - dense_9_accuracy: 0.9753 - dense_10_accuracy: 0.9889\n"
     ]
    },
    {
     "data": {
      "text/plain": [
       "<tensorflow.python.keras.callbacks.History at 0x7fa2fc7bb2b0>"
      ]
     },
     "execution_count": 28,
     "metadata": {},
     "output_type": "execute_result"
    }
   ],
   "source": [
    "model.fit(x_train, [y_train_hot, y_train_oe_hot], batch_size=600, epochs=10)"
   ]
  },
  {
   "cell_type": "code",
   "execution_count": 29,
   "id": "0d4af121-b195-4dac-8168-d9a251d72c3d",
   "metadata": {},
   "outputs": [
    {
     "data": {
      "text/plain": [
       "[0.43374112248420715,\n",
       " 0.21738998591899872,\n",
       " 0.21635115146636963,\n",
       " 0.9639000296592712,\n",
       " 0.9833999872207642]"
      ]
     },
     "execution_count": 29,
     "metadata": {},
     "output_type": "execute_result"
    }
   ],
   "source": [
    "model.evaluate(x_test, [y_test_hot, y_test_oe_hot], verbose=0)"
   ]
  },
  {
   "cell_type": "code",
   "execution_count": 30,
   "id": "f084ebb6-6555-4d28-b0df-ac4773a42009",
   "metadata": {},
   "outputs": [
    {
     "name": "stdout",
     "output_type": "stream",
     "text": [
      "[2]\n"
     ]
    }
   ],
   "source": [
    "import cv2\n",
    "import numpy as np\n",
    "import matplotlib.pyplot as plt\n",
    "\n",
    "img = cv2.imread(\"../data/two.png\")\n",
    "small = cv2.resize(img, [28, 28])\n",
    "gray = small.mean(axis=2)\n",
    "\n",
    "gray = (gray > 100).astype(int) * 255\n",
    "\n",
    "[o1, o2] = model.predict(np.array([gray]))\n",
    "\n",
    "print(o1.argmax(axis=1))"
   ]
  },
  {
   "cell_type": "code",
   "execution_count": null,
   "id": "0b01a2d5-5fbf-4c7a-9aa7-d3f11d482511",
   "metadata": {},
   "outputs": [],
   "source": []
  },
  {
   "cell_type": "code",
   "execution_count": 31,
   "id": "222476b1-b64c-4097-99b4-c260e8c402ab",
   "metadata": {},
   "outputs": [
    {
     "name": "stdout",
     "output_type": "stream",
     "text": [
      "INFO:tensorflow:Assets written to: mnisttf/assets\n"
     ]
    }
   ],
   "source": [
    "model.save(\"mnisttf\", save_format=\"tf\")"
   ]
  },
  {
   "cell_type": "code",
   "execution_count": null,
   "id": "95c61b73-1468-4f1d-b6d1-e4ec427ddae9",
   "metadata": {},
   "outputs": [],
   "source": []
  }
 ],
 "metadata": {
  "kernelspec": {
   "display_name": "Python 3",
   "language": "python",
   "name": "python3"
  },
  "language_info": {
   "codemirror_mode": {
    "name": "ipython",
    "version": 3
   },
   "file_extension": ".py",
   "mimetype": "text/x-python",
   "name": "python",
   "nbconvert_exporter": "python",
   "pygments_lexer": "ipython3",
   "version": "3.8.8"
  }
 },
 "nbformat": 4,
 "nbformat_minor": 5
}
