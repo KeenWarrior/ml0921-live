{
 "cells": [
  {
   "cell_type": "code",
   "execution_count": 1,
   "id": "e66c7c27-73c2-4636-8f45-32faf09bb230",
   "metadata": {},
   "outputs": [],
   "source": [
    "import numpy as np"
   ]
  },
  {
   "cell_type": "code",
   "execution_count": 5,
   "id": "24bc1cb1-db02-4ecc-9df0-bf80a7cf0592",
   "metadata": {},
   "outputs": [
    {
     "data": {
      "text/plain": [
       "0.4340169606824268"
      ]
     },
     "execution_count": 5,
     "metadata": {},
     "output_type": "execute_result"
    }
   ],
   "source": [
    "np.random.random()"
   ]
  },
  {
   "cell_type": "code",
   "execution_count": 12,
   "id": "ef3d9633-e2be-4187-8658-9ef57e949a0d",
   "metadata": {},
   "outputs": [
    {
     "data": {
      "text/plain": [
       "array([0.46588423, 0.45323184, 0.72949099, 0.1324231 , 0.59046302,\n",
       "       0.54716955, 0.18872098, 0.73491139, 0.96546321, 0.71377442])"
      ]
     },
     "execution_count": 12,
     "metadata": {},
     "output_type": "execute_result"
    }
   ],
   "source": [
    "np.random.random(10)"
   ]
  },
  {
   "cell_type": "code",
   "execution_count": 18,
   "id": "4a2af84f-1759-4309-abc4-42d6a664da89",
   "metadata": {},
   "outputs": [
    {
     "data": {
      "text/plain": [
       "array([[0.48053589, 0.14140862, 0.95271432, 0.78645775],\n",
       "       [0.7827103 , 0.46284406, 0.63212117, 0.77354695],\n",
       "       [0.19156917, 0.74117733, 0.76738013, 0.87707688]])"
      ]
     },
     "execution_count": 18,
     "metadata": {},
     "output_type": "execute_result"
    }
   ],
   "source": [
    "np.random.random([3, 4])"
   ]
  },
  {
   "cell_type": "code",
   "execution_count": 22,
   "id": "c1e9d2cf-c37c-4bce-a363-87dd5c9ec959",
   "metadata": {},
   "outputs": [
    {
     "data": {
      "text/plain": [
       "array([[0, 1, 5, 6, 9, 7],\n",
       "       [9, 3, 8, 1, 2, 1],\n",
       "       [6, 6, 2, 3, 6, 7],\n",
       "       [1, 9, 2, 7, 8, 1]])"
      ]
     },
     "execution_count": 22,
     "metadata": {},
     "output_type": "execute_result"
    }
   ],
   "source": [
    "np.random.randint(0, 10, [4, 6])"
   ]
  },
  {
   "cell_type": "code",
   "execution_count": 36,
   "id": "23b0c2e4-13d1-4106-9753-6b30291855ee",
   "metadata": {},
   "outputs": [],
   "source": [
    "data = np.random.uniform(size=1000)"
   ]
  },
  {
   "cell_type": "code",
   "execution_count": 37,
   "id": "7230508c-f6cc-483a-813d-3e278df1fa0d",
   "metadata": {},
   "outputs": [
    {
     "data": {
      "text/plain": [
       "0.49877175095967846"
      ]
     },
     "execution_count": 37,
     "metadata": {},
     "output_type": "execute_result"
    }
   ],
   "source": [
    "data.mean()"
   ]
  },
  {
   "cell_type": "code",
   "execution_count": 38,
   "id": "17f5ac65-d67a-4ce3-bae2-93897b2f5876",
   "metadata": {},
   "outputs": [
    {
     "data": {
      "text/plain": [
       "0.2940946899016186"
      ]
     },
     "execution_count": 38,
     "metadata": {},
     "output_type": "execute_result"
    }
   ],
   "source": [
    "data.std()"
   ]
  },
  {
   "cell_type": "code",
   "execution_count": 40,
   "id": "3fde7c82-f527-4a11-b99f-34d964408233",
   "metadata": {},
   "outputs": [
    {
     "data": {
      "text/plain": [
       "0.0008841611940437755"
      ]
     },
     "execution_count": 40,
     "metadata": {},
     "output_type": "execute_result"
    }
   ],
   "source": [
    "data.min()"
   ]
  },
  {
   "cell_type": "code",
   "execution_count": 41,
   "id": "f4fef405-31ba-4fec-bbc5-16962fb9fa73",
   "metadata": {},
   "outputs": [],
   "source": [
    "one = np.random.randint(0, 10, [4, 5])"
   ]
  },
  {
   "cell_type": "code",
   "execution_count": 42,
   "id": "f5eb9432-0c76-4186-a78d-e91ec1657d1f",
   "metadata": {},
   "outputs": [
    {
     "data": {
      "text/plain": [
       "array([[4, 1, 3, 8, 2],\n",
       "       [1, 6, 5, 2, 4],\n",
       "       [2, 4, 4, 3, 5],\n",
       "       [2, 9, 6, 8, 3]])"
      ]
     },
     "execution_count": 42,
     "metadata": {},
     "output_type": "execute_result"
    }
   ],
   "source": [
    "one"
   ]
  },
  {
   "cell_type": "code",
   "execution_count": 43,
   "id": "4d529d65-6718-4748-8c87-e2ce8212c3c5",
   "metadata": {},
   "outputs": [
    {
     "data": {
      "text/plain": [
       "82"
      ]
     },
     "execution_count": 43,
     "metadata": {},
     "output_type": "execute_result"
    }
   ],
   "source": [
    "one.sum()"
   ]
  },
  {
   "cell_type": "code",
   "execution_count": 45,
   "id": "1683507a-f78c-4b8f-be79-2f7ebc74f2ef",
   "metadata": {},
   "outputs": [
    {
     "data": {
      "text/plain": [
       "array([18, 18, 18, 28])"
      ]
     },
     "execution_count": 45,
     "metadata": {},
     "output_type": "execute_result"
    }
   ],
   "source": [
    "one.sum(axis=1)"
   ]
  },
  {
   "cell_type": "code",
   "execution_count": 47,
   "id": "05926fad-bb6f-4e1f-8c12-2e44e61ca637",
   "metadata": {},
   "outputs": [
    {
     "data": {
      "text/plain": [
       "array([4, 9, 6, 8, 5])"
      ]
     },
     "execution_count": 47,
     "metadata": {},
     "output_type": "execute_result"
    }
   ],
   "source": [
    "one.max(axis=0)"
   ]
  },
  {
   "cell_type": "code",
   "execution_count": 48,
   "id": "22693a16-36ef-4e3c-abc8-923a0393be6e",
   "metadata": {},
   "outputs": [
    {
     "data": {
      "text/plain": [
       "16"
      ]
     },
     "execution_count": 48,
     "metadata": {},
     "output_type": "execute_result"
    }
   ],
   "source": [
    "one.argmax()"
   ]
  },
  {
   "cell_type": "code",
   "execution_count": 50,
   "id": "3858c8c5-4b1c-4361-a5b8-ec48f3afd184",
   "metadata": {},
   "outputs": [
    {
     "data": {
      "text/plain": [
       "array([[4, 1, 3, 8, 2],\n",
       "       [1, 6, 5, 2, 4],\n",
       "       [2, 4, 4, 3, 5],\n",
       "       [2, 9, 6, 8, 3]])"
      ]
     },
     "execution_count": 50,
     "metadata": {},
     "output_type": "execute_result"
    }
   ],
   "source": [
    "one"
   ]
  },
  {
   "cell_type": "code",
   "execution_count": 52,
   "id": "2f8f41ef-3c63-462d-a8f7-c40346b565fb",
   "metadata": {},
   "outputs": [
    {
     "data": {
      "text/plain": [
       "array([3, 1, 4, 1])"
      ]
     },
     "execution_count": 52,
     "metadata": {},
     "output_type": "execute_result"
    }
   ],
   "source": [
    "one.argmax(axis=1)"
   ]
  },
  {
   "cell_type": "code",
   "execution_count": 54,
   "id": "3decd481-0f2a-43dc-871e-a65a0d51e19c",
   "metadata": {},
   "outputs": [],
   "source": [
    "second = np.random.randint(0, 10, 15)"
   ]
  },
  {
   "cell_type": "code",
   "execution_count": 56,
   "id": "e25bd9b1-a0a4-4b97-8b70-bd291331e7e8",
   "metadata": {},
   "outputs": [
    {
     "data": {
      "text/plain": [
       "array([1, 6, 5, 1, 1, 4, 9, 4, 4, 7, 4, 6, 7, 7, 9])"
      ]
     },
     "execution_count": 56,
     "metadata": {},
     "output_type": "execute_result"
    }
   ],
   "source": [
    "second"
   ]
  },
  {
   "cell_type": "code",
   "execution_count": 55,
   "id": "14f7cdc8-d303-40bd-af4f-cdde9ca3adfa",
   "metadata": {},
   "outputs": [
    {
     "data": {
      "text/plain": [
       "array([ 0,  3,  4,  5,  7,  8, 10,  2,  1, 11,  9, 12, 13,  6, 14])"
      ]
     },
     "execution_count": 55,
     "metadata": {},
     "output_type": "execute_result"
    }
   ],
   "source": [
    "second.argsort()"
   ]
  },
  {
   "cell_type": "code",
   "execution_count": 64,
   "id": "1c311948-20fe-49db-88b4-65c31ee4b9a0",
   "metadata": {},
   "outputs": [],
   "source": [
    "second.sort()"
   ]
  },
  {
   "cell_type": "code",
   "execution_count": 62,
   "id": "527db1bc-9fa7-4aee-b098-f680c7f22f63",
   "metadata": {},
   "outputs": [
    {
     "data": {
      "text/plain": [
       "array([1, 1, 1, 4, 4, 4, 4, 5, 6, 6, 7, 7, 7, 9, 9])"
      ]
     },
     "execution_count": 62,
     "metadata": {},
     "output_type": "execute_result"
    }
   ],
   "source": [
    "second"
   ]
  },
  {
   "cell_type": "code",
   "execution_count": 63,
   "id": "82b448f5-fc31-4904-abc6-0086c4f0448a",
   "metadata": {},
   "outputs": [
    {
     "data": {
      "text/plain": [
       "array([ 0,  1,  2,  3,  4,  5,  6,  7,  8,  9, 10, 11, 12, 13, 14])"
      ]
     },
     "execution_count": 63,
     "metadata": {},
     "output_type": "execute_result"
    }
   ],
   "source": [
    "second.argsort()"
   ]
  },
  {
   "cell_type": "code",
   "execution_count": 68,
   "id": "2afe3acd-2eb0-4298-b49c-8dc028262599",
   "metadata": {},
   "outputs": [],
   "source": [
    "third = second.sort()"
   ]
  },
  {
   "cell_type": "code",
   "execution_count": 69,
   "id": "f5d2d060-97aa-471a-89e0-77c03c12114f",
   "metadata": {},
   "outputs": [
    {
     "name": "stdout",
     "output_type": "stream",
     "text": [
      "None\n"
     ]
    }
   ],
   "source": [
    "print(third)"
   ]
  },
  {
   "cell_type": "code",
   "execution_count": 70,
   "id": "e9b3071c-63e7-4a93-8fa3-d5b82c783123",
   "metadata": {},
   "outputs": [],
   "source": [
    "one = np.random.randint(0, 10, [4, 5])"
   ]
  },
  {
   "cell_type": "code",
   "execution_count": 71,
   "id": "e45d301b-2854-4777-8844-2e7e2bdefedf",
   "metadata": {},
   "outputs": [],
   "source": [
    "two = np.random.randint(0, 10, [4, 5])"
   ]
  },
  {
   "cell_type": "code",
   "execution_count": 72,
   "id": "c8536930-fbb0-4f0e-94ab-9b46f9c0d085",
   "metadata": {},
   "outputs": [
    {
     "data": {
      "text/plain": [
       "array([[0, 9, 0, 7, 5],\n",
       "       [4, 1, 6, 2, 6],\n",
       "       [6, 5, 6, 6, 7],\n",
       "       [4, 2, 6, 3, 5]])"
      ]
     },
     "execution_count": 72,
     "metadata": {},
     "output_type": "execute_result"
    }
   ],
   "source": [
    "one"
   ]
  },
  {
   "cell_type": "code",
   "execution_count": 73,
   "id": "d2daa63b-c632-450d-a74e-6b1e2a8a7486",
   "metadata": {},
   "outputs": [
    {
     "data": {
      "text/plain": [
       "array([[0, 2, 8, 1, 5],\n",
       "       [8, 6, 1, 2, 7],\n",
       "       [0, 0, 4, 0, 2],\n",
       "       [5, 0, 5, 8, 6]])"
      ]
     },
     "execution_count": 73,
     "metadata": {},
     "output_type": "execute_result"
    }
   ],
   "source": [
    "two"
   ]
  },
  {
   "cell_type": "code",
   "execution_count": 74,
   "id": "f563438b-2ff6-4100-837b-85c99bcea86d",
   "metadata": {},
   "outputs": [
    {
     "data": {
      "text/plain": [
       "array([[0, 9, 0, 7, 5],\n",
       "       [4, 1, 6, 2, 6],\n",
       "       [6, 5, 6, 6, 7],\n",
       "       [4, 2, 6, 3, 5],\n",
       "       [0, 2, 8, 1, 5],\n",
       "       [8, 6, 1, 2, 7],\n",
       "       [0, 0, 4, 0, 2],\n",
       "       [5, 0, 5, 8, 6]])"
      ]
     },
     "execution_count": 74,
     "metadata": {},
     "output_type": "execute_result"
    }
   ],
   "source": [
    "np.vstack([one, two])"
   ]
  },
  {
   "cell_type": "code",
   "execution_count": 75,
   "id": "f7821e73-8853-42d7-aaf7-a9e8d5ebe731",
   "metadata": {},
   "outputs": [
    {
     "data": {
      "text/plain": [
       "array([[0, 9, 0, 7, 5, 0, 2, 8, 1, 5],\n",
       "       [4, 1, 6, 2, 6, 8, 6, 1, 2, 7],\n",
       "       [6, 5, 6, 6, 7, 0, 0, 4, 0, 2],\n",
       "       [4, 2, 6, 3, 5, 5, 0, 5, 8, 6]])"
      ]
     },
     "execution_count": 75,
     "metadata": {},
     "output_type": "execute_result"
    }
   ],
   "source": [
    "np.hstack([one, two])"
   ]
  },
  {
   "cell_type": "code",
   "execution_count": 81,
   "id": "199df21a-566c-4c64-bff5-983f8a50feba",
   "metadata": {},
   "outputs": [],
   "source": [
    "# np.concatenate?"
   ]
  },
  {
   "cell_type": "code",
   "execution_count": 89,
   "id": "4e130ea3-cfce-4f7c-b3a6-45b174905ac2",
   "metadata": {},
   "outputs": [
    {
     "data": {
      "text/plain": [
       "array([[21],\n",
       "       [19],\n",
       "       [30],\n",
       "       [20]])"
      ]
     },
     "execution_count": 89,
     "metadata": {},
     "output_type": "execute_result"
    }
   ],
   "source": [
    "one.sum(axis=1, keepdims=True)"
   ]
  },
  {
   "cell_type": "code",
   "execution_count": 90,
   "id": "98db941d-0f8c-476c-be83-cc043aa8f06a",
   "metadata": {},
   "outputs": [
    {
     "data": {
      "text/plain": [
       "array([[0, 9, 0, 7, 5],\n",
       "       [4, 1, 6, 2, 6],\n",
       "       [6, 5, 6, 6, 7],\n",
       "       [4, 2, 6, 3, 5]])"
      ]
     },
     "execution_count": 90,
     "metadata": {},
     "output_type": "execute_result"
    }
   ],
   "source": [
    "one"
   ]
  },
  {
   "cell_type": "code",
   "execution_count": 99,
   "id": "d1ac54d8-a6c7-43b8-8dcf-2a34abf650cb",
   "metadata": {},
   "outputs": [
    {
     "data": {
      "text/plain": [
       "array([[4, 1, 6, 2, 6],\n",
       "       [6, 5, 6, 6, 7]])"
      ]
     },
     "execution_count": 99,
     "metadata": {},
     "output_type": "execute_result"
    }
   ],
   "source": [
    "one[1:-1]"
   ]
  },
  {
   "cell_type": "code",
   "execution_count": 105,
   "id": "15b47f9a-a6cd-43ca-89db-e94fa459d34d",
   "metadata": {},
   "outputs": [
    {
     "data": {
      "text/plain": [
       "array([[0, 0, 5],\n",
       "       [6, 6, 7]])"
      ]
     },
     "execution_count": 105,
     "metadata": {},
     "output_type": "execute_result"
    }
   ],
   "source": [
    "one[::2, ::2]"
   ]
  },
  {
   "cell_type": "code",
   "execution_count": 106,
   "id": "7e8e4574-d707-4a6c-85e2-68d79d404781",
   "metadata": {},
   "outputs": [
    {
     "data": {
      "text/plain": [
       "(255, 255, 255)"
      ]
     },
     "execution_count": 106,
     "metadata": {},
     "output_type": "execute_result"
    }
   ],
   "source": [
    "(255, 255, 255)"
   ]
  },
  {
   "cell_type": "code",
   "execution_count": 107,
   "id": "9f039a29-4023-4a0d-9b89-58474460d2ca",
   "metadata": {},
   "outputs": [],
   "source": [
    "red = (255, 0, 0)"
   ]
  },
  {
   "cell_type": "code",
   "execution_count": 108,
   "id": "29910630-bfb5-47da-92be-79f3101acab3",
   "metadata": {},
   "outputs": [],
   "source": [
    "green = (0, 255, 0)"
   ]
  },
  {
   "cell_type": "code",
   "execution_count": 109,
   "id": "668c863f-50c7-4cce-a5d9-ce0856d83d40",
   "metadata": {},
   "outputs": [],
   "source": [
    "blue = (0, 0, 255)"
   ]
  },
  {
   "cell_type": "code",
   "execution_count": 116,
   "id": "5a010aae-548c-413f-aecf-478acdc01801",
   "metadata": {},
   "outputs": [],
   "source": [
    "img = np.array([[red, green, blue]])"
   ]
  },
  {
   "cell_type": "code",
   "execution_count": 120,
   "id": "5ecb9581-f1d2-4010-8cf3-74de313bca33",
   "metadata": {},
   "outputs": [
    {
     "data": {
      "text/plain": [
       "array([[[255,   0,   0],\n",
       "        [  0, 255,   0],\n",
       "        [  0,   0, 255]]])"
      ]
     },
     "execution_count": 120,
     "metadata": {},
     "output_type": "execute_result"
    }
   ],
   "source": [
    "img"
   ]
  },
  {
   "cell_type": "code",
   "execution_count": 118,
   "id": "18fb5b8b-f428-4768-aac7-3cbd36f9e56f",
   "metadata": {},
   "outputs": [],
   "source": [
    "import matplotlib.pyplot as plt"
   ]
  },
  {
   "cell_type": "code",
   "execution_count": 119,
   "id": "c571db1b-b72d-468d-9376-0c444bad95b7",
   "metadata": {},
   "outputs": [
    {
     "data": {
      "text/plain": [
       "<matplotlib.image.AxesImage at 0x7fcdec7f3040>"
      ]
     },
     "execution_count": 119,
     "metadata": {},
     "output_type": "execute_result"
    },
    {
     "data": {
      "image/png": "[encoded data removed]",
      "text/plain": [
       "<Figure size 432x288 with 1 Axes>"
      ]
     },
     "metadata": {
      "needs_background": "light"
     },
     "output_type": "display_data"
    }
   ],
   "source": [
    "plt.imshow(img)"
   ]
  },
  {
   "cell_type": "code",
   "execution_count": 121,
   "id": "5dca5372-08b9-4004-af31-714f18ce71b7",
   "metadata": {},
   "outputs": [],
   "source": [
    "import PIL"
   ]
  },
  {
   "cell_type": "code",
   "execution_count": 125,
   "id": "0d3cbc93-4555-4c10-bfb4-02510a0dd0a2",
   "metadata": {},
   "outputs": [],
   "source": [
    "pilimg = PIL.Image.open(\"colour.jpeg\")"
   ]
  },
  {
   "cell_type": "code",
   "execution_count": 126,
   "id": "fe09ae71-fa1b-41f6-9b9f-36522bf3e558",
   "metadata": {},
   "outputs": [
    {
     "data": {
      "image/png": "[encoded data removed]",
      "text/plain": [
       "<PIL.JpegImagePlugin.JpegImageFile image mode=RGB size=259x242 at 0x7FCDECB8FE20>"
      ]
     },
     "execution_count": 126,
     "metadata": {},
     "output_type": "execute_result"
    }
   ],
   "source": [
    "pilimg"
   ]
  },
  {
   "cell_type": "code",
   "execution_count": 128,
   "id": "fdb54728-274f-4eb0-bfe2-b0b38629edd2",
   "metadata": {},
   "outputs": [],
   "source": [
    "img = np.array(pilimg)"
   ]
  },
  {
   "cell_type": "code",
   "execution_count": 133,
   "id": "41598dc6-94b4-47fe-98d6-b0272537da19",
   "metadata": {},
   "outputs": [],
   "source": [
    "red = img[:, :, 0]\n",
    "green = img[:, :, 1]\n",
    "blue = img[:, :, 2]"
   ]
  },
  {
   "cell_type": "code",
   "execution_count": 132,
   "id": "df1378be-3b55-42df-bebb-6492ab516ba6",
   "metadata": {},
   "outputs": [
    {
     "data": {
      "text/plain": [
       "<matplotlib.image.AxesImage at 0x7fcdece163d0>"
      ]
     },
     "execution_count": 132,
     "metadata": {},
     "output_type": "execute_result"
    },
    {
     "data": {
      "image/png": "[encoded data removed]",
      "text/plain": [
       "<Figure size 432x288 with 1 Axes>"
      ]
     },
     "metadata": {
      "needs_background": "light"
     },
     "output_type": "display_data"
    }
   ],
   "source": [
    "plt.imshow(red, cmap=\"gray\")"
   ]
  },
  {
   "cell_type": "code",
   "execution_count": 134,
   "id": "84799bd9-4b2c-4a8e-b1da-7baf5f0aa4d4",
   "metadata": {},
   "outputs": [
    {
     "data": {
      "text/plain": [
       "<matplotlib.image.AxesImage at 0x7fcdecb1fa00>"
      ]
     },
     "execution_count": 134,
     "metadata": {},
     "output_type": "execute_result"
    },
    {
     "data": {
      "image/png": "[encoded data removed]",
      "text/plain": [
       "<Figure size 432x288 with 1 Axes>"
      ]
     },
     "metadata": {
      "needs_background": "light"
     },
     "output_type": "display_data"
    }
   ],
   "source": [
    "plt.imshow(green, cmap=\"gray\")"
   ]
  },
  {
   "cell_type": "code",
   "execution_count": 135,
   "id": "3a8995bd-629e-4316-973f-390c8e0ac4e3",
   "metadata": {},
   "outputs": [
    {
     "data": {
      "text/plain": [
       "<matplotlib.image.AxesImage at 0x7fcdece4d610>"
      ]
     },
     "execution_count": 135,
     "metadata": {},
     "output_type": "execute_result"
    },
    {
     "data": {
      "image/png": "[encoded data removed]",
      "text/plain": [
       "<Figure size 432x288 with 1 Axes>"
      ]
     },
     "metadata": {
      "needs_background": "light"
     },
     "output_type": "display_data"
    }
   ],
   "source": [
    "plt.imshow(blue, cmap=\"gray\")"
   ]
  },
  {
   "cell_type": "code",
   "execution_count": 137,
   "id": "e6804256-df9a-4995-9a7a-a765585d3014",
   "metadata": {},
   "outputs": [],
   "source": [
    "gray = img.mean(axis=2)"
   ]
  },
  {
   "cell_type": "code",
   "execution_count": 138,
   "id": "8c151b0a-6621-4b07-a538-4cea4bb151ae",
   "metadata": {},
   "outputs": [
    {
     "data": {
      "text/plain": [
       "<matplotlib.image.AxesImage at 0x7fcdecac1cd0>"
      ]
     },
     "execution_count": 138,
     "metadata": {},
     "output_type": "execute_result"
    },
    {
     "data": {
      "image/png": "[encoded data removed]",
      "text/plain": [
       "<Figure size 432x288 with 1 Axes>"
      ]
     },
     "metadata": {
      "needs_background": "light"
     },
     "output_type": "display_data"
    }
   ],
   "source": [
    "plt.imshow(gray, cmap=\"gray\")"
   ]
  },
  {
   "cell_type": "code",
   "execution_count": 142,
   "id": "52ff94ca-a8ba-4f57-ba3a-c4164bd78dcc",
   "metadata": {},
   "outputs": [],
   "source": [
    "white = (gray >= 240).astype(int)"
   ]
  },
  {
   "cell_type": "code",
   "execution_count": 143,
   "id": "ff6d70c8-97b9-483b-8cdd-dbea0f22347e",
   "metadata": {},
   "outputs": [
    {
     "data": {
      "text/plain": [
       "<matplotlib.image.AxesImage at 0x7fcded11f400>"
      ]
     },
     "execution_count": 143,
     "metadata": {},
     "output_type": "execute_result"
    },
    {
     "data": {
      "image/png": "[encoded data removed]",
      "text/plain": [
       "<Figure size 432x288 with 1 Axes>"
      ]
     },
     "metadata": {
      "needs_background": "light"
     },
     "output_type": "display_data"
    }
   ],
   "source": [
    "plt.imshow(white, cmap=\"gray\")"
   ]
  },
  {
   "cell_type": "code",
   "execution_count": 144,
   "id": "44ef5d2b-883d-4d7a-8554-119ad0e8826d",
   "metadata": {},
   "outputs": [],
   "source": [
    "img[(gray >= 240)] = (0, 0, 0)"
   ]
  },
  {
   "cell_type": "code",
   "execution_count": 145,
   "id": "a3130abe-9798-498c-842f-d8154e1c67d3",
   "metadata": {},
   "outputs": [
    {
     "data": {
      "text/plain": [
       "<matplotlib.image.AxesImage at 0x7fcdecf09520>"
      ]
     },
     "execution_count": 145,
     "metadata": {},
     "output_type": "execute_result"
    },
    {
     "data": {
      "image/png": "[encoded data removed]",
      "text/plain": [
       "<Figure size 432x288 with 1 Axes>"
      ]
     },
     "metadata": {
      "needs_background": "light"
     },
     "output_type": "display_data"
    }
   ],
   "source": [
    "plt.imshow(img)"
   ]
  },
  {
   "cell_type": "code",
   "execution_count": 148,
   "id": "eaa748bd-9437-48e5-92d5-70095730fd41",
   "metadata": {},
   "outputs": [],
   "source": [
    "rmred = img.copy()\n",
    "rmred[:, :, 1:] = 0"
   ]
  },
  {
   "cell_type": "code",
   "execution_count": 149,
   "id": "856d9021-be03-4a33-9406-150c03597e51",
   "metadata": {},
   "outputs": [
    {
     "data": {
      "text/plain": [
       "<matplotlib.image.AxesImage at 0x7fcded22c850>"
      ]
     },
     "execution_count": 149,
     "metadata": {},
     "output_type": "execute_result"
    },
    {
     "data": {
      "image/png": "[encoded data removed]",
      "text/plain": [
       "<Figure size 432x288 with 1 Axes>"
      ]
     },
     "metadata": {
      "needs_background": "light"
     },
     "output_type": "display_data"
    }
   ],
   "source": [
    "plt.imshow(rmred)"
   ]
  },
  {
   "cell_type": "code",
   "execution_count": 150,
   "id": "94b89a61-9dad-42f2-b07c-40ca9d2a2ba9",
   "metadata": {},
   "outputs": [],
   "source": [
    "green = img.copy()\n",
    "green[:, :, [0, 2]] = 0"
   ]
  },
  {
   "cell_type": "code",
   "execution_count": 151,
   "id": "fafd4778-2eff-48b1-9c19-d2ee53d2d213",
   "metadata": {},
   "outputs": [
    {
     "data": {
      "text/plain": [
       "<matplotlib.image.AxesImage at 0x7fcded342a30>"
      ]
     },
     "execution_count": 151,
     "metadata": {},
     "output_type": "execute_result"
    },
    {
     "data": {
      "image/png": "[encoded data removed]",
      "text/plain": [
       "<Figure size 432x288 with 1 Axes>"
      ]
     },
     "metadata": {
      "needs_background": "light"
     },
     "output_type": "display_data"
    }
   ],
   "source": [
    "plt.imshow(green)"
   ]
  },
  {
   "cell_type": "code",
   "execution_count": 152,
   "id": "7a94062c-c721-483b-90d0-9ee75bcaf24f",
   "metadata": {},
   "outputs": [],
   "source": [
    "first = [1, 2, 4]"
   ]
  },
  {
   "cell_type": "code",
   "execution_count": 153,
   "id": "990624b3-c154-4a1b-bddb-3a1e138776f8",
   "metadata": {},
   "outputs": [],
   "source": [
    "second = [10, 11, 12]"
   ]
  },
  {
   "cell_type": "code",
   "execution_count": 154,
   "id": "6cb79a8d-10bd-4270-8ef2-2ea13e992bf0",
   "metadata": {},
   "outputs": [],
   "source": [
    "third = [first, second]"
   ]
  },
  {
   "cell_type": "code",
   "execution_count": 155,
   "id": "40f15d0d-ab9c-4c70-a3a6-44c79e8d12dc",
   "metadata": {},
   "outputs": [],
   "source": [
    "fourth = third.copy()"
   ]
  },
  {
   "cell_type": "code",
   "execution_count": 156,
   "id": "bc078c91-1e11-4ac0-84ff-ceb75ebd93d4",
   "metadata": {},
   "outputs": [],
   "source": [
    "fourth[0].append(1000)"
   ]
  },
  {
   "cell_type": "code",
   "execution_count": 157,
   "id": "368efdc7-1166-4a8d-8138-1b60b787adab",
   "metadata": {},
   "outputs": [
    {
     "data": {
      "text/plain": [
       "[[1, 2, 4, 1000], [10, 11, 12]]"
      ]
     },
     "execution_count": 157,
     "metadata": {},
     "output_type": "execute_result"
    }
   ],
   "source": [
    "third"
   ]
  },
  {
   "cell_type": "code",
   "execution_count": 158,
   "id": "9cd7a7e1-a3a4-43e1-929a-44741498e811",
   "metadata": {},
   "outputs": [
    {
     "data": {
      "text/plain": [
       "[[1, 2, 4, 1000], [10, 11, 12]]"
      ]
     },
     "execution_count": 158,
     "metadata": {},
     "output_type": "execute_result"
    }
   ],
   "source": [
    "fourth"
   ]
  },
  {
   "cell_type": "code",
   "execution_count": 159,
   "id": "039d9a33-d8d3-4b69-80ed-6842bd1aa91a",
   "metadata": {},
   "outputs": [],
   "source": [
    "import json"
   ]
  },
  {
   "cell_type": "code",
   "execution_count": 160,
   "id": "a604112c-7960-477e-b0e8-acfb58678a72",
   "metadata": {},
   "outputs": [],
   "source": [
    "tdump = json.dumps(third)"
   ]
  },
  {
   "cell_type": "code",
   "execution_count": 164,
   "id": "d513ba9e-3801-492e-b25d-41bd60d053b3",
   "metadata": {},
   "outputs": [
    {
     "data": {
      "text/plain": [
       "str"
      ]
     },
     "execution_count": 164,
     "metadata": {},
     "output_type": "execute_result"
    }
   ],
   "source": [
    "type(tdump)"
   ]
  },
  {
   "cell_type": "code",
   "execution_count": 162,
   "id": "c0bf20d2-3f49-4da7-b16c-ff928a2b9b31",
   "metadata": {},
   "outputs": [],
   "source": [
    "made = json.loads(tdump)"
   ]
  },
  {
   "cell_type": "code",
   "execution_count": 163,
   "id": "6abbec6e-eed1-4935-a9dd-67f2c3c06172",
   "metadata": {},
   "outputs": [
    {
     "data": {
      "text/plain": [
       "[[1, 2, 4, 1000], [10, 11, 12]]"
      ]
     },
     "execution_count": 163,
     "metadata": {},
     "output_type": "execute_result"
    }
   ],
   "source": [
    "made"
   ]
  },
  {
   "cell_type": "code",
   "execution_count": null,
   "id": "0837f9aa-5d31-48ab-b0b7-429ff1bff50c",
   "metadata": {},
   "outputs": [],
   "source": []
  }
 ],
 "metadata": {
  "kernelspec": {
   "display_name": "Python 3",
   "language": "python",
   "name": "python3"
  },
  "language_info": {
   "codemirror_mode": {
    "name": "ipython",
    "version": 3
   },
   "file_extension": ".py",
   "mimetype": "text/x-python",
   "name": "python",
   "nbconvert_exporter": "python",
   "pygments_lexer": "ipython3",
   "version": "3.8.8"
  }
 },
 "nbformat": 4,
 "nbformat_minor": 5
}
