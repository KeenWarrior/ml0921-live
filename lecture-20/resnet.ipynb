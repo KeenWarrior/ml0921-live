{
  "nbformat": 4,
  "nbformat_minor": 0,
  "metadata": {
    "colab": {
      "name": "resnet.ipynb",
      "provenance": []
    },
    "kernelspec": {
      "name": "python3",
      "display_name": "Python 3"
    },
    "language_info": {
      "name": "python"
    },
    "accelerator": "GPU"
  },
  "cells": [
    {
      "cell_type": "code",
      "metadata": {
        "colab": {
          "base_uri": "https://localhost:8080/"
        },
        "id": "8aK-oLivsSY9",
        "outputId": "a19992ad-baf3-45ec-af8e-b099c5e05d7e"
      },
      "source": [
        "! kaggle"
      ],
      "execution_count": 1,
      "outputs": [
        {
          "output_type": "stream",
          "name": "stdout",
          "text": [
            "Traceback (most recent call last):\n",
            "  File \"/usr/local/bin/kaggle\", line 5, in <module>\n",
            "    from kaggle.cli import main\n",
            "  File \"/usr/local/lib/python2.7/dist-packages/kaggle/__init__.py\", line 23, in <module>\n",
            "    api.authenticate()\n",
            "  File \"/usr/local/lib/python2.7/dist-packages/kaggle/api/kaggle_api_extended.py\", line 146, in authenticate\n",
            "    self.config_file, self.config_dir))\n",
            "IOError: Could not find kaggle.json. Make sure it's located in /root/.kaggle. Or use the environment method.\n"
          ]
        }
      ]
    },
    {
      "cell_type": "code",
      "metadata": {
        "id": "orFmBc3OsefV"
      },
      "source": [
        "! mv kaggle.json /root/.kaggle/kaggle.json"
      ],
      "execution_count": 3,
      "outputs": []
    },
    {
      "cell_type": "code",
      "metadata": {
        "colab": {
          "base_uri": "https://localhost:8080/"
        },
        "id": "aR-xMnIAs1lQ",
        "outputId": "aad19c7b-a273-4842-a87e-09853c20e6da"
      },
      "source": [
        "! kaggle"
      ],
      "execution_count": 4,
      "outputs": [
        {
          "output_type": "stream",
          "name": "stdout",
          "text": [
            "Warning: Your Kaggle API key is readable by other users on this system! To fix this, you can run 'chmod 600 /root/.kaggle/kaggle.json'\n",
            "usage: kaggle [-h] [-v] {competitions,c,datasets,d,kernels,k,config} ...\n",
            "kaggle: error: too few arguments\n"
          ]
        }
      ]
    },
    {
      "cell_type": "code",
      "metadata": {
        "colab": {
          "base_uri": "https://localhost:8080/"
        },
        "id": "HH3flKo6s3r6",
        "outputId": "0f22b9cc-e2c9-4aee-920c-d69c6ec24aa2"
      },
      "source": [
        "! kaggle datasets download ellenyusa/4classimages"
      ],
      "execution_count": 5,
      "outputs": [
        {
          "output_type": "stream",
          "name": "stdout",
          "text": [
            "Warning: Your Kaggle API key is readable by other users on this system! To fix this, you can run 'chmod 600 /root/.kaggle/kaggle.json'\n",
            "Downloading 4classimages.zip to /content\n",
            " 86% 33.0M/38.5M [00:01<00:00, 9.38MB/s]\n",
            "100% 38.5M/38.5M [00:01<00:00, 24.2MB/s]\n"
          ]
        }
      ]
    },
    {
      "cell_type": "code",
      "metadata": {
        "id": "KRPWmEuZs9zL"
      },
      "source": [
        "! unzip --qq 4classimages.zip"
      ],
      "execution_count": 6,
      "outputs": []
    },
    {
      "cell_type": "code",
      "metadata": {
        "id": "szy9d8QrtOG3"
      },
      "source": [
        "! rm -rf data/data"
      ],
      "execution_count": 7,
      "outputs": []
    },
    {
      "cell_type": "code",
      "metadata": {
        "id": "rwbpPin9zfbX"
      },
      "source": [
        ""
      ],
      "execution_count": null,
      "outputs": []
    },
    {
      "cell_type": "code",
      "metadata": {
        "id": "ZDz9foaZtWSH"
      },
      "source": [
        "from tensorflow.keras.preprocessing.image import ImageDataGenerator"
      ],
      "execution_count": 9,
      "outputs": []
    },
    {
      "cell_type": "code",
      "metadata": {
        "id": "ghhVl7twtnZM"
      },
      "source": [
        "idg = ImageDataGenerator()"
      ],
      "execution_count": 10,
      "outputs": []
    },
    {
      "cell_type": "code",
      "metadata": {
        "colab": {
          "base_uri": "https://localhost:8080/"
        },
        "id": "Y2h5dLEbt07g",
        "outputId": "698a4de5-a010-4bd3-dae1-7f21c9c3ff6e"
      },
      "source": [
        "gen = idg.flow_from_directory(\"data\", batch_size=100, target_size=(200, 200))"
      ],
      "execution_count": 114,
      "outputs": [
        {
          "output_type": "stream",
          "name": "stdout",
          "text": [
            "Found 808 images belonging to 4 classes.\n"
          ]
        }
      ]
    },
    {
      "cell_type": "code",
      "metadata": {
        "colab": {
          "base_uri": "https://localhost:8080/"
        },
        "id": "6TuisDn0t7qW",
        "outputId": "273c12af-61f3-431e-e827-4651f6eb0b16"
      },
      "source": [
        "gen.class_indices"
      ],
      "execution_count": 115,
      "outputs": [
        {
          "output_type": "execute_result",
          "data": {
            "text/plain": [
              "{'Humans': 0, 'cats': 1, 'dogs': 2, 'horses': 3}"
            ]
          },
          "metadata": {},
          "execution_count": 115
        }
      ]
    },
    {
      "cell_type": "code",
      "metadata": {
        "id": "_rJOJwRpt_5_"
      },
      "source": [
        "from tensorflow.keras.models import Model\n",
        "from tensorflow.keras.applications.resnet50 import ResNet50\n",
        "from tensorflow.keras.layers import Input, Dense, Reshape, Flatten, Conv2D, MaxPooling2D, Dropout"
      ],
      "execution_count": 116,
      "outputs": []
    },
    {
      "cell_type": "code",
      "metadata": {
        "id": "kEim8qom0Igs"
      },
      "source": [
        "resmodel = ResNet50(include_top=False, input_shape=(200, 200, 3))"
      ],
      "execution_count": 117,
      "outputs": []
    },
    {
      "cell_type": "code",
      "metadata": {
        "colab": {
          "base_uri": "https://localhost:8080/"
        },
        "id": "A65sysD40fsB",
        "outputId": "e76e8424-ad49-47d5-b4b3-5106c7d18cfa"
      },
      "source": [
        "resmodel.output"
      ],
      "execution_count": 118,
      "outputs": [
        {
          "output_type": "execute_result",
          "data": {
            "text/plain": [
              "<KerasTensor: shape=(None, 7, 7, 2048) dtype=float32 (created by layer 'conv5_block3_out')>"
            ]
          },
          "metadata": {},
          "execution_count": 118
        }
      ]
    },
    {
      "cell_type": "code",
      "metadata": {
        "id": "y6wJMC-p0x_T"
      },
      "source": [
        "resmodel.trainable = False"
      ],
      "execution_count": 119,
      "outputs": []
    },
    {
      "cell_type": "code",
      "metadata": {
        "id": "ijWhxbcAuEKm"
      },
      "source": [
        "flat = Flatten()(resmodel.output)\n",
        "d1 = Dense(2000, activation=\"relu\")(flat)\n",
        "d2 = Dense(800, activation=\"relu\")(d1)\n",
        "d3 = Dense(200, activation=\"relu\")(d2)\n",
        "drop1 = Dropout(.2)(d3)\n",
        "d4 = Dense(100, activation=\"relu\")(drop1)\n",
        "d5 = Dense(50, activation=\"relu\")(d4)\n",
        "drop2 = Dropout(.2)(d5)\n",
        "out_layer = Dense(4, activation=\"softmax\")(drop2)"
      ],
      "execution_count": 120,
      "outputs": []
    },
    {
      "cell_type": "code",
      "metadata": {
        "id": "MFCiz6MMuXMd"
      },
      "source": [
        "model = Model(resmodel.input, out_layer)"
      ],
      "execution_count": 121,
      "outputs": []
    },
    {
      "cell_type": "code",
      "metadata": {
        "id": "x66VjujA1B1q"
      },
      "source": [
        "# model.summary()"
      ],
      "execution_count": 122,
      "outputs": []
    },
    {
      "cell_type": "code",
      "metadata": {
        "id": "7C9qvDYSuccb"
      },
      "source": [
        "model.compile(optimizer=\"adam\", loss=\"categorical_crossentropy\", metrics=[\"accuracy\"])"
      ],
      "execution_count": 123,
      "outputs": []
    },
    {
      "cell_type": "code",
      "metadata": {
        "colab": {
          "base_uri": "https://localhost:8080/"
        },
        "id": "IH9R_6TNufIJ",
        "outputId": "6bd58585-97e5-4a91-f3c7-88eb4271eb93"
      },
      "source": [
        "model.fit_generator(gen, steps_per_epoch=8, epochs=10)"
      ],
      "execution_count": 124,
      "outputs": [
        {
          "output_type": "stream",
          "name": "stderr",
          "text": [
            "/usr/local/lib/python3.7/dist-packages/keras/engine/training.py:1972: UserWarning: `Model.fit_generator` is deprecated and will be removed in a future version. Please use `Model.fit`, which supports generators.\n",
            "  warnings.warn('`Model.fit_generator` is deprecated and '\n"
          ]
        },
        {
          "output_type": "stream",
          "name": "stdout",
          "text": [
            "Epoch 1/10\n",
            "8/8 [==============================] - 11s 672ms/step - loss: 19.2056 - accuracy: 0.3814\n",
            "Epoch 2/10\n",
            "8/8 [==============================] - 6s 662ms/step - loss: 5.8477 - accuracy: 0.7063\n",
            "Epoch 3/10\n",
            "8/8 [==============================] - 5s 614ms/step - loss: 2.7486 - accuracy: 0.7895\n",
            "Epoch 4/10\n",
            "8/8 [==============================] - 6s 663ms/step - loss: 1.0189 - accuracy: 0.8737\n",
            "Epoch 5/10\n",
            "8/8 [==============================] - 5s 617ms/step - loss: 0.3998 - accuracy: 0.9308\n",
            "Epoch 6/10\n",
            "8/8 [==============================] - 6s 666ms/step - loss: 0.3314 - accuracy: 0.9538\n",
            "Epoch 7/10\n",
            "8/8 [==============================] - 5s 685ms/step - loss: 0.1127 - accuracy: 0.9689\n",
            "Epoch 8/10\n",
            "8/8 [==============================] - 5s 615ms/step - loss: 0.0807 - accuracy: 0.9788\n",
            "Epoch 9/10\n",
            "8/8 [==============================] - 6s 668ms/step - loss: 0.0418 - accuracy: 0.9862\n",
            "Epoch 10/10\n",
            "8/8 [==============================] - 5s 625ms/step - loss: 0.0473 - accuracy: 0.9901\n"
          ]
        },
        {
          "output_type": "execute_result",
          "data": {
            "text/plain": [
              "<keras.callbacks.History at 0x7faa74a55950>"
            ]
          },
          "metadata": {},
          "execution_count": 124
        }
      ]
    },
    {
      "cell_type": "code",
      "metadata": {
        "id": "0nq4htfuxDrz"
      },
      "source": [
        "import requests"
      ],
      "execution_count": 125,
      "outputs": []
    },
    {
      "cell_type": "code",
      "metadata": {
        "id": "Hu45rXYwxJ2Q"
      },
      "source": [
        "url = r\"https://bsmedia.business-standard.com/_media/bs/img/article/2021-02/03/full/1612372052-5838.jpg\"\n",
        "with open(\"myimg.png\", \"wb\") as f:\n",
        "  f.write(requests.get(url).content)\n"
      ],
      "execution_count": 154,
      "outputs": []
    },
    {
      "cell_type": "code",
      "metadata": {
        "id": "PWLx5t8dvj_J"
      },
      "source": [
        "import cv2\n",
        "import numpy as np\n",
        "import matplotlib.pyplot as plt"
      ],
      "execution_count": 155,
      "outputs": []
    },
    {
      "cell_type": "code",
      "metadata": {
        "id": "vQl6P_sywtiJ"
      },
      "source": [
        "from tensorflow.keras.preprocessing.image import load_img"
      ],
      "execution_count": 156,
      "outputs": []
    },
    {
      "cell_type": "code",
      "metadata": {
        "id": "7KcZAsnWxAOl"
      },
      "source": [
        "img = load_img(\"myimg.png\", target_size=(200, 200))"
      ],
      "execution_count": 157,
      "outputs": []
    },
    {
      "cell_type": "code",
      "metadata": {
        "id": "7wjKiRMzx3Ll"
      },
      "source": [
        "mpimg = np.array(img)"
      ],
      "execution_count": 158,
      "outputs": []
    },
    {
      "cell_type": "code",
      "metadata": {
        "id": "MTtuim3Rx4-i"
      },
      "source": [
        "result = model.predict(np.array([mpimg]))"
      ],
      "execution_count": 159,
      "outputs": []
    },
    {
      "cell_type": "code",
      "metadata": {
        "colab": {
          "base_uri": "https://localhost:8080/"
        },
        "id": "FWDS95oWyA0_",
        "outputId": "7a416a89-f6cf-40da-a95c-7645acec050d"
      },
      "source": [
        "result.argmax(axis=1)"
      ],
      "execution_count": 160,
      "outputs": [
        {
          "output_type": "execute_result",
          "data": {
            "text/plain": [
              "array([0])"
            ]
          },
          "metadata": {},
          "execution_count": 160
        }
      ]
    },
    {
      "cell_type": "code",
      "metadata": {
        "colab": {
          "base_uri": "https://localhost:8080/"
        },
        "id": "dQiqOv78yHx6",
        "outputId": "dcd061a5-b317-40d0-e42a-0a590d5f80a2"
      },
      "source": [
        "gen.class_indices"
      ],
      "execution_count": 153,
      "outputs": [
        {
          "output_type": "execute_result",
          "data": {
            "text/plain": [
              "{'Humans': 0, 'cats': 1, 'dogs': 2, 'horses': 3}"
            ]
          },
          "metadata": {},
          "execution_count": 153
        }
      ]
    },
    {
      "cell_type": "code",
      "metadata": {
        "id": "l-69_03hyLd_"
      },
      "source": [
        "import cv2"
      ],
      "execution_count": 66,
      "outputs": []
    },
    {
      "cell_type": "code",
      "metadata": {
        "id": "FOi7QJ9-2oLO"
      },
      "source": [
        ""
      ],
      "execution_count": 93,
      "outputs": []
    },
    {
      "cell_type": "code",
      "metadata": {
        "colab": {
          "base_uri": "https://localhost:8080/",
          "height": 287
        },
        "id": "lMcTfZEe2rnd",
        "outputId": "742a562a-94bc-45fa-ac1a-d59b7573231c"
      },
      "source": [
        "plt.imshow(mpimg)"
      ],
      "execution_count": 93,
      "outputs": [
        {
          "output_type": "execute_result",
          "data": {
            "text/plain": [
              "<matplotlib.image.AxesImage at 0x7faa7e4f6d50>"
            ]
          },
          "metadata": {},
          "execution_count": 93
        },
        {
          "output_type": "display_data",
          "data": {
            "image/png": "[encoded data removed]",
            "text/plain": [
              "<Figure size 432x288 with 1 Axes>"
            ]
          },
          "metadata": {
            "needs_background": "light"
          }
        }
      ]
    },
    {
      "cell_type": "code",
      "metadata": {
        "id": "0nfzwfGQ2sjH"
      },
      "source": [
        ""
      ],
      "execution_count": null,
      "outputs": []
    }
  ]
}