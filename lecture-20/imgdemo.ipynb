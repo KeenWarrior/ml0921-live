{
  "nbformat": 4,
  "nbformat_minor": 0,
  "metadata": {
    "colab": {
      "name": "imgdemo.ipynb",
      "provenance": []
    },
    "kernelspec": {
      "name": "python3",
      "display_name": "Python 3"
    },
    "language_info": {
      "name": "python"
    },
    "accelerator": "GPU"
  },
  "cells": [
    {
      "cell_type": "code",
      "metadata": {
        "colab": {
          "base_uri": "https://localhost:8080/"
        },
        "id": "8aK-oLivsSY9",
        "outputId": "c4ddd5ca-af48-45c0-94f2-3fb19c13c83e"
      },
      "source": [
        "! kaggle"
      ],
      "execution_count": 1,
      "outputs": [
        {
          "output_type": "stream",
          "name": "stdout",
          "text": [
            "Traceback (most recent call last):\n",
            "  File \"/usr/local/bin/kaggle\", line 5, in <module>\n",
            "    from kaggle.cli import main\n",
            "  File \"/usr/local/lib/python2.7/dist-packages/kaggle/__init__.py\", line 23, in <module>\n",
            "    api.authenticate()\n",
            "  File \"/usr/local/lib/python2.7/dist-packages/kaggle/api/kaggle_api_extended.py\", line 146, in authenticate\n",
            "    self.config_file, self.config_dir))\n",
            "IOError: Could not find kaggle.json. Make sure it's located in /root/.kaggle. Or use the environment method.\n"
          ]
        }
      ]
    },
    {
      "cell_type": "code",
      "metadata": {
        "id": "orFmBc3OsefV"
      },
      "source": [
        "! mv kaggle.json /root/.kaggle/kaggle.json"
      ],
      "execution_count": 2,
      "outputs": []
    },
    {
      "cell_type": "code",
      "metadata": {
        "colab": {
          "base_uri": "https://localhost:8080/"
        },
        "id": "aR-xMnIAs1lQ",
        "outputId": "8da6acf1-3f4f-4337-eb9b-b61519dd857f"
      },
      "source": [
        "! kaggle"
      ],
      "execution_count": 3,
      "outputs": [
        {
          "output_type": "stream",
          "name": "stdout",
          "text": [
            "Warning: Your Kaggle API key is readable by other users on this system! To fix this, you can run 'chmod 600 /root/.kaggle/kaggle.json'\n",
            "usage: kaggle [-h] [-v] {competitions,c,datasets,d,kernels,k,config} ...\n",
            "kaggle: error: too few arguments\n"
          ]
        }
      ]
    },
    {
      "cell_type": "code",
      "metadata": {
        "colab": {
          "base_uri": "https://localhost:8080/"
        },
        "id": "HH3flKo6s3r6",
        "outputId": "44d54fb0-af2f-4256-c8ec-2737543e0501"
      },
      "source": [
        "! kaggle datasets download ellenyusa/4classimages"
      ],
      "execution_count": 4,
      "outputs": [
        {
          "output_type": "stream",
          "name": "stdout",
          "text": [
            "Warning: Your Kaggle API key is readable by other users on this system! To fix this, you can run 'chmod 600 /root/.kaggle/kaggle.json'\n",
            "Downloading 4classimages.zip to /content\n",
            " 91% 35.0M/38.5M [00:00<00:00, 57.7MB/s]\n",
            "100% 38.5M/38.5M [00:00<00:00, 65.7MB/s]\n"
          ]
        }
      ]
    },
    {
      "cell_type": "code",
      "metadata": {
        "id": "KRPWmEuZs9zL"
      },
      "source": [
        "! unzip --qq 4classimages.zip"
      ],
      "execution_count": 5,
      "outputs": []
    },
    {
      "cell_type": "code",
      "metadata": {
        "id": "szy9d8QrtOG3"
      },
      "source": [
        "! rm -rf data/data"
      ],
      "execution_count": 6,
      "outputs": []
    },
    {
      "cell_type": "code",
      "metadata": {
        "id": "ZDz9foaZtWSH"
      },
      "source": [
        "from tensorflow.keras.preprocessing.image import ImageDataGenerator"
      ],
      "execution_count": 7,
      "outputs": []
    },
    {
      "cell_type": "code",
      "metadata": {
        "id": "ghhVl7twtnZM"
      },
      "source": [
        "idg = ImageDataGenerator()"
      ],
      "execution_count": 8,
      "outputs": []
    },
    {
      "cell_type": "code",
      "metadata": {
        "colab": {
          "base_uri": "https://localhost:8080/"
        },
        "id": "Y2h5dLEbt07g",
        "outputId": "c473a0d7-7476-4bdf-f41f-30e594bb70d0"
      },
      "source": [
        "gen = idg.flow_from_directory(\"data\", batch_size=100, target_size=(100, 100))"
      ],
      "execution_count": 9,
      "outputs": [
        {
          "output_type": "stream",
          "name": "stdout",
          "text": [
            "Found 808 images belonging to 4 classes.\n"
          ]
        }
      ]
    },
    {
      "cell_type": "code",
      "metadata": {
        "colab": {
          "base_uri": "https://localhost:8080/"
        },
        "id": "6TuisDn0t7qW",
        "outputId": "28c2ed61-18cb-485a-989a-1b5185484b95"
      },
      "source": [
        "gen.class_indices"
      ],
      "execution_count": 10,
      "outputs": [
        {
          "output_type": "execute_result",
          "data": {
            "text/plain": [
              "{'Humans': 0, 'cats': 1, 'dogs': 2, 'horses': 3}"
            ]
          },
          "metadata": {},
          "execution_count": 10
        }
      ]
    },
    {
      "cell_type": "code",
      "metadata": {
        "id": "_rJOJwRpt_5_"
      },
      "source": [
        "from tensorflow.keras.models import Model\n",
        "from tensorflow.keras.layers import Input, Dense, Reshape, Flatten, Conv2D, MaxPooling2D"
      ],
      "execution_count": 11,
      "outputs": []
    },
    {
      "cell_type": "code",
      "metadata": {
        "id": "ijWhxbcAuEKm"
      },
      "source": [
        "in_layer = Input(shape=[100, 100, 3])\n",
        "c1 = Conv2D(16, 3, activation=\"relu\")(in_layer)\n",
        "m1 = MaxPooling2D(2)(c1)\n",
        "c2 = Conv2D(32, 3, activation=\"relu\")(m1)\n",
        "m2 = MaxPooling2D(2)(c2)\n",
        "flat = Flatten()(m2)\n",
        "d1 = Dense(500, activation=\"relu\")(flat)\n",
        "d2 = Dense(200, activation=\"relu\")(d1)\n",
        "d3 = Dense(50, activation=\"relu\")(d2)\n",
        "out_layer = Dense(4, activation=\"softmax\")(d3)"
      ],
      "execution_count": 12,
      "outputs": []
    },
    {
      "cell_type": "code",
      "metadata": {
        "id": "MFCiz6MMuXMd"
      },
      "source": [
        "model = Model(in_layer, out_layer)"
      ],
      "execution_count": 13,
      "outputs": []
    },
    {
      "cell_type": "code",
      "metadata": {
        "id": "7C9qvDYSuccb"
      },
      "source": [
        "model.compile(optimizer=\"adam\", loss=\"categorical_crossentropy\", metrics=[\"accuracy\"])"
      ],
      "execution_count": 14,
      "outputs": []
    },
    {
      "cell_type": "code",
      "metadata": {
        "colab": {
          "base_uri": "https://localhost:8080/"
        },
        "id": "IH9R_6TNufIJ",
        "outputId": "2323fda3-57d7-4276-8c08-b680bb91a2cd"
      },
      "source": [
        "model.fit_generator(gen, steps_per_epoch=8, epochs=10)"
      ],
      "execution_count": 19,
      "outputs": [
        {
          "output_type": "stream",
          "name": "stderr",
          "text": [
            "/usr/local/lib/python3.7/dist-packages/keras/engine/training.py:1972: UserWarning: `Model.fit_generator` is deprecated and will be removed in a future version. Please use `Model.fit`, which supports generators.\n",
            "  warnings.warn('`Model.fit_generator` is deprecated and '\n"
          ]
        },
        {
          "output_type": "stream",
          "name": "stdout",
          "text": [
            "Epoch 1/10\n",
            "8/8 [==============================] - 2s 259ms/step - loss: 0.5339 - accuracy: 0.8136\n",
            "Epoch 2/10\n",
            "8/8 [==============================] - 2s 225ms/step - loss: 0.2540 - accuracy: 0.9167\n",
            "Epoch 3/10\n",
            "8/8 [==============================] - 2s 236ms/step - loss: 0.1146 - accuracy: 0.9703\n",
            "Epoch 4/10\n",
            "8/8 [==============================] - 2s 248ms/step - loss: 0.0557 - accuracy: 0.9887\n",
            "Epoch 5/10\n",
            "8/8 [==============================] - 2s 217ms/step - loss: 0.0243 - accuracy: 0.9944\n",
            "Epoch 6/10\n",
            "8/8 [==============================] - 2s 226ms/step - loss: 0.0077 - accuracy: 1.0000\n",
            "Epoch 7/10\n",
            "8/8 [==============================] - 2s 227ms/step - loss: 0.0124 - accuracy: 0.9986\n",
            "Epoch 8/10\n",
            "8/8 [==============================] - 2s 231ms/step - loss: 0.0158 - accuracy: 0.9958\n",
            "Epoch 9/10\n",
            "8/8 [==============================] - 2s 214ms/step - loss: 0.0099 - accuracy: 1.0000\n",
            "Epoch 10/10\n",
            "8/8 [==============================] - 2s 220ms/step - loss: 0.0067 - accuracy: 1.0000\n"
          ]
        },
        {
          "output_type": "execute_result",
          "data": {
            "text/plain": [
              "<keras.callbacks.History at 0x7f456afb2c10>"
            ]
          },
          "metadata": {},
          "execution_count": 19
        }
      ]
    },
    {
      "cell_type": "code",
      "metadata": {
        "id": "0nq4htfuxDrz"
      },
      "source": [
        "import requests"
      ],
      "execution_count": 22,
      "outputs": []
    },
    {
      "cell_type": "code",
      "metadata": {
        "id": "Hu45rXYwxJ2Q"
      },
      "source": [
        "url = r\"https://upload.wikimedia.org/wikipedia/commons/8/85/Elon_Musk_Royal_Society_%28crop1%29.jpg\"\n",
        "with open(\"myimg.png\", \"wb\") as f:\n",
        "  f.write(requests.get(url).content)\n"
      ],
      "execution_count": 34,
      "outputs": []
    },
    {
      "cell_type": "code",
      "metadata": {
        "id": "PWLx5t8dvj_J"
      },
      "source": [
        "import cv2\n",
        "import numpy as np\n",
        "import matplotlib.pyplot as plt"
      ],
      "execution_count": 35,
      "outputs": []
    },
    {
      "cell_type": "code",
      "metadata": {
        "id": "vQl6P_sywtiJ"
      },
      "source": [
        "from tensorflow.keras.preprocessing.image import load_img"
      ],
      "execution_count": 36,
      "outputs": []
    },
    {
      "cell_type": "code",
      "metadata": {
        "id": "7KcZAsnWxAOl"
      },
      "source": [
        "img = load_img(\"myimg.png\", target_size=(100, 100))"
      ],
      "execution_count": 37,
      "outputs": []
    },
    {
      "cell_type": "code",
      "metadata": {
        "id": "7wjKiRMzx3Ll"
      },
      "source": [
        "mpimg = np.array(img)"
      ],
      "execution_count": 38,
      "outputs": []
    },
    {
      "cell_type": "code",
      "metadata": {
        "id": "MTtuim3Rx4-i"
      },
      "source": [
        "result = model.predict(np.array([mpimg]))"
      ],
      "execution_count": 39,
      "outputs": []
    },
    {
      "cell_type": "code",
      "metadata": {
        "colab": {
          "base_uri": "https://localhost:8080/"
        },
        "id": "FWDS95oWyA0_",
        "outputId": "e3dc8826-9354-4c17-c563-fa8f66f147b2"
      },
      "source": [
        "result.argmax(axis=1)"
      ],
      "execution_count": 40,
      "outputs": [
        {
          "output_type": "execute_result",
          "data": {
            "text/plain": [
              "array([2])"
            ]
          },
          "metadata": {},
          "execution_count": 40
        }
      ]
    },
    {
      "cell_type": "code",
      "metadata": {
        "colab": {
          "base_uri": "https://localhost:8080/"
        },
        "id": "dQiqOv78yHx6",
        "outputId": "4bab6e7e-ce80-48e5-e871-0019a8254d46"
      },
      "source": [
        "gen.class_indices"
      ],
      "execution_count": 41,
      "outputs": [
        {
          "output_type": "execute_result",
          "data": {
            "text/plain": [
              "{'Humans': 0, 'cats': 1, 'dogs': 2, 'horses': 3}"
            ]
          },
          "metadata": {},
          "execution_count": 41
        }
      ]
    },
    {
      "cell_type": "code",
      "metadata": {
        "id": "l-69_03hyLd_"
      },
      "source": [
        ""
      ],
      "execution_count": null,
      "outputs": []
    }
  ]
}