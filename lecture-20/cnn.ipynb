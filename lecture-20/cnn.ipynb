{
  "nbformat": 4,
  "nbformat_minor": 5,
  "metadata": {
    "kernelspec": {
      "display_name": "Python 3",
      "language": "python",
      "name": "python3"
    },
    "language_info": {
      "codemirror_mode": {
        "name": "ipython",
        "version": 3
      },
      "file_extension": ".py",
      "mimetype": "text/x-python",
      "name": "python",
      "nbconvert_exporter": "python",
      "pygments_lexer": "ipython3",
      "version": "3.8.8"
    },
    "colab": {
      "name": "cnn.ipynb",
      "provenance": [],
      "collapsed_sections": []
    },
    "accelerator": "GPU"
  },
  "cells": [
    {
      "cell_type": "code",
      "metadata": {
        "id": "087679a6-2e26-4c11-bf73-0f29f8b1b4e6"
      },
      "source": [
        "import tensorflow as tf\n",
        "from tensorflow.keras.preprocessing.image import ImageDataGenerator"
      ],
      "id": "087679a6-2e26-4c11-bf73-0f29f8b1b4e6",
      "execution_count": 3,
      "outputs": []
    },
    {
      "cell_type": "code",
      "metadata": {
        "colab": {
          "base_uri": "https://localhost:8080/",
          "height": 35
        },
        "id": "53442fac-24e3-4682-9fa0-c73122771134",
        "outputId": "fa98b6eb-9999-488f-c2e7-f9ecdd2fbae4"
      },
      "source": [
        "tf.__version__"
      ],
      "id": "53442fac-24e3-4682-9fa0-c73122771134",
      "execution_count": 4,
      "outputs": [
        {
          "output_type": "execute_result",
          "data": {
            "application/vnd.google.colaboratory.intrinsic+json": {
              "type": "string"
            },
            "text/plain": [
              "'2.6.0'"
            ]
          },
          "metadata": {},
          "execution_count": 4
        }
      ]
    },
    {
      "cell_type": "code",
      "metadata": {
        "id": "6153962b-4f2d-4490-9686-77e4961250d2"
      },
      "source": [
        "from tensorflow.keras.datasets import mnist\n",
        "from tensorflow.keras.utils import to_categorical"
      ],
      "id": "6153962b-4f2d-4490-9686-77e4961250d2",
      "execution_count": 5,
      "outputs": []
    },
    {
      "cell_type": "code",
      "metadata": {
        "colab": {
          "base_uri": "https://localhost:8080/"
        },
        "id": "9aff5e88-541c-4264-8d00-16fef7bf5fff",
        "outputId": "992e855e-9fca-4e6e-f787-b83c0f8c68f5"
      },
      "source": [
        "(x_train, y_train), (x_test, y_test) = mnist.load_data()"
      ],
      "id": "9aff5e88-541c-4264-8d00-16fef7bf5fff",
      "execution_count": 8,
      "outputs": [
        {
          "output_type": "stream",
          "name": "stdout",
          "text": [
            "Downloading data from https://storage.googleapis.com/tensorflow/tf-keras-datasets/mnist.npz\n",
            "11493376/11490434 [==============================] - 0s 0us/step\n",
            "11501568/11490434 [==============================] - 0s 0us/step\n"
          ]
        }
      ]
    },
    {
      "cell_type": "code",
      "metadata": {
        "id": "590d0f7e-8ac0-4804-a4e3-dbdeb1693283"
      },
      "source": [
        "idg = ImageDataGenerator(rotation_range=10)"
      ],
      "id": "590d0f7e-8ac0-4804-a4e3-dbdeb1693283",
      "execution_count": 34,
      "outputs": []
    },
    {
      "cell_type": "code",
      "metadata": {
        "colab": {
          "base_uri": "https://localhost:8080/"
        },
        "id": "52ef5101-65d2-44de-9e52-c0c416beb42d",
        "outputId": "6d72bc00-131a-4ee6-80e7-6e507b0bb420"
      },
      "source": [
        "y_train[:10]"
      ],
      "id": "52ef5101-65d2-44de-9e52-c0c416beb42d",
      "execution_count": 35,
      "outputs": [
        {
          "output_type": "execute_result",
          "data": {
            "text/plain": [
              "array([5, 0, 4, 1, 9, 2, 1, 3, 1, 4], dtype=uint8)"
            ]
          },
          "metadata": {},
          "execution_count": 35
        }
      ]
    },
    {
      "cell_type": "code",
      "metadata": {
        "id": "cba02dbe-2ddb-4986-83b4-7ba2714a11b6"
      },
      "source": [
        "y_train_hot = to_categorical(y_train, num_classes=10)\n",
        "y_test_hot = to_categorical(y_test, num_classes=10)"
      ],
      "id": "cba02dbe-2ddb-4986-83b4-7ba2714a11b6",
      "execution_count": 36,
      "outputs": []
    },
    {
      "cell_type": "code",
      "metadata": {
        "id": "282eb0c5-6371-48ff-a070-5a90af313a41"
      },
      "source": [
        "gen = idg.flow(x_train.reshape([-1, 28, 28, 1]), y_train_hot, batch_size=500)"
      ],
      "id": "282eb0c5-6371-48ff-a070-5a90af313a41",
      "execution_count": 41,
      "outputs": []
    },
    {
      "cell_type": "code",
      "metadata": {
        "colab": {
          "base_uri": "https://localhost:8080/"
        },
        "id": "a73454c5-d782-4db5-ac63-593acc995a00",
        "outputId": "9cbeef63-67b5-4c5c-a142-6c4d8dac2693"
      },
      "source": [
        "y_train[:10]"
      ],
      "id": "a73454c5-d782-4db5-ac63-593acc995a00",
      "execution_count": 42,
      "outputs": [
        {
          "output_type": "execute_result",
          "data": {
            "text/plain": [
              "array([5, 0, 4, 1, 9, 2, 1, 3, 1, 4], dtype=uint8)"
            ]
          },
          "metadata": {},
          "execution_count": 42
        }
      ]
    },
    {
      "cell_type": "code",
      "metadata": {
        "id": "cbd1596f-ec90-4fa7-9903-9adb568389be"
      },
      "source": [
        "from tensorflow.keras.models import Model\n",
        "from tensorflow.keras.layers import Input, Dense, Reshape, Flatten, Conv2D, MaxPooling2D"
      ],
      "id": "cbd1596f-ec90-4fa7-9903-9adb568389be",
      "execution_count": 43,
      "outputs": []
    },
    {
      "cell_type": "code",
      "metadata": {
        "id": "ace1f02d-679b-4c64-af73-85588694a63b"
      },
      "source": [
        "in_layer = Input(shape=[28, 28, 1])\n",
        "c1 = Conv2D(16, 3, activation=\"relu\")(in_layer)\n",
        "m1 = MaxPooling2D(2)(c1)\n",
        "c2 = Conv2D(32, 3, activation=\"relu\")(m1)\n",
        "m2 = MaxPooling2D(2)(c2)\n",
        "flat = Flatten()(m2)\n",
        "d1 = Dense(500, activation=\"relu\")(flat)\n",
        "d2 = Dense(200, activation=\"relu\")(d1)\n",
        "d3 = Dense(50, activation=\"relu\")(d2)\n",
        "out_layer = Dense(10, activation=\"softmax\")(d3)"
      ],
      "id": "ace1f02d-679b-4c64-af73-85588694a63b",
      "execution_count": 44,
      "outputs": []
    },
    {
      "cell_type": "code",
      "metadata": {
        "id": "4d6d7c71-e5cb-4afd-9bdf-ffb59cae1718"
      },
      "source": [
        "model = Model(in_layer, out_layer)"
      ],
      "id": "4d6d7c71-e5cb-4afd-9bdf-ffb59cae1718",
      "execution_count": 45,
      "outputs": []
    },
    {
      "cell_type": "code",
      "metadata": {
        "id": "bbd67ba9-33c4-4734-a56d-f175c5b10bb3"
      },
      "source": [
        ""
      ],
      "id": "bbd67ba9-33c4-4734-a56d-f175c5b10bb3",
      "execution_count": 45,
      "outputs": []
    },
    {
      "cell_type": "code",
      "metadata": {
        "colab": {
          "base_uri": "https://localhost:8080/"
        },
        "id": "5e7f6a7d-5b6b-4ec6-a639-9ca738d9aee5",
        "outputId": "8884630b-0ffa-40e0-839a-1e16f0695a7f"
      },
      "source": [
        "model.summary()"
      ],
      "id": "5e7f6a7d-5b6b-4ec6-a639-9ca738d9aee5",
      "execution_count": 46,
      "outputs": [
        {
          "output_type": "stream",
          "name": "stdout",
          "text": [
            "Model: \"model_1\"\n",
            "_________________________________________________________________\n",
            "Layer (type)                 Output Shape              Param #   \n",
            "=================================================================\n",
            "input_3 (InputLayer)         [(None, 28, 28, 1)]       0         \n",
            "_________________________________________________________________\n",
            "conv2d_4 (Conv2D)            (None, 26, 26, 16)        160       \n",
            "_________________________________________________________________\n",
            "max_pooling2d_4 (MaxPooling2 (None, 13, 13, 16)        0         \n",
            "_________________________________________________________________\n",
            "conv2d_5 (Conv2D)            (None, 11, 11, 32)        4640      \n",
            "_________________________________________________________________\n",
            "max_pooling2d_5 (MaxPooling2 (None, 5, 5, 32)          0         \n",
            "_________________________________________________________________\n",
            "flatten_2 (Flatten)          (None, 800)               0         \n",
            "_________________________________________________________________\n",
            "dense_8 (Dense)              (None, 500)               400500    \n",
            "_________________________________________________________________\n",
            "dense_9 (Dense)              (None, 200)               100200    \n",
            "_________________________________________________________________\n",
            "dense_10 (Dense)             (None, 50)                10050     \n",
            "_________________________________________________________________\n",
            "dense_11 (Dense)             (None, 10)                510       \n",
            "=================================================================\n",
            "Total params: 516,060\n",
            "Trainable params: 516,060\n",
            "Non-trainable params: 0\n",
            "_________________________________________________________________\n"
          ]
        }
      ]
    },
    {
      "cell_type": "code",
      "metadata": {
        "id": "1a677acf-8eb3-47b3-9c04-1226ef5d09a8"
      },
      "source": [
        "model.compile(optimizer=\"adam\", loss=\"categorical_crossentropy\", metrics=[\"accuracy\"])"
      ],
      "id": "1a677acf-8eb3-47b3-9c04-1226ef5d09a8",
      "execution_count": 47,
      "outputs": []
    },
    {
      "cell_type": "code",
      "metadata": {
        "colab": {
          "base_uri": "https://localhost:8080/"
        },
        "id": "a8b96fa2-4484-473d-a360-d93b5c1618c1",
        "outputId": "4564e0d7-969b-4874-e4bd-c9e44b50fc49"
      },
      "source": [
        "model.fit_generator(gen, steps_per_epoch=50, epochs=10)"
      ],
      "id": "a8b96fa2-4484-473d-a360-d93b5c1618c1",
      "execution_count": 48,
      "outputs": [
        {
          "output_type": "stream",
          "name": "stderr",
          "text": [
            "/usr/local/lib/python3.7/dist-packages/keras/engine/training.py:1972: UserWarning: `Model.fit_generator` is deprecated and will be removed in a future version. Please use `Model.fit`, which supports generators.\n",
            "  warnings.warn('`Model.fit_generator` is deprecated and '\n"
          ]
        },
        {
          "output_type": "stream",
          "name": "stdout",
          "text": [
            "Epoch 1/10\n",
            "50/50 [==============================] - 13s 252ms/step - loss: 2.4501 - accuracy: 0.6190\n",
            "Epoch 2/10\n",
            "50/50 [==============================] - 13s 251ms/step - loss: 0.2635 - accuracy: 0.9209\n",
            "Epoch 3/10\n",
            "50/50 [==============================] - 13s 251ms/step - loss: 0.1665 - accuracy: 0.9502\n",
            "Epoch 4/10\n",
            "50/50 [==============================] - 13s 250ms/step - loss: 0.1248 - accuracy: 0.9631\n",
            "Epoch 5/10\n",
            "50/50 [==============================] - 13s 251ms/step - loss: 0.0977 - accuracy: 0.9705\n",
            "Epoch 6/10\n",
            "50/50 [==============================] - 13s 250ms/step - loss: 0.0938 - accuracy: 0.9714\n",
            "Epoch 7/10\n",
            "50/50 [==============================] - 13s 250ms/step - loss: 0.0788 - accuracy: 0.9758\n",
            "Epoch 8/10\n",
            "50/50 [==============================] - 13s 250ms/step - loss: 0.0610 - accuracy: 0.9817\n",
            "Epoch 9/10\n",
            "50/50 [==============================] - 13s 250ms/step - loss: 0.0559 - accuracy: 0.9831\n",
            "Epoch 10/10\n",
            "50/50 [==============================] - 13s 249ms/step - loss: 0.0582 - accuracy: 0.9817\n"
          ]
        },
        {
          "output_type": "execute_result",
          "data": {
            "text/plain": [
              "<keras.callbacks.History at 0x7f5c47f7db10>"
            ]
          },
          "metadata": {},
          "execution_count": 48
        }
      ]
    },
    {
      "cell_type": "code",
      "metadata": {
        "colab": {
          "base_uri": "https://localhost:8080/"
        },
        "id": "0d4af121-b195-4dac-8168-d9a251d72c3d",
        "outputId": "07a72047-030c-4d36-92ab-6bda23bd4ea5"
      },
      "source": [
        "model.evaluate(x_test, y_test_hot, verbose=0)"
      ],
      "id": "0d4af121-b195-4dac-8168-d9a251d72c3d",
      "execution_count": 49,
      "outputs": [
        {
          "output_type": "execute_result",
          "data": {
            "text/plain": [
              "[0.06236114352941513, 0.9805999994277954]"
            ]
          },
          "metadata": {},
          "execution_count": 49
        }
      ]
    },
    {
      "cell_type": "code",
      "metadata": {
        "id": "f084ebb6-6555-4d28-b0df-ac4773a42009"
      },
      "source": [
        "import cv2\n",
        "import numpy as np\n",
        "import matplotlib.pyplot as plt\n",
        "\n",
        "\n"
      ],
      "id": "f084ebb6-6555-4d28-b0df-ac4773a42009",
      "execution_count": 50,
      "outputs": []
    },
    {
      "cell_type": "code",
      "metadata": {
        "colab": {
          "base_uri": "https://localhost:8080/",
          "height": 301
        },
        "id": "0b01a2d5-5fbf-4c7a-9aa7-d3f11d482511",
        "outputId": "c3af3408-bff6-42bb-eb32-6567e7556b24"
      },
      "source": [
        "img = cv2.imread(\"five.png\")\n",
        "small = cv2.resize(img, (28, 28))\n",
        "gray = small.mean(axis=2)\n",
        "\n",
        "gray = (gray > 100).astype(int) * 255\n",
        "\n",
        "output = model.predict(np.array([gray]))\n",
        "\n",
        "print(output.argmax(axis=1))\n",
        "\n",
        "plt.imshow(gray, cmap=\"gray\")"
      ],
      "id": "0b01a2d5-5fbf-4c7a-9aa7-d3f11d482511",
      "execution_count": 56,
      "outputs": [
        {
          "output_type": "stream",
          "name": "stdout",
          "text": [
            "[5]\n"
          ]
        },
        {
          "output_type": "execute_result",
          "data": {
            "text/plain": [
              "<matplotlib.image.AxesImage at 0x7f5bf19d4d10>"
            ]
          },
          "metadata": {},
          "execution_count": 56
        },
        {
          "output_type": "display_data",
          "data": {
            "image/png": "[encoded data removed]",
            "text/plain": [
              "<Figure size 432x288 with 1 Axes>"
            ]
          },
          "metadata": {
            "needs_background": "light"
          }
        }
      ]
    },
    {
      "cell_type": "code",
      "metadata": {
        "id": "222476b1-b64c-4097-99b4-c260e8c402ab"
      },
      "source": [
        ""
      ],
      "id": "222476b1-b64c-4097-99b4-c260e8c402ab",
      "execution_count": 26,
      "outputs": []
    },
    {
      "cell_type": "code",
      "metadata": {
        "id": "fGxFdsUeph3Q"
      },
      "source": [
        ""
      ],
      "id": "fGxFdsUeph3Q",
      "execution_count": 31,
      "outputs": []
    },
    {
      "cell_type": "code",
      "metadata": {
        "id": "tmFQO2A-pk_B"
      },
      "source": [
        ""
      ],
      "id": "tmFQO2A-pk_B",
      "execution_count": null,
      "outputs": []
    }
  ]
}