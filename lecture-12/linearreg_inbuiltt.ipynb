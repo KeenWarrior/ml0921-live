{
 "cells": [
  {
   "cell_type": "code",
   "execution_count": 1,
   "id": "f4517aee-c98d-4b45-9d8a-3820e2393f16",
   "metadata": {},
   "outputs": [],
   "source": [
    "import numpy as np\n",
    "import matplotlib.pyplot as plt\n",
    "from sklearn.datasets import make_regression"
   ]
  },
  {
   "cell_type": "code",
   "execution_count": 72,
   "id": "81306c14-3dc7-4075-ba55-85a7b06439d6",
   "metadata": {},
   "outputs": [],
   "source": [
    "bias= 200\n",
    "X, y, coef = make_regression(n_samples=100, n_features=1, bias=bias, random_state=34, noise=1, coef=True)"
   ]
  },
  {
   "cell_type": "code",
   "execution_count": 73,
   "id": "0de84916-7275-454a-a8f7-3c1af8d4d1c2",
   "metadata": {},
   "outputs": [
    {
     "name": "stdout",
     "output_type": "stream",
     "text": [
      "(array(3.18242978), 200)\n"
     ]
    }
   ],
   "source": [
    "print((coef, bias))"
   ]
  },
  {
   "cell_type": "code",
   "execution_count": 74,
   "id": "d53a1e04-142d-4430-b4c5-045f5159a256",
   "metadata": {},
   "outputs": [
    {
     "data": {
      "text/plain": [
       "<matplotlib.collections.PathCollection at 0x7f9e94bfc940>"
      ]
     },
     "execution_count": 74,
     "metadata": {},
     "output_type": "execute_result"
    },
    {
     "data": {
      "image/png": "[encoded data removed]",
      "text/plain": [
       "<Figure size 432x288 with 1 Axes>"
      ]
     },
     "metadata": {
      "needs_background": "light"
     },
     "output_type": "display_data"
    }
   ],
   "source": [
    "plt.scatter(X, y)"
   ]
  },
  {
   "cell_type": "code",
   "execution_count": 75,
   "id": "cbcd7a3b-cb08-4011-83be-dab3135502c3",
   "metadata": {},
   "outputs": [],
   "source": [
    "from sklearn.linear_model import LinearRegression"
   ]
  },
  {
   "cell_type": "code",
   "execution_count": 76,
   "id": "1daaefcf-9eca-426d-b77c-ba9798a5a0d4",
   "metadata": {},
   "outputs": [],
   "source": [
    "model = LinearRegression()"
   ]
  },
  {
   "cell_type": "code",
   "execution_count": 77,
   "id": "94342bf4-a08a-4e93-88ec-e7432364989f",
   "metadata": {},
   "outputs": [
    {
     "data": {
      "text/plain": [
       "LinearRegression()"
      ]
     },
     "execution_count": 77,
     "metadata": {},
     "output_type": "execute_result"
    }
   ],
   "source": [
    "model.fit(X, y)"
   ]
  },
  {
   "cell_type": "code",
   "execution_count": 78,
   "id": "e1e5af9c-1fa7-4251-a537-1065286651be",
   "metadata": {},
   "outputs": [
    {
     "data": {
      "text/plain": [
       "array([3.13916042])"
      ]
     },
     "execution_count": 78,
     "metadata": {},
     "output_type": "execute_result"
    }
   ],
   "source": [
    "model.coef_"
   ]
  },
  {
   "cell_type": "code",
   "execution_count": 79,
   "id": "1dbb72ad-7c46-4593-90f6-4b7eb558eb97",
   "metadata": {},
   "outputs": [
    {
     "data": {
      "text/plain": [
       "200.18677494015148"
      ]
     },
     "execution_count": 79,
     "metadata": {},
     "output_type": "execute_result"
    }
   ],
   "source": [
    "model.intercept_"
   ]
  },
  {
   "cell_type": "code",
   "execution_count": 80,
   "id": "0857798d-bac2-41d7-ad58-94a2acf7b19c",
   "metadata": {},
   "outputs": [],
   "source": [
    "xp = np.linspace(-3, 2)\n",
    "\n",
    "yp = model.coef_ * xp + model.intercept_\n",
    "\n",
    "plt.scatter(X, y)\n",
    "plt.plot(xp, yp)"
   ]
  },
  {
   "cell_type": "code",
   "execution_count": null,
   "id": "421eb1bb-17c6-4a7b-8195-120e422dea24",
   "metadata": {},
   "outputs": [],
   "source": []
  },
  {
   "cell_type": "code",
   "execution_count": null,
   "id": "8410ae95-14b6-4366-851f-57f0e4125cc3",
   "metadata": {},
   "outputs": [],
   "source": []
  }
 ],
 "metadata": {
  "kernelspec": {
   "display_name": "Python 3",
   "language": "python",
   "name": "python3"
  },
  "language_info": {
   "codemirror_mode": {
    "name": "ipython",
    "version": 3
   },
   "file_extension": ".py",
   "mimetype": "text/x-python",
   "name": "python",
   "nbconvert_exporter": "python",
   "pygments_lexer": "ipython3",
   "version": "3.8.8"
  }
 },
 "nbformat": 4,
 "nbformat_minor": 5
}
