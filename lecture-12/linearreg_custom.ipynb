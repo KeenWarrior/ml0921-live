{
 "cells": [
  {
   "cell_type": "code",
   "execution_count": 1,
   "id": "f4517aee-c98d-4b45-9d8a-3820e2393f16",
   "metadata": {},
   "outputs": [],
   "source": [
    "import numpy as np\n",
    "import matplotlib.pyplot as plt\n",
    "from sklearn.datasets import make_regression"
   ]
  },
  {
   "cell_type": "code",
   "execution_count": 31,
   "id": "81306c14-3dc7-4075-ba55-85a7b06439d6",
   "metadata": {},
   "outputs": [],
   "source": [
    "bias= 10\n",
    "X, y, coef = make_regression(n_samples=100, n_features=1, bias=bias, random_state=42, noise=10, coef=True)"
   ]
  },
  {
   "cell_type": "code",
   "execution_count": 32,
   "id": "0de84916-7275-454a-a8f7-3c1af8d4d1c2",
   "metadata": {},
   "outputs": [
    {
     "name": "stdout",
     "output_type": "stream",
     "text": [
      "(array(41.74110031), 10)\n"
     ]
    }
   ],
   "source": [
    "print((coef, bias))"
   ]
  },
  {
   "cell_type": "code",
   "execution_count": 33,
   "id": "d53a1e04-142d-4430-b4c5-045f5159a256",
   "metadata": {},
   "outputs": [
    {
     "data": {
      "text/plain": [
       "<matplotlib.collections.PathCollection at 0x7f9c0fe86250>"
      ]
     },
     "execution_count": 33,
     "metadata": {},
     "output_type": "execute_result"
    },
    {
     "data": {
      "image/png": "[encoded data removed]",
      "text/plain": [
       "<Figure size 432x288 with 1 Axes>"
      ]
     },
     "metadata": {
      "needs_background": "light"
     },
     "output_type": "display_data"
    }
   ],
   "source": [
    "plt.scatter(X, y)"
   ]
  },
  {
   "cell_type": "code",
   "execution_count": 95,
   "id": "421eb1bb-17c6-4a7b-8195-120e422dea24",
   "metadata": {},
   "outputs": [],
   "source": [
    "class LinearRegCustom:\n",
    "    \n",
    "    def __init__(self, lr=1):\n",
    "        \n",
    "        self.coef_ = 0\n",
    "        self.intercept_ = 0\n",
    "        self.__lr = lr\n",
    "        \n",
    "    def fit(self, X, y):\n",
    "        \n",
    "        ya = y.reshape([-1, 1])\n",
    "        \n",
    "        errors = []\n",
    "\n",
    "        for i in range(50):\n",
    "            yp = self.predict(X)\n",
    "            delm = -((yp-ya)*X).mean()\n",
    "            delc = -((yp-ya)).mean()\n",
    "            \n",
    "#             print(delm, delc)\n",
    "            \n",
    "            self.coef_ = self.coef_ + (delm*self.__lr)\n",
    "            self.intercept_ = self.intercept_ + (delc*self.__lr)\n",
    "            \n",
    "            errors.append(((yp-ya) ** 2).mean())\n",
    "            \n",
    "        return errors\n",
    "        \n",
    "    \n",
    "    def predict(self, X):\n",
    "        return X * self.coef_ + self.intercept_\n",
    "        "
   ]
  },
  {
   "cell_type": "code",
   "execution_count": 96,
   "id": "8410ae95-14b6-4366-851f-57f0e4125cc3",
   "metadata": {},
   "outputs": [
    {
     "data": {
      "text/plain": [
       "(100,)"
      ]
     },
     "execution_count": 96,
     "metadata": {},
     "output_type": "execute_result"
    }
   ],
   "source": [
    "y.shape"
   ]
  },
  {
   "cell_type": "code",
   "execution_count": 139,
   "id": "0f8facc2-24bb-4655-86bd-d984a9e36f59",
   "metadata": {},
   "outputs": [],
   "source": [
    "model = LinearRegCustom(lr=.11)"
   ]
  },
  {
   "cell_type": "code",
   "execution_count": 140,
   "id": "3c9b653f-92ee-4ae2-b30b-7e090c5689c1",
   "metadata": {},
   "outputs": [],
   "source": [
    "errors = model.fit(X, y)"
   ]
  },
  {
   "cell_type": "code",
   "execution_count": 141,
   "id": "8052d6c8-05b7-400c-91cf-a4a8a2ecaf56",
   "metadata": {},
   "outputs": [
    {
     "data": {
      "text/plain": [
       "[<matplotlib.lines.Line2D at 0x7f9c11d419d0>]"
      ]
     },
     "execution_count": 141,
     "metadata": {},
     "output_type": "execute_result"
    },
    {
     "data": {
      "image/png": "[encoded data removed]",
      "text/plain": [
       "<Figure size 432x288 with 1 Axes>"
      ]
     },
     "metadata": {
      "needs_background": "light"
     },
     "output_type": "display_data"
    }
   ],
   "source": [
    "plt.plot(range(len(errors)), errors)"
   ]
  },
  {
   "cell_type": "code",
   "execution_count": 105,
   "id": "16bb03be-6707-4b2f-b460-eb16ae2a8074",
   "metadata": {},
   "outputs": [
    {
     "data": {
      "text/plain": [
       "44.43716967096883"
      ]
     },
     "execution_count": 105,
     "metadata": {},
     "output_type": "execute_result"
    }
   ],
   "source": [
    "model.coef_"
   ]
  },
  {
   "cell_type": "code",
   "execution_count": 59,
   "id": "e6c921c7-4817-425f-9ee1-0836cb912098",
   "metadata": {},
   "outputs": [
    {
     "data": {
      "text/plain": [
       "11.165115320525445"
      ]
     },
     "execution_count": 59,
     "metadata": {},
     "output_type": "execute_result"
    }
   ],
   "source": [
    "model.intercept_"
   ]
  },
  {
   "cell_type": "code",
   "execution_count": 60,
   "id": "5365a0ec-07e0-4fbd-b03f-ab9d94602f25",
   "metadata": {},
   "outputs": [
    {
     "data": {
      "text/plain": [
       "[<matplotlib.lines.Line2D at 0x7f9c0fd6e7c0>]"
      ]
     },
     "execution_count": 60,
     "metadata": {},
     "output_type": "execute_result"
    },
    {
     "data": {
      "image/png": "[encoded data removed]",
      "text/plain": [
       "<Figure size 432x288 with 1 Axes>"
      ]
     },
     "metadata": {
      "needs_background": "light"
     },
     "output_type": "display_data"
    }
   ],
   "source": [
    "xp = np.linspace(-3, 2)\n",
    "\n",
    "yp = model.coef_ * xp + model.intercept_\n",
    "\n",
    "plt.scatter(X, y)\n",
    "plt.plot(xp, yp)"
   ]
  },
  {
   "cell_type": "code",
   "execution_count": null,
   "id": "09f20a4e-f228-4549-9c6c-8363ac07caea",
   "metadata": {},
   "outputs": [],
   "source": []
  },
  {
   "cell_type": "code",
   "execution_count": null,
   "id": "8240aa80-64b5-44ea-ae34-6233442b0fc9",
   "metadata": {},
   "outputs": [],
   "source": []
  },
  {
   "cell_type": "code",
   "execution_count": null,
   "id": "cd82a5e8-c5e4-453d-946a-d9b51d3ff943",
   "metadata": {},
   "outputs": [],
   "source": []
  }
 ],
 "metadata": {
  "kernelspec": {
   "display_name": "Python 3",
   "language": "python",
   "name": "python3"
  },
  "language_info": {
   "codemirror_mode": {
    "name": "ipython",
    "version": 3
   },
   "file_extension": ".py",
   "mimetype": "text/x-python",
   "name": "python",
   "nbconvert_exporter": "python",
   "pygments_lexer": "ipython3",
   "version": "3.8.8"
  }
 },
 "nbformat": 4,
 "nbformat_minor": 5
}
