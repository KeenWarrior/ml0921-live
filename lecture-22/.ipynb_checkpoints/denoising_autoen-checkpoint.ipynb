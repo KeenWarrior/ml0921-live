{
 "cells": [
  {
   "cell_type": "code",
   "execution_count": 1,
   "id": "9e6c7daf-4d00-4a6e-b86f-bf85cb86579a",
   "metadata": {},
   "outputs": [],
   "source": [
    "from tensorflow.keras.datasets import mnist"
   ]
  },
  {
   "cell_type": "code",
   "execution_count": 9,
   "id": "74e07e47-6b1e-47ea-87fc-03034ceb163f",
   "metadata": {},
   "outputs": [],
   "source": [
    "(x_train, y_train), (x_test, y_test) = mnist.load_data()"
   ]
  },
  {
   "cell_type": "code",
   "execution_count": 10,
   "id": "fff143b4-0356-44d0-8216-d24906fa1876",
   "metadata": {},
   "outputs": [],
   "source": [
    "x_train = (x_train/255)\n",
    "x_test = (x_test/255)"
   ]
  },
  {
   "cell_type": "code",
   "execution_count": 13,
   "id": "630b3390-f7e5-43c1-b3ea-4de8fb377c7d",
   "metadata": {},
   "outputs": [],
   "source": [
    "from tensorflow import keras\n",
    "from tensorflow.keras import layers\n",
    "\n",
    "# This is the size of our encoded representations\n",
    "encoding_dim = 32  # 32 floats -> compression of factor 24.5, assuming the input is 784 floats\n",
    "\n",
    "# This is our input image\n",
    "input_img = keras.Input(shape=(28,28))\n",
    "reshape_flat = layers.Reshape([784])(input_img)\n",
    "encoded = layers.Dense(encoding_dim, activation='relu')(reshape_flat)\n",
    "decoded = layers.Dense(784, activation='sigmoid')(encoded)\n",
    "output = layers.Reshape([28, 28])(decoded)\n",
    "# This model maps an input to its reconstruction\n",
    "autoencoder = keras.Model(input_img, output)"
   ]
  },
  {
   "cell_type": "code",
   "execution_count": 14,
   "id": "78cdf1c1-2858-4618-b72f-f99da6a750b6",
   "metadata": {},
   "outputs": [],
   "source": [
    "autoencoder.compile(optimizer='adam', loss='binary_crossentropy')"
   ]
  },
  {
   "cell_type": "code",
   "execution_count": 16,
   "id": "a13e770f-3719-464f-b52e-abc63e2a13b0",
   "metadata": {},
   "outputs": [
    {
     "name": "stdout",
     "output_type": "stream",
     "text": [
      "Epoch 1/5\n",
      "120/120 [==============================] - 2s 15ms/step - loss: 0.1345\n",
      "Epoch 2/5\n",
      "120/120 [==============================] - 2s 14ms/step - loss: 0.1270\n",
      "Epoch 3/5\n",
      "120/120 [==============================] - 2s 14ms/step - loss: 0.1210\n",
      "Epoch 4/5\n",
      "120/120 [==============================] - 2s 14ms/step - loss: 0.1162\n",
      "Epoch 5/5\n",
      "120/120 [==============================] - 2s 17ms/step - loss: 0.1123\n"
     ]
    },
    {
     "data": {
      "text/plain": [
       "<tensorflow.python.keras.callbacks.History at 0x7f9811db1730>"
      ]
     },
     "execution_count": 16,
     "metadata": {},
     "output_type": "execute_result"
    }
   ],
   "source": [
    "autoencoder.fit(x_train, x_train, batch_size=500, epochs=5)"
   ]
  },
  {
   "cell_type": "code",
   "execution_count": 17,
   "id": "c8dc4c6b-1984-4254-be9b-d4b6cd302b21",
   "metadata": {},
   "outputs": [],
   "source": [
    "outs = autoencoder.predict(x_test[:5])"
   ]
  },
  {
   "cell_type": "code",
   "execution_count": 18,
   "id": "7998c260-232b-4a8e-bafc-c962a20fbef1",
   "metadata": {},
   "outputs": [],
   "source": [
    "import matplotlib.pyplot as plt"
   ]
  },
  {
   "cell_type": "code",
   "execution_count": 21,
   "id": "f2c3a401-27c1-4230-879e-660571ed41b2",
   "metadata": {},
   "outputs": [
    {
     "data": {
      "text/plain": [
       "<matplotlib.image.AxesImage at 0x7f97e77118b0>"
      ]
     },
     "execution_count": 21,
     "metadata": {},
     "output_type": "execute_result"
    },
    {
     "data": {
      "image/png": "[encoded data removed]",
      "text/plain": [
       "<Figure size 432x288 with 1 Axes>"
      ]
     },
     "metadata": {
      "needs_background": "light"
     },
     "output_type": "display_data"
    }
   ],
   "source": [
    "plt.imshow(x_test[3], cmap=\"gray\")"
   ]
  },
  {
   "cell_type": "code",
   "execution_count": 22,
   "id": "68e3d55f-3362-4d68-be75-242b8ebe3283",
   "metadata": {},
   "outputs": [
    {
     "data": {
      "text/plain": [
       "<matplotlib.image.AxesImage at 0x7f97e80351c0>"
      ]
     },
     "execution_count": 22,
     "metadata": {},
     "output_type": "execute_result"
    },
    {
     "data": {
      "image/png": "[encoded data removed]",
      "text/plain": [
       "<Figure size 432x288 with 1 Axes>"
      ]
     },
     "metadata": {
      "needs_background": "light"
     },
     "output_type": "display_data"
    }
   ],
   "source": [
    "plt.imshow(outs[3], cmap=\"gray\")"
   ]
  },
  {
   "cell_type": "code",
   "execution_count": 31,
   "id": "cf32c489-9f0f-4ed3-91c6-780697a2e36a",
   "metadata": {},
   "outputs": [],
   "source": [
    "encoding_dim = 32\n",
    "\n",
    "# encoder\n",
    "input_img = keras.Input(shape=(28,28))\n",
    "reshape_flat = layers.Reshape([784])(input_img)\n",
    "encoded = layers.Dense(encoding_dim, activation='relu')(reshape_flat)\n",
    "encoder = keras.Model(input_img, encoded)\n",
    "\n",
    "# decoder\n",
    "input_encoded = keras.Input(shape=[encoding_dim])\n",
    "decoded = layers.Dense(784, activation='sigmoid')(input_encoded)\n",
    "output = layers.Reshape([28, 28])(decoded)\n",
    "decoder = keras.Model(input_encoded, output)\n",
    "\n",
    "# autoencoder\n",
    "autoencoder = keras.models.Sequential()\n",
    "autoencoder.add(encoder)\n",
    "autoencoder.add(decoder)"
   ]
  },
  {
   "cell_type": "code",
   "execution_count": 32,
   "id": "7a4e948b-0936-407c-a3b2-5c0535eef697",
   "metadata": {},
   "outputs": [
    {
     "name": "stdout",
     "output_type": "stream",
     "text": [
      "Model: \"sequential_2\"\n",
      "_________________________________________________________________\n",
      "Layer (type)                 Output Shape              Param #   \n",
      "=================================================================\n",
      "model_3 (Functional)         (None, 32)                25120     \n",
      "_________________________________________________________________\n",
      "model_4 (Functional)         (None, 28, 28)            25872     \n",
      "=================================================================\n",
      "Total params: 50,992\n",
      "Trainable params: 50,992\n",
      "Non-trainable params: 0\n",
      "_________________________________________________________________\n"
     ]
    }
   ],
   "source": [
    "autoencoder.summary()"
   ]
  },
  {
   "cell_type": "code",
   "execution_count": 33,
   "id": "b413b251-e723-475e-ab61-5104451f9cd4",
   "metadata": {},
   "outputs": [],
   "source": [
    "autoencoder.compile(optimizer='adam', loss='binary_crossentropy')"
   ]
  },
  {
   "cell_type": "code",
   "execution_count": 34,
   "id": "a6e309cf-1240-4c8c-90b4-637b46e8422f",
   "metadata": {},
   "outputs": [
    {
     "name": "stdout",
     "output_type": "stream",
     "text": [
      "Epoch 1/10\n",
      "120/120 [==============================] - 2s 14ms/step - loss: 0.3418\n",
      "Epoch 2/10\n",
      "120/120 [==============================] - 2s 14ms/step - loss: 0.2091\n",
      "Epoch 3/10\n",
      "120/120 [==============================] - 2s 16ms/step - loss: 0.1748\n",
      "Epoch 4/10\n",
      "120/120 [==============================] - 2s 18ms/step - loss: 0.1566\n",
      "Epoch 5/10\n",
      "120/120 [==============================] - 2s 13ms/step - loss: 0.1436\n",
      "Epoch 6/10\n",
      "120/120 [==============================] - 2s 14ms/step - loss: 0.1343\n",
      "Epoch 7/10\n",
      "120/120 [==============================] - 1s 12ms/step - loss: 0.1271\n",
      "Epoch 8/10\n",
      "120/120 [==============================] - 1s 12ms/step - loss: 0.1211\n",
      "Epoch 9/10\n",
      "120/120 [==============================] - 1s 12ms/step - loss: 0.1162\n",
      "Epoch 10/10\n",
      "120/120 [==============================] - 1s 11ms/step - loss: 0.1120\n"
     ]
    },
    {
     "data": {
      "text/plain": [
       "<tensorflow.python.keras.callbacks.History at 0x7f97e84919d0>"
      ]
     },
     "execution_count": 34,
     "metadata": {},
     "output_type": "execute_result"
    }
   ],
   "source": [
    "autoencoder.fit(x_train, x_train, batch_size=500, epochs=10)"
   ]
  },
  {
   "cell_type": "code",
   "execution_count": 35,
   "id": "5a845377-64bb-4a57-ab55-294721cc341c",
   "metadata": {},
   "outputs": [],
   "source": [
    "outs = autoencoder.predict(x_test[:5])"
   ]
  },
  {
   "cell_type": "code",
   "execution_count": 36,
   "id": "41fb52df-45c1-4740-8a92-c2d65b087b8a",
   "metadata": {},
   "outputs": [
    {
     "data": {
      "text/plain": [
       "<matplotlib.image.AxesImage at 0x7f97e179aa60>"
      ]
     },
     "execution_count": 36,
     "metadata": {},
     "output_type": "execute_result"
    },
    {
     "data": {
      "image/png": "[encoded data removed]",
      "text/plain": [
       "<Figure size 432x288 with 1 Axes>"
      ]
     },
     "metadata": {
      "needs_background": "light"
     },
     "output_type": "display_data"
    }
   ],
   "source": [
    "plt.imshow(outs[3], cmap=\"gray\")"
   ]
  },
  {
   "cell_type": "code",
   "execution_count": null,
   "id": "e1f60ecc-d844-4f9c-962e-db1d4fbb2068",
   "metadata": {},
   "outputs": [],
   "source": []
  }
 ],
 "metadata": {
  "kernelspec": {
   "display_name": "Python 3",
   "language": "python",
   "name": "python3"
  },
  "language_info": {
   "codemirror_mode": {
    "name": "ipython",
    "version": 3
   },
   "file_extension": ".py",
   "mimetype": "text/x-python",
   "name": "python",
   "nbconvert_exporter": "python",
   "pygments_lexer": "ipython3",
   "version": "3.8.8"
  }
 },
 "nbformat": 4,
 "nbformat_minor": 5
}
