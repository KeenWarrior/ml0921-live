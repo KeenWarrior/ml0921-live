{
 "cells": [
  {
   "cell_type": "code",
   "execution_count": 7,
   "id": "9e6c7daf-4d00-4a6e-b86f-bf85cb86579a",
   "metadata": {},
   "outputs": [],
   "source": [
    "from tensorflow.keras.datasets import mnist\n",
    "import numpy as np\n",
    "from tensorflow import keras\n",
    "from tensorflow.keras import layers\n",
    "import matplotlib.pyplot as plt"
   ]
  },
  {
   "cell_type": "code",
   "execution_count": 2,
   "id": "74e07e47-6b1e-47ea-87fc-03034ceb163f",
   "metadata": {},
   "outputs": [],
   "source": [
    "(x_train, y_train), (x_test, y_test) = mnist.load_data()"
   ]
  },
  {
   "cell_type": "code",
   "execution_count": 3,
   "id": "fff143b4-0356-44d0-8216-d24906fa1876",
   "metadata": {},
   "outputs": [],
   "source": [
    "x_train = (x_train/255)\n",
    "x_test = (x_test/255)"
   ]
  },
  {
   "cell_type": "code",
   "execution_count": 4,
   "id": "56c333ee-e542-4fa7-9cb4-023dddf95737",
   "metadata": {},
   "outputs": [],
   "source": [
    "noise = np.random.uniform(0, .8, x_train.shape)"
   ]
  },
  {
   "cell_type": "code",
   "execution_count": 5,
   "id": "65993370-f252-4f80-a5c6-fe363fdc0bec",
   "metadata": {},
   "outputs": [],
   "source": [
    "x_train_noised = x_train + noise"
   ]
  },
  {
   "cell_type": "code",
   "execution_count": 8,
   "id": "37094fc8-452d-41a2-b5d8-71f48a8b3470",
   "metadata": {},
   "outputs": [
    {
     "data": {
      "text/plain": [
       "<matplotlib.image.AxesImage at 0x7fa140619880>"
      ]
     },
     "execution_count": 8,
     "metadata": {},
     "output_type": "execute_result"
    },
    {
     "data": {
      "image/png": "[encoded data removed]",
      "text/plain": [
       "<Figure size 432x288 with 1 Axes>"
      ]
     },
     "metadata": {
      "needs_background": "light"
     },
     "output_type": "display_data"
    }
   ],
   "source": [
    "plt.imshow(x_train_noised[0], cmap=\"gray\")"
   ]
  },
  {
   "cell_type": "code",
   "execution_count": 24,
   "id": "630b3390-f7e5-43c1-b3ea-4de8fb377c7d",
   "metadata": {},
   "outputs": [],
   "source": []
  },
  {
   "cell_type": "code",
   "execution_count": 11,
   "id": "cf32c489-9f0f-4ed3-91c6-780697a2e36a",
   "metadata": {},
   "outputs": [],
   "source": [
    "encoding_dim = 32\n",
    "\n",
    "# encoder\n",
    "input_img = keras.Input(shape=(28, 28))\n",
    "reshape_flat = layers.Reshape([28, 28, 1])(input_img)\n",
    "x = layers.Conv2D(32, (3, 3), activation='relu', padding='same')(reshape_flat)\n",
    "x = layers.MaxPooling2D((2, 2), padding='same')(x)\n",
    "x = layers.Conv2D(32, (3, 3), activation='relu', padding='same')(x)\n",
    "encoded = layers.MaxPooling2D((2, 2), padding='same')(x)\n",
    "encoder = keras.Model(input_img, encoded)\n",
    "\n",
    "# decoder\n",
    "input_encoded = keras.Input(shape=[7, 7, 32])\n",
    "x = layers.Conv2D(32, (3, 3), activation='relu', padding='same')(input_encoded)\n",
    "x = layers.UpSampling2D((2, 2))(x)\n",
    "x = layers.Conv2D(32, (3, 3), activation='relu', padding='same')(x)\n",
    "x = layers.UpSampling2D((2, 2))(x)\n",
    "decoded = layers.Conv2D(1, (3, 3), activation='sigmoid', padding='same')(x)\n",
    "reshape_flat = layers.Reshape([28, 28])(decoded)\n",
    "decoder = keras.Model(input_encoded, reshape_flat)\n",
    "\n",
    "# autoencoder\n",
    "autoencoder = keras.models.Sequential()\n",
    "autoencoder.add(encoder)\n",
    "autoencoder.add(decoder)"
   ]
  },
  {
   "cell_type": "code",
   "execution_count": 12,
   "id": "7a4e948b-0936-407c-a3b2-5c0535eef697",
   "metadata": {},
   "outputs": [
    {
     "name": "stdout",
     "output_type": "stream",
     "text": [
      "Model: \"sequential\"\n",
      "_________________________________________________________________\n",
      "Layer (type)                 Output Shape              Param #   \n",
      "=================================================================\n",
      "model_2 (Functional)         (None, 7, 7, 32)          9568      \n",
      "_________________________________________________________________\n",
      "model_3 (Functional)         (None, 28, 28)            18785     \n",
      "=================================================================\n",
      "Total params: 28,353\n",
      "Trainable params: 28,353\n",
      "Non-trainable params: 0\n",
      "_________________________________________________________________\n"
     ]
    }
   ],
   "source": [
    "autoencoder.summary()"
   ]
  },
  {
   "cell_type": "code",
   "execution_count": 13,
   "id": "b413b251-e723-475e-ab61-5104451f9cd4",
   "metadata": {},
   "outputs": [],
   "source": [
    "autoencoder.compile(optimizer='adam', loss='binary_crossentropy')"
   ]
  },
  {
   "cell_type": "code",
   "execution_count": 14,
   "id": "a6e309cf-1240-4c8c-90b4-637b46e8422f",
   "metadata": {},
   "outputs": [
    {
     "name": "stdout",
     "output_type": "stream",
     "text": [
      "Epoch 1/10\n",
      "120/120 [==============================] - 60s 493ms/step - loss: 0.2673\n",
      "Epoch 2/10\n",
      "120/120 [==============================] - 92s 766ms/step - loss: 0.1121\n",
      "Epoch 3/10\n",
      "120/120 [==============================] - 108s 902ms/step - loss: 0.0971\n",
      "Epoch 4/10\n",
      "120/120 [==============================] - 91s 759ms/step - loss: 0.0919\n",
      "Epoch 5/10\n",
      "120/120 [==============================] - 70s 585ms/step - loss: 0.0893\n",
      "Epoch 6/10\n",
      "120/120 [==============================] - 93s 781ms/step - loss: 0.0875\n",
      "Epoch 7/10\n",
      "120/120 [==============================] - 79s 661ms/step - loss: 0.0861\n",
      "Epoch 8/10\n",
      "120/120 [==============================] - 58s 482ms/step - loss: 0.0853\n",
      "Epoch 9/10\n",
      "120/120 [==============================] - 57s 473ms/step - loss: 0.0845\n",
      "Epoch 10/10\n",
      "120/120 [==============================] - 57s 479ms/step - loss: 0.0838\n"
     ]
    },
    {
     "data": {
      "text/plain": [
       "<tensorflow.python.keras.callbacks.History at 0x7fa140821d30>"
      ]
     },
     "execution_count": 14,
     "metadata": {},
     "output_type": "execute_result"
    }
   ],
   "source": [
    "autoencoder.fit(x_train_noised, x_train, batch_size=500, epochs=10)"
   ]
  },
  {
   "cell_type": "code",
   "execution_count": 32,
   "id": "5a845377-64bb-4a57-ab55-294721cc341c",
   "metadata": {},
   "outputs": [],
   "source": [
    "outs = autoencoder.predict(x_train_noised[:5])"
   ]
  },
  {
   "cell_type": "code",
   "execution_count": 36,
   "id": "41fb52df-45c1-4740-8a92-c2d65b087b8a",
   "metadata": {},
   "outputs": [
    {
     "data": {
      "text/plain": [
       "<matplotlib.image.AxesImage at 0x7fed4163ea30>"
      ]
     },
     "execution_count": 36,
     "metadata": {},
     "output_type": "execute_result"
    },
    {
     "data": {
      "image/png": "[encoded data removed]",
      "text/plain": [
       "<Figure size 432x288 with 1 Axes>"
      ]
     },
     "metadata": {
      "needs_background": "light"
     },
     "output_type": "display_data"
    }
   ],
   "source": [
    "plt.imshow(outs[0], cmap=\"gray\")"
   ]
  },
  {
   "cell_type": "code",
   "execution_count": 37,
   "id": "e1f60ecc-d844-4f9c-962e-db1d4fbb2068",
   "metadata": {},
   "outputs": [
    {
     "data": {
      "text/plain": [
       "<matplotlib.image.AxesImage at 0x7fed41913f10>"
      ]
     },
     "execution_count": 37,
     "metadata": {},
     "output_type": "execute_result"
    },
    {
     "data": {
      "image/png": "[encoded data removed]",
      "text/plain": [
       "<Figure size 432x288 with 1 Axes>"
      ]
     },
     "metadata": {
      "needs_background": "light"
     },
     "output_type": "display_data"
    }
   ],
   "source": [
    "plt.imshow(x_train_noised[0], cmap=\"gray\")"
   ]
  },
  {
   "cell_type": "code",
   "execution_count": null,
   "id": "4e2bdde4-2e49-4fc4-a454-4b3cd5b1be1a",
   "metadata": {},
   "outputs": [],
   "source": []
  },
  {
   "cell_type": "code",
   "execution_count": null,
   "id": "592b3938-1c56-452c-bb1d-e664f8eb4542",
   "metadata": {},
   "outputs": [],
   "source": []
  }
 ],
 "metadata": {
  "kernelspec": {
   "display_name": "Python 3",
   "language": "python",
   "name": "python3"
  },
  "language_info": {
   "codemirror_mode": {
    "name": "ipython",
    "version": 3
   },
   "file_extension": ".py",
   "mimetype": "text/x-python",
   "name": "python",
   "nbconvert_exporter": "python",
   "pygments_lexer": "ipython3",
   "version": "3.8.8"
  }
 },
 "nbformat": 4,
 "nbformat_minor": 5
}
