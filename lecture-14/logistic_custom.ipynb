{
 "cells": [
  {
   "cell_type": "code",
   "execution_count": 3,
   "id": "226c0ae3-a3fc-4b81-a9ef-08cec9b9cccb",
   "metadata": {},
   "outputs": [],
   "source": [
    "import numpy as np\n",
    "import matplotlib.pyplot as plt\n",
    "from sklearn.datasets import make_blobs\n",
    "from sklearn.linear_model import LogisticRegression\n",
    "from sklearn.model_selection import train_test_split"
   ]
  },
  {
   "cell_type": "code",
   "execution_count": 17,
   "id": "03ac4dbd-1509-4cab-871e-e80480f5958e",
   "metadata": {},
   "outputs": [],
   "source": [
    "X, y = make_blobs(n_samples=1000, n_features=2, centers=2, random_state=42)"
   ]
  },
  {
   "cell_type": "code",
   "execution_count": 18,
   "id": "1b904ce8-9d9e-4a53-9248-7b51d9a86e86",
   "metadata": {},
   "outputs": [],
   "source": [
    "X_train, X_test, y_train, y_test = train_test_split(\n",
    "...     X, y, test_size=0.33, random_state=42)"
   ]
  },
  {
   "cell_type": "code",
   "execution_count": 19,
   "id": "1aeb4f2c-892d-459f-ab0b-f80c5cf15d3d",
   "metadata": {},
   "outputs": [],
   "source": [
    "class CustomLogisticReg:\n",
    "    \n",
    "    def __init__(self, lr=1, max_iters=100):\n",
    "        self.lr = lr\n",
    "        self.max_iters = max_iters\n",
    "        \n",
    "    def fit(self, X, y):\n",
    "        \n",
    "        ya = y.reshape([-1, 1])\n",
    "        \n",
    "        self.coef_ = np.zeros([X.shape[1], 1])\n",
    "        self.intercept_ = 0\n",
    "        \n",
    "        for i in range(self.max_iters):\n",
    "            \n",
    "            yp = self.__predict(X)\n",
    "            \n",
    "            delm = (np.dot(X.T, (ya - yp)) / len(X)) * self.lr\n",
    "            delc = (ya - yp).mean() * self.lr\n",
    "            \n",
    "            self.coef_ = self.coef_ - delm\n",
    "            self.intercept_ = self.intercept_ - delc\n",
    "            \n",
    "    def __predict(self, X):\n",
    "        g = np.dot(X, self.coef_) + self.intercept_\n",
    "        yp = 1 / (1 + np.exp(g))\n",
    "        return yp\n",
    "    \n",
    "    def predict(self, X):\n",
    "        g = np.dot(X, self.coef_) + self.intercept_\n",
    "        yp = 1 / (1 + np.exp(g))\n",
    "        \n",
    "        return (yp > .5).astype(int).flatten()\n",
    "    \n",
    "    def score(self, X, y):\n",
    "        yp = self.predict(X)\n",
    "        return (yp == y).mean()"
   ]
  },
  {
   "cell_type": "code",
   "execution_count": 20,
   "id": "2a32645d-c8eb-4b9d-9a75-72cf6e366231",
   "metadata": {},
   "outputs": [],
   "source": [
    "model = CustomLogisticReg()"
   ]
  },
  {
   "cell_type": "code",
   "execution_count": 21,
   "id": "cee7fef1-7431-4282-ad59-fed3ca8c7e9c",
   "metadata": {},
   "outputs": [],
   "source": [
    "model.fit(X_train, y_train)"
   ]
  },
  {
   "cell_type": "code",
   "execution_count": 22,
   "id": "832bc0b6-c6c5-4572-9da6-026d65fe0953",
   "metadata": {},
   "outputs": [
    {
     "data": {
      "text/plain": [
       "array([1, 0, 1, 1, 0, 1, 0, 0, 0, 1])"
      ]
     },
     "execution_count": 22,
     "metadata": {},
     "output_type": "execute_result"
    }
   ],
   "source": [
    "model.predict(X_test[:10])"
   ]
  },
  {
   "cell_type": "code",
   "execution_count": 23,
   "id": "528541ef-3162-4158-afe9-fbe47456a76b",
   "metadata": {},
   "outputs": [
    {
     "data": {
      "text/plain": [
       "array([1, 0, 1, 1, 0, 1, 0, 0, 0, 1])"
      ]
     },
     "execution_count": 23,
     "metadata": {},
     "output_type": "execute_result"
    }
   ],
   "source": [
    "y_test[:10]"
   ]
  },
  {
   "cell_type": "code",
   "execution_count": 24,
   "id": "82880664-0b23-486d-a080-5a1fae8417ee",
   "metadata": {},
   "outputs": [
    {
     "data": {
      "text/plain": [
       "1.0"
      ]
     },
     "execution_count": 24,
     "metadata": {},
     "output_type": "execute_result"
    }
   ],
   "source": [
    "model.score(X_test, y_test)"
   ]
  },
  {
   "cell_type": "code",
   "execution_count": 25,
   "id": "bfdcd3c7-79cb-43e4-9e1f-8869e8a9c673",
   "metadata": {},
   "outputs": [
    {
     "data": {
      "text/plain": [
       "array([[-2.52560745],\n",
       "       [ 0.80170508]])"
      ]
     },
     "execution_count": 25,
     "metadata": {},
     "output_type": "execute_result"
    }
   ],
   "source": [
    "model.coef_"
   ]
  },
  {
   "cell_type": "code",
   "execution_count": 26,
   "id": "cd2956ee-beb1-4c9a-af50-2babec6b13f1",
   "metadata": {},
   "outputs": [
    {
     "data": {
      "text/plain": [
       "-0.2656613342561513"
      ]
     },
     "execution_count": 26,
     "metadata": {},
     "output_type": "execute_result"
    }
   ],
   "source": [
    "model.intercept_"
   ]
  },
  {
   "cell_type": "code",
   "execution_count": null,
   "id": "637e7bcc-1519-4dec-9500-1ea82e53e7ff",
   "metadata": {},
   "outputs": [],
   "source": []
  }
 ],
 "metadata": {
  "kernelspec": {
   "display_name": "Python 3",
   "language": "python",
   "name": "python3"
  },
  "language_info": {
   "codemirror_mode": {
    "name": "ipython",
    "version": 3
   },
   "file_extension": ".py",
   "mimetype": "text/x-python",
   "name": "python",
   "nbconvert_exporter": "python",
   "pygments_lexer": "ipython3",
   "version": "3.8.8"
  }
 },
 "nbformat": 4,
 "nbformat_minor": 5
}
