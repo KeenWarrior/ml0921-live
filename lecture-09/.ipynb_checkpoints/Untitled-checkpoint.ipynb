{
 "cells": [
  {
   "cell_type": "code",
   "execution_count": 1,
   "id": "84648c4b-89a6-4b16-a644-bbf3de1e9843",
   "metadata": {},
   "outputs": [],
   "source": [
    "from sklearn.neighbors import KNeighborsClassifier\n",
    "from sklearn.datasets import make_blobs\n",
    "from sklearn.model_selection import train_test_split\n",
    "import matplotlib.pyplot as plt\n"
   ]
  },
  {
   "cell_type": "code",
   "execution_count": 2,
   "id": "d57bdbc7-9982-43dd-98b2-6ac4d0e3b191",
   "metadata": {},
   "outputs": [],
   "source": [
    "import pandas as pd\n",
    "df = pd.read_csv(\"../data/mnist_test.csv\")\n",
    "\n",
    "data = df.values\n",
    "\n",
    "X = data[:, 1:]\n",
    "y = data[:, 0]\n",
    "\n",
    "X_train, X_test, y_train, y_test = train_test_split(\n",
    "...     X, y, test_size=0.33, random_state=42)\n",
    "\n",
    "model = KNeighborsClassifier(10)\n",
    "\n",
    "model.fit(X_train, y_train)\n",
    "\n",
    "for img in X_test[:10]:\n",
    "    plt.figure()\n",
    "    plt.imshow(img.reshape([28, 28]), cmap=\"gray\")\n",
    "    plt.title(str(model.predict([img])))"
   ]
  },
  {
   "cell_type": "code",
   "execution_count": null,
   "id": "33cde938-b0a9-453d-8e33-9419e5f72ed9",
   "metadata": {},
   "outputs": [],
   "source": []
  }
 ],
 "metadata": {
  "kernelspec": {
   "display_name": "Python 3",
   "language": "python",
   "name": "python3"
  },
  "language_info": {
   "codemirror_mode": {
    "name": "ipython",
    "version": 3
   },
   "file_extension": ".py",
   "mimetype": "text/x-python",
   "name": "python",
   "nbconvert_exporter": "python",
   "pygments_lexer": "ipython3",
   "version": "3.8.8"
  }
 },
 "nbformat": 4,
 "nbformat_minor": 5
}
