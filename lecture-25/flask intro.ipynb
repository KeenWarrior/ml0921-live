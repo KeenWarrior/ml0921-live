{
 "cells": [
  {
   "cell_type": "code",
   "execution_count": 10,
   "id": "ce5725a3-7674-4206-bbc5-194a512ef8e9",
   "metadata": {},
   "outputs": [],
   "source": [
    "from flask import Flask\n",
    "import json"
   ]
  },
  {
   "cell_type": "code",
   "execution_count": null,
   "id": "07fe7cab-b7b5-434a-82dd-1aa9f1316666",
   "metadata": {},
   "outputs": [
    {
     "name": "stdout",
     "output_type": "stream",
     "text": [
      " * Serving Flask app \"myappname\" (lazy loading)\n",
      " * Environment: production\n",
      "\u001b[31m   WARNING: This is a development server. Do not use it in a production deployment.\u001b[0m\n",
      "\u001b[2m   Use a production WSGI server instead.\u001b[0m\n",
      " * Debug mode: off\n"
     ]
    },
    {
     "name": "stderr",
     "output_type": "stream",
     "text": [
      " * Running on http://127.0.0.1:5000/ (Press CTRL+C to quit)\n",
      "127.0.0.1 - - [16/Nov/2021 21:17:01] \"\u001b[37mGET / HTTP/1.1\u001b[0m\" 200 -\n",
      "127.0.0.1 - - [16/Nov/2021 21:17:08] \"\u001b[33mGET /users/ HTTP/1.1\u001b[0m\" 404 -\n",
      "127.0.0.1 - - [16/Nov/2021 21:17:11] \"\u001b[37mGET /users/vasu HTTP/1.1\u001b[0m\" 200 -\n"
     ]
    },
    {
     "name": "stdout",
     "output_type": "stream",
     "text": [
      "vasu\n"
     ]
    }
   ],
   "source": [
    "app = Flask(\"myappname\")\n",
    "\n",
    "users = [\"anuj\", \"vasu\", \"mahima\", \"shlok\"]\n",
    "\n",
    "@app.route(\"/\")\n",
    "def hello_world():\n",
    "    return 'Hello from Code for Cause!'\n",
    "\n",
    "@app.route(\"/users/<user>\")\n",
    "def hello_users(user):\n",
    "    print(user)\n",
    "    return json.dumps(users)\n",
    "\n",
    "app.run()"
   ]
  },
  {
   "cell_type": "code",
   "execution_count": 14,
   "id": "ac45d80a-a7d6-4947-9a8c-9d3c642a0690",
   "metadata": {},
   "outputs": [
    {
     "data": {
      "text/plain": [
       "'[\"anuj\", \"vasu\", \"mahima\", \"shlok\"]'"
      ]
     },
     "execution_count": 14,
     "metadata": {},
     "output_type": "execute_result"
    }
   ],
   "source": [
    "json.dumps(users)"
   ]
  },
  {
   "cell_type": "code",
   "execution_count": null,
   "id": "f680ce96-4dec-41f3-8dea-0a43535ba069",
   "metadata": {},
   "outputs": [],
   "source": []
  }
 ],
 "metadata": {
  "kernelspec": {
   "display_name": "Python 3",
   "language": "python",
   "name": "python3"
  },
  "language_info": {
   "codemirror_mode": {
    "name": "ipython",
    "version": 3
   },
   "file_extension": ".py",
   "mimetype": "text/x-python",
   "name": "python",
   "nbconvert_exporter": "python",
   "pygments_lexer": "ipython3",
   "version": "3.8.8"
  }
 },
 "nbformat": 4,
 "nbformat_minor": 5
}
