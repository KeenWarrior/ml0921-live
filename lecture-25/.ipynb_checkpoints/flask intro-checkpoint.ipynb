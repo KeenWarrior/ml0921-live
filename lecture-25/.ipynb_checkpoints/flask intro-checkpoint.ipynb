{
 "cells": [
  {
   "cell_type": "code",
   "execution_count": 1,
   "id": "ce5725a3-7674-4206-bbc5-194a512ef8e9",
   "metadata": {},
   "outputs": [],
   "source": [
    "from flask import Flask"
   ]
  },
  {
   "cell_type": "code",
   "execution_count": 2,
   "id": "07fe7cab-b7b5-434a-82dd-1aa9f1316666",
   "metadata": {},
   "outputs": [],
   "source": [
    "app = Flask(\"myappname\")\n",
    "\n",
    "@app.route(\"/\")\n",
    "def hello_world():\n",
    "    return 'Hello from Code for Cause!'\n",
    "\n",
    "app.run()"
   ]
  },
  {
   "cell_type": "code",
   "execution_count": null,
   "id": "ac45d80a-a7d6-4947-9a8c-9d3c642a0690",
   "metadata": {},
   "outputs": [],
   "source": []
  }
 ],
 "metadata": {
  "kernelspec": {
   "display_name": "Python 3",
   "language": "python",
   "name": "python3"
  },
  "language_info": {
   "codemirror_mode": {
    "name": "ipython",
    "version": 3
   },
   "file_extension": ".py",
   "mimetype": "text/x-python",
   "name": "python",
   "nbconvert_exporter": "python",
   "pygments_lexer": "ipython3",
   "version": "3.8.8"
  }
 },
 "nbformat": 4,
 "nbformat_minor": 5
}
