{
 "cells": [
  {
   "cell_type": "code",
   "execution_count": 70,
   "id": "a1fa0145-4ddb-4adb-a69c-6093009f52c5",
   "metadata": {},
   "outputs": [],
   "source": [
    "import random"
   ]
  },
  {
   "cell_type": "code",
   "execution_count": 71,
   "id": "a0c8e0cc-bad2-4b0e-8b94-c3821608866e",
   "metadata": {},
   "outputs": [],
   "source": [
    "fp = open(\"song.txt\")\n",
    "text = fp.read().lower()"
   ]
  },
  {
   "cell_type": "code",
   "execution_count": 72,
   "id": "36f6a9fa-16de-437b-bb61-0b09fe5756de",
   "metadata": {},
   "outputs": [],
   "source": [
    "freq = {}\n",
    "n = 7"
   ]
  },
  {
   "cell_type": "code",
   "execution_count": 73,
   "id": "a14319a6-30e8-4297-9cc0-e84cf1de9a9a",
   "metadata": {},
   "outputs": [
    {
     "data": {
      "text/plain": [
       "0"
      ]
     },
     "execution_count": 73,
     "metadata": {},
     "output_type": "execute_result"
    }
   ],
   "source": [
    "len(text)"
   ]
  },
  {
   "cell_type": "code",
   "execution_count": 65,
   "id": "38f8896f-c875-4bea-89f4-9e761c969db4",
   "metadata": {},
   "outputs": [],
   "source": [
    "for index in range(len(text)-n):\n",
    "    \n",
    "    cut = text[index: index+n]\n",
    "    upcoming = text[index+n]\n",
    "    \n",
    "    if cut not in freq:\n",
    "        freq[cut] = {}\n",
    "        \n",
    "    if upcoming not in freq[cut]:\n",
    "        freq[cut][upcoming] = 0\n",
    "        \n",
    "    freq[cut][upcoming] += 1"
   ]
  },
  {
   "cell_type": "code",
   "execution_count": 66,
   "id": "2014f5b3-f590-4dae-9c32-81ee0c524703",
   "metadata": {},
   "outputs": [],
   "source": [
    "# freq"
   ]
  },
  {
   "cell_type": "code",
   "execution_count": 67,
   "id": "11610dc2-0b23-49cb-ab5c-2464d86dadf1",
   "metadata": {},
   "outputs": [],
   "source": [
    "seed = \"\"\"Kaun bola mujhe na ho payega?\"\"\""
   ]
  },
  {
   "cell_type": "code",
   "execution_count": 68,
   "id": "c6f0b906-0470-428b-96a2-135fb6052530",
   "metadata": {},
   "outputs": [
    {
     "ename": "KeyError",
     "evalue": "'payega?'",
     "output_type": "error",
     "traceback": [
      "\u001b[0;31m---------------------------------------------------------------------------\u001b[0m",
      "\u001b[0;31mKeyError\u001b[0m                                  Traceback (most recent call last)",
      "\u001b[0;32m<ipython-input-68-e8011c338898>\u001b[0m in \u001b[0;36m<module>\u001b[0;34m\u001b[0m\n\u001b[1;32m      1\u001b[0m \u001b[0;32mfor\u001b[0m \u001b[0m_\u001b[0m \u001b[0;32min\u001b[0m \u001b[0mrange\u001b[0m\u001b[0;34m(\u001b[0m\u001b[0;36m1000\u001b[0m\u001b[0;34m)\u001b[0m\u001b[0;34m:\u001b[0m\u001b[0;34m\u001b[0m\u001b[0;34m\u001b[0m\u001b[0m\n\u001b[1;32m      2\u001b[0m     \u001b[0mlast\u001b[0m \u001b[0;34m=\u001b[0m \u001b[0mseed\u001b[0m\u001b[0;34m[\u001b[0m\u001b[0;34m-\u001b[0m\u001b[0mn\u001b[0m\u001b[0;34m:\u001b[0m\u001b[0;34m]\u001b[0m\u001b[0;34m\u001b[0m\u001b[0;34m\u001b[0m\u001b[0m\n\u001b[0;32m----> 3\u001b[0;31m     \u001b[0mfreq\u001b[0m\u001b[0;34m[\u001b[0m\u001b[0mlast\u001b[0m\u001b[0;34m]\u001b[0m\u001b[0;34m.\u001b[0m\u001b[0mitems\u001b[0m\u001b[0;34m(\u001b[0m\u001b[0;34m)\u001b[0m\u001b[0;34m\u001b[0m\u001b[0;34m\u001b[0m\u001b[0m\n\u001b[0m\u001b[1;32m      4\u001b[0m     \u001b[0mchosen\u001b[0m \u001b[0;34m=\u001b[0m \u001b[0mrandom\u001b[0m\u001b[0;34m.\u001b[0m\u001b[0mchoice\u001b[0m\u001b[0;34m(\u001b[0m\u001b[0mlist\u001b[0m\u001b[0;34m(\u001b[0m\u001b[0mfreq\u001b[0m\u001b[0;34m[\u001b[0m\u001b[0mlast\u001b[0m\u001b[0;34m]\u001b[0m\u001b[0;34m.\u001b[0m\u001b[0mitems\u001b[0m\u001b[0;34m(\u001b[0m\u001b[0;34m)\u001b[0m\u001b[0;34m)\u001b[0m\u001b[0;34m)\u001b[0m\u001b[0;34m\u001b[0m\u001b[0;34m\u001b[0m\u001b[0m\n\u001b[1;32m      5\u001b[0m     \u001b[0mseed\u001b[0m \u001b[0;34m=\u001b[0m \u001b[0mseed\u001b[0m \u001b[0;34m+\u001b[0m \u001b[0mchosen\u001b[0m\u001b[0;34m[\u001b[0m\u001b[0;36m0\u001b[0m\u001b[0;34m]\u001b[0m\u001b[0;34m\u001b[0m\u001b[0;34m\u001b[0m\u001b[0m\n",
      "\u001b[0;31mKeyError\u001b[0m: 'payega?'"
     ]
    }
   ],
   "source": [
    "for _ in range(1000):\n",
    "    last = seed[-n:]\n",
    "    freq[last].items()\n",
    "    chosen = random.choice(list(freq[last].items()))\n",
    "    seed = seed + chosen[0]"
   ]
  },
  {
   "cell_type": "code",
   "execution_count": 69,
   "id": "1f670334-0aa7-4e3c-b43f-f2728e7aed48",
   "metadata": {},
   "outputs": [
    {
     "name": "stdout",
     "output_type": "stream",
     "text": [
      "Kaun bola mujhe na ho payega?\n"
     ]
    }
   ],
   "source": [
    "print(seed)"
   ]
  },
  {
   "cell_type": "code",
   "execution_count": null,
   "id": "d2b16003-8214-4a53-897b-10a226956667",
   "metadata": {},
   "outputs": [],
   "source": []
  },
  {
   "cell_type": "code",
   "execution_count": null,
   "id": "cb535954-9fab-4e56-a5d3-a70f8c4509cf",
   "metadata": {},
   "outputs": [],
   "source": []
  }
 ],
 "metadata": {
  "kernelspec": {
   "display_name": "Python 3",
   "language": "python",
   "name": "python3"
  },
  "language_info": {
   "codemirror_mode": {
    "name": "ipython",
    "version": 3
   },
   "file_extension": ".py",
   "mimetype": "text/x-python",
   "name": "python",
   "nbconvert_exporter": "python",
   "pygments_lexer": "ipython3",
   "version": "3.8.8"
  }
 },
 "nbformat": 4,
 "nbformat_minor": 5
}
