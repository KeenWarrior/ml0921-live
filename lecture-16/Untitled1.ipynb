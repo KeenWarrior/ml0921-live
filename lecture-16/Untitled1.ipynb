{
 "cells": [
  {
   "cell_type": "code",
   "execution_count": 74,
   "id": "a1fa0145-4ddb-4adb-a69c-6093009f52c5",
   "metadata": {},
   "outputs": [],
   "source": [
    "import random"
   ]
  },
  {
   "cell_type": "code",
   "execution_count": 75,
   "id": "a0c8e0cc-bad2-4b0e-8b94-c3821608866e",
   "metadata": {},
   "outputs": [],
   "source": [
    "fp = open(\"song.txt\")\n",
    "text = fp.read().lower()"
   ]
  },
  {
   "cell_type": "code",
   "execution_count": 76,
   "id": "36f6a9fa-16de-437b-bb61-0b09fe5756de",
   "metadata": {},
   "outputs": [],
   "source": [
    "freq = {}\n",
    "n = 7"
   ]
  },
  {
   "cell_type": "code",
   "execution_count": 77,
   "id": "a14319a6-30e8-4297-9cc0-e84cf1de9a9a",
   "metadata": {},
   "outputs": [
    {
     "data": {
      "text/plain": [
       "1729"
      ]
     },
     "execution_count": 77,
     "metadata": {},
     "output_type": "execute_result"
    }
   ],
   "source": [
    "len(text)"
   ]
  },
  {
   "cell_type": "code",
   "execution_count": 78,
   "id": "38f8896f-c875-4bea-89f4-9e761c969db4",
   "metadata": {},
   "outputs": [],
   "source": [
    "for index in range(len(text)-n):\n",
    "    \n",
    "    cut = text[index: index+n]\n",
    "    upcoming = text[index+n]\n",
    "    \n",
    "    if cut not in freq:\n",
    "        freq[cut] = {}\n",
    "        \n",
    "    if upcoming not in freq[cut]:\n",
    "        freq[cut][upcoming] = 0\n",
    "        \n",
    "    freq[cut][upcoming] += 1"
   ]
  },
  {
   "cell_type": "code",
   "execution_count": 79,
   "id": "2014f5b3-f590-4dae-9c32-81ee0c524703",
   "metadata": {},
   "outputs": [],
   "source": [
    "# freq"
   ]
  },
  {
   "cell_type": "code",
   "execution_count": 80,
   "id": "11610dc2-0b23-49cb-ab5c-2464d86dadf1",
   "metadata": {},
   "outputs": [],
   "source": [
    "seed = \"\"\"Kaun bola mujhe na ho payega?\"\"\""
   ]
  },
  {
   "cell_type": "code",
   "execution_count": 81,
   "id": "c6f0b906-0470-428b-96a2-135fb6052530",
   "metadata": {},
   "outputs": [],
   "source": [
    "for _ in range(1000):\n",
    "    last = seed[-n:]\n",
    "    freq[last].items()\n",
    "    chosen = random.choice(list(freq[last].items()))\n",
    "    seed = seed + chosen[0]"
   ]
  },
  {
   "cell_type": "code",
   "execution_count": 82,
   "id": "1f670334-0aa7-4e3c-b43f-f2728e7aed48",
   "metadata": {},
   "outputs": [
    {
     "name": "stdout",
     "output_type": "stream",
     "text": [
      "Kaun bola mujhe na ho payega?\n",
      "kaun bola, kaun bola, kaun bola?\n",
      "\n",
      "apna time aayega!\n",
      "tu nanga hi toh khaayega\n",
      "zinda mera khwab\n",
      "ab kaise tu dafnayega\n",
      "\n",
      "apna time aayega!\n",
      "tu nanga hi toh khaayega\n",
      "ye shabdo ka jwaala\n",
      "meri bediyan pighlaayega\n",
      "\n",
      "kal nanga hi toh jayega na\n",
      "tu nanga hi toh jayega na\n",
      "tu nanga hi toh aaya hai\n",
      "tu utna hi toh aaya hai\n",
      "tu utna hi toh khaayega\n",
      "tu nanga hi toh khaayega\n",
      "apna time aayega!\n",
      "apna time aayega\n",
      "ye shabdo ka jwaala\n",
      "meri bediyan pighlaayega\n",
      "jitna tune boya hai\n",
      "tu utna hi toh aaya hai\n",
      "tu utna hi toh khaayega\n",
      "zinda mera khwaab hai\n",
      "jo dar ko bhi sataayega\n",
      "tu nanga hi toh aaya hai\n",
      "tu utna hi toh aaya tha\n",
      "kya tu ghanta lekar…\n",
      "\n",
      "kisi ka haath nahi tha sar par\n",
      "yahan par aaya khudki mehnat se main\n",
      "jitni taakat kismat mein nahi\n",
      "utni rehmat mein hai\n",
      "phir bhi ladka sehmat nahi hai\n",
      "kya ghanta lekar…\n",
      "\n",
      "kisi ka haath nahi hai seene mein\n",
      "kyun?\n",
      "\n",
      "kyunki hairat nahi hai seene mein\n",
      "kyun?\n",
      "\n",
      "kyunki hairat nahi hai seene mein\n",
      "kyun?\n",
      "\n",
      "kyunki apna time aayega!\n",
      "\n",
      "apna time aayega na\n",
      "tu nanga hi toh aaya tha\n",
      "kya tu ghanta \n"
     ]
    }
   ],
   "source": [
    "print(seed)"
   ]
  },
  {
   "cell_type": "code",
   "execution_count": null,
   "id": "d2b16003-8214-4a53-897b-10a226956667",
   "metadata": {},
   "outputs": [],
   "source": []
  },
  {
   "cell_type": "code",
   "execution_count": null,
   "id": "cb535954-9fab-4e56-a5d3-a70f8c4509cf",
   "metadata": {},
   "outputs": [],
   "source": []
  },
  {
   "cell_type": "code",
   "execution_count": null,
   "id": "7b5aaff3-3f3e-481c-ac79-37c8f9fbd0f5",
   "metadata": {},
   "outputs": [],
   "source": []
  },
  {
   "cell_type": "code",
   "execution_count": null,
   "id": "bf84c5cf-5a5b-4de6-a210-4430bb4e699c",
   "metadata": {},
   "outputs": [],
   "source": []
  }
 ],
 "metadata": {
  "kernelspec": {
   "display_name": "Python 3",
   "language": "python",
   "name": "python3"
  },
  "language_info": {
   "codemirror_mode": {
    "name": "ipython",
    "version": 3
   },
   "file_extension": ".py",
   "mimetype": "text/x-python",
   "name": "python",
   "nbconvert_exporter": "python",
   "pygments_lexer": "ipython3",
   "version": "3.8.8"
  }
 },
 "nbformat": 4,
 "nbformat_minor": 5
}
